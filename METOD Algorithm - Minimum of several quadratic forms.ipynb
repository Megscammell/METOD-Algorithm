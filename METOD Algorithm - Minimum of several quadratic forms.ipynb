{
 "cells": [
  {
   "cell_type": "markdown",
   "metadata": {},
   "source": [
    "# METOD algorithm procedure guide for minimum of several quadratic forms"
   ]
  },
  {
   "cell_type": "markdown",
   "metadata": {},
   "source": [
    "# 1. Import libraries"
   ]
  },
  {
   "cell_type": "markdown",
   "metadata": {},
   "source": [
    "The following libraries are required in order for the METOD Algorithm to run."
   ]
  },
  {
   "cell_type": "code",
   "execution_count": 1,
   "metadata": {},
   "outputs": [
    {
     "name": "stderr",
     "output_type": "stream",
     "text": [
      "/Users/megscammell/anaconda3/lib/python3.6/site-packages/dask/config.py:168: YAMLLoadWarning: calling yaml.load() without Loader=... is deprecated, as the default Loader is unsafe. Please read https://msg.pyyaml.org/load for full details.\n"
     ]
    }
   ],
   "source": [
    "import numpy as np\n",
    "import sys  \n",
    "sys.path.insert(0, 'src')\n",
    "import metod_testing as mtv3\n",
    "from numpy import linalg as LA\n",
    "import pandas as pd"
   ]
  },
  {
   "cell_type": "markdown",
   "metadata": {},
   "source": [
    "# 2. Define function and gradient"
   ]
  },
  {
   "cell_type": "markdown",
   "metadata": {},
   "source": [
    "Minimum of several quadratic forms:\n",
    " \\begin{equation}\n",
    " \\label{eq:model}\n",
    "f(x_n^{(k)})=\\min_{1\\le p \\le P}  (x_n^{(k)}-x_{0p})^T A_p^T \\Sigma_p A_p (x_n^{(k)}-x_{0p}),\n",
    "\\end{equation}\n",
    "where $x_n^{(k)}$ ($n=1,...,N$) is a point with $k$ iterations of steepest descent applied, $P$ is the number of minima; $A_p$ ($p=1,...,P$) are randomly chosen rotation matrices of size $d\\times d$; $\\Sigma_p$ ($p=1,...,P$) are diagonal positive definite matrices of size $d\\times d$;  $x_{0p}$ ($p=1,...,P$) are random points in $\\mathfrak{X}$. \n",
    "\n",
    "Note that steepest descent iterations are terminated at the smallest $k=K_n$ such that $\\nabla f(x_n^{(k)}) < \\delta$. \n",
    "\n",
    "We can find:\n",
    "\\begin{equation}\n",
    "p_n = {\\rm argmin}_{1\\le p \\le P}  (x_n^{(k)}-x_{0p})^T A_p^T \\Sigma_p A_p (x_n^{(k)}-x_{0p})\n",
    "\\end{equation}\n",
    "\n",
    "Then for $x_n^{(k)}$, the gradient is:\n",
    "\\begin{equation}\n",
    "\t\\label{eq:modelgrad}\n",
    "\t\\nabla f(x_n^{(k)})= 2  A_{p_n}^T \\Sigma_{p_n} A_{p_n} (x_n^{(k)}-x_{0p_n})\\,\n",
    "\\end{equation}\n",
    "\n",
    "\n"
   ]
  },
  {
   "cell_type": "code",
   "execution_count": 2,
   "metadata": {},
   "outputs": [],
   "source": [
    "f = mtv3.quad_function\n",
    "g = mtv3.quad_gradient"
   ]
  },
  {
   "cell_type": "markdown",
   "metadata": {},
   "source": [
    "# 3. Defining parameters"
   ]
  },
  {
   "cell_type": "markdown",
   "metadata": {},
   "source": [
    "The following parameters are required in order to derive $A_p$ ($p=1,...,P$) ; $\\Sigma_p$ ($p=1,...,P$) and $x_{0p}$ ($p=1,...,P$).\n",
    "\n",
    "We have:\n",
    "\n",
    "•d: dimension\n",
    "\n",
    "•P: number of minima\n",
    "\n",
    "•lambda_1: smallest eigenvalue of $\\Sigma_p$ ($p=1,...,P$)\n",
    "\n",
    "•lambda_1: largest eigenvalue of $\\Sigma_p$ ($p=1,...,P$)\n"
   ]
  },
  {
   "cell_type": "code",
   "execution_count": 3,
   "metadata": {},
   "outputs": [],
   "source": [
    "d = 20\n",
    "P = 5\n",
    "lambda_1 = 1\n",
    "lambda_2 = 10"
   ]
  },
  {
   "cell_type": "code",
   "execution_count": 4,
   "metadata": {},
   "outputs": [],
   "source": [
    "store_x0, matrix_combined = mtv3.function_parameters_quad(P, d, lambda_1, lambda_2)"
   ]
  },
  {
   "cell_type": "markdown",
   "metadata": {},
   "source": [
    "We have:\n",
    "\n",
    "•store_x0: $x_{0p}$ ($p=1,...,P$)\n",
    "\n",
    "•matrix_combined: $A_p^T \\Sigma_p A_p$ ($p=1,...,P$)\n"
   ]
  },
  {
   "cell_type": "code",
   "execution_count": 5,
   "metadata": {},
   "outputs": [],
   "source": [
    "args = P, store_x0, matrix_combined"
   ]
  },
  {
   "cell_type": "markdown",
   "metadata": {},
   "source": [
    "# 4. Run METOD Algorithm"
   ]
  },
  {
   "cell_type": "markdown",
   "metadata": {},
   "source": [
    "Please see ??? for more information on how to choose appropiate parameters for the METOD Algorithm. "
   ]
  },
  {
   "cell_type": "code",
   "execution_count": 6,
   "metadata": {},
   "outputs": [
    {
     "name": "stderr",
     "output_type": "stream",
     "text": [
      "100%|██████████| 999/999 [00:17<00:00, 55.97it/s]\n"
     ]
    }
   ],
   "source": [
    "discovered_minima, number_minima, func_vals_of_minima, excessive_no_descents  = mtv3.metod(f, g, args, d)"
   ]
  },
  {
   "cell_type": "markdown",
   "metadata": {},
   "source": [
    "# 5. Results of the METOD Algorithm"
   ]
  },
  {
   "cell_type": "markdown",
   "metadata": {},
   "source": [
    "Total number of minima found:"
   ]
  },
  {
   "cell_type": "code",
   "execution_count": 7,
   "metadata": {},
   "outputs": [
    {
     "data": {
      "text/plain": [
       "5"
      ]
     },
     "execution_count": 7,
     "metadata": {},
     "output_type": "execute_result"
    }
   ],
   "source": [
    "number_minima"
   ]
  },
  {
   "cell_type": "markdown",
   "metadata": {},
   "source": [
    "Positions of minima:"
   ]
  },
  {
   "cell_type": "code",
   "execution_count": 8,
   "metadata": {},
   "outputs": [
    {
     "data": {
      "text/plain": [
       "[array([0.48571686, 0.54532348, 0.22858454, 0.80948386, 0.73597094,\n",
       "        0.53052243, 0.16251004, 0.02229008, 0.6980381 , 0.93060659,\n",
       "        0.12201367, 0.80763152, 0.42051281, 0.05591158, 0.64089777,\n",
       "        0.13401022, 0.40163732, 0.41242032, 0.01281469, 0.18989694]),\n",
       " array([1.83098195e-01, 8.80944259e-01, 7.32216073e-01, 1.35802327e-01,\n",
       "        9.81224478e-01, 2.01586543e-01, 7.97188978e-01, 4.53558897e-01,\n",
       "        6.46596308e-01, 1.26334701e-01, 7.97751469e-01, 6.94827040e-01,\n",
       "        7.26584749e-01, 4.31101045e-01, 3.30969951e-02, 9.63004172e-01,\n",
       "        2.41602918e-01, 1.56868953e-01, 5.53110047e-04, 1.64174248e-01]),\n",
       " array([0.55981783, 0.56438381, 0.80250847, 0.816774  , 0.2351211 ,\n",
       "        0.05794978, 0.780737  , 0.89566251, 0.06717824, 0.80418393,\n",
       "        0.69675874, 0.18417236, 0.11432095, 0.60613755, 0.18863907,\n",
       "        0.97941414, 0.69218386, 0.27183858, 0.59987028, 0.64599616]),\n",
       " array([0.53769703, 0.5392158 , 0.37252267, 0.3951745 , 0.54461389,\n",
       "        0.0830346 , 0.5198685 , 0.33602978, 0.04989558, 0.92544979,\n",
       "        0.32873709, 0.039833  , 0.14415378, 0.1910178 , 0.6119537 ,\n",
       "        0.96223457, 0.48994151, 0.43634955, 0.46774919, 0.23382176]),\n",
       " array([0.6340205 , 0.00714109, 0.05802184, 0.36633229, 0.90664093,\n",
       "        0.94997502, 0.92701149, 0.0564175 , 0.00410883, 0.78080857,\n",
       "        0.03298999, 0.67027924, 0.41834391, 0.8096734 , 0.5376886 ,\n",
       "        0.04590681, 0.17760183, 0.43803581, 0.147461  , 0.73657481])]"
      ]
     },
     "execution_count": 8,
     "metadata": {},
     "output_type": "execute_result"
    }
   ],
   "source": [
    "discovered_minima"
   ]
  },
  {
   "cell_type": "markdown",
   "metadata": {},
   "source": [
    "Function values of minima:"
   ]
  },
  {
   "cell_type": "code",
   "execution_count": 9,
   "metadata": {},
   "outputs": [
    {
     "data": {
      "text/plain": [
       "[1.4673236911527896e-11,\n",
       " 1.0867771969051146e-11,\n",
       " 1.1664952516620297e-11,\n",
       " 1.255658033536304e-11,\n",
       " 1.0777104326605999e-11]"
      ]
     },
     "execution_count": 9,
     "metadata": {},
     "output_type": "execute_result"
    }
   ],
   "source": [
    "func_vals_of_minima"
   ]
  },
  {
   "cell_type": "markdown",
   "metadata": {},
   "source": [
    "Total number of extra descents to an already discovered minima:"
   ]
  },
  {
   "cell_type": "code",
   "execution_count": 10,
   "metadata": {},
   "outputs": [
    {
     "data": {
      "text/plain": [
       "0"
      ]
     },
     "execution_count": 10,
     "metadata": {},
     "output_type": "execute_result"
    }
   ],
   "source": [
    "excessive_no_descents"
   ]
  },
  {
   "cell_type": "markdown",
   "metadata": {},
   "source": [
    "# 6. Save results to csv file (optional)"
   ]
  },
  {
   "cell_type": "markdown",
   "metadata": {},
   "source": [
    "The below csv files will be saved to the same folder which contains the METOD Algorithm - Minimum of several quadratic forms notebook."
   ]
  },
  {
   "cell_type": "markdown",
   "metadata": {},
   "source": [
    "Minima in msqf_discovered_minimas_d_%s_p_%s.csv are saved such that each row represents one discovered minima. The total number of rows will be the same as the value for number_minima."
   ]
  },
  {
   "cell_type": "code",
   "execution_count": null,
   "metadata": {},
   "outputs": [],
   "source": [
    "np.savetxt('msqf_discovered_minimas_d_%s_p_%s.csv' % (d, P), discovered_minima, delimiter=\",\")"
   ]
  },
  {
   "cell_type": "markdown",
   "metadata": {},
   "source": [
    "Values in msqf_func_vals_discovered_minimas_d_%s_p_%s are saved such that each row represents the function value of a minima. The total number of rows will be the same as the value for number_minima."
   ]
  },
  {
   "cell_type": "code",
   "execution_count": null,
   "metadata": {},
   "outputs": [],
   "source": [
    "np.savetxt('msqf_func_vals_discovered_minimas_d_%s_p_%s.csv' % (d, P), func_vals_of_minima, delimiter=\",\")"
   ]
  },
  {
   "cell_type": "markdown",
   "metadata": {},
   "source": [
    "msqf_summary_table_d_%s_p_%s.csv will contain the total number of minima discovered and the total number of extra descents."
   ]
  },
  {
   "cell_type": "code",
   "execution_count": null,
   "metadata": {},
   "outputs": [],
   "source": [
    "summary_table = pd.DataFrame({\n",
    "\"Total number of unique minima\": [number_minima],\n",
    "\"Extra descents\": [excessive_no_descents]})\n",
    "summary_table.to_csv('msqf_summary_table_d_%s_p_%s.csv' % (d, P))"
   ]
  },
  {
   "cell_type": "markdown",
   "metadata": {},
   "source": [
    "# 7. Test results (optional)"
   ]
  },
  {
   "cell_type": "markdown",
   "metadata": {},
   "source": [
    "This test can only be used for the minimum of several quadratic forms function.\n",
    "\n",
    "To check each discovered minima is unique, for each minima $x_l^{(K_l)}$ found where $l=1,...,L$, we do the following:\n",
    "\n",
    "\\begin{equation}\n",
    "p_l = {\\rm argmin}_{1\\le p \\le P}  (x_l^{(K_l)}-x_{0p})^T A_p^T \\Sigma_p A_p (x_l^{(K_l)}-x_{0p})\n",
    "\\end{equation}\n",
    "\n",
    "In order for discovered minima to be unique, we must have that all $p_l$ is different for \n",
    "$l=1,...,L$. \n",
    "\n",
    "We also test that for each discovered minima $x_l^{(K_l)}$:\n",
    "\n",
    "$$\\|x_l^{(K_l)} - x_{0p_l}\\| \\text{  is small}$$\n"
   ]
  },
  {
   "cell_type": "code",
   "execution_count": 11,
   "metadata": {},
   "outputs": [],
   "source": [
    "def calc_pos(point, d,  p, store_x0, matrix_combined):\n",
    "    \"\"\" Checks position of where minimum of function is for Quadratic\"\"\" \n",
    "    function_values = np.zeros((p))\n",
    "    for i in range(p):\n",
    "        function_values[i] = np.transpose(point - store_x0[i]) @ matrix_combined[i] @ (point - store_x0[i])\n",
    "    position_minimum = np.argmin(function_values)\n",
    "    return position_minimum "
   ]
  },
  {
   "cell_type": "code",
   "execution_count": 12,
   "metadata": {},
   "outputs": [],
   "source": [
    "\"\"\"Store values from calc_pos function\"\"\" \n",
    "norms_with_minima = np.zeros((number_minima))\n",
    "pos_list = np.zeros((number_minima))\n",
    "for j in range(number_minima):\n",
    "    pos = calc_pos(discovered_minima[j], d, *args)\n",
    "    pos_list[j] = pos\n",
    "    norms_with_minima[j] = LA.norm(discovered_minima[j]- store_x0[pos])"
   ]
  },
  {
   "cell_type": "markdown",
   "metadata": {},
   "source": [
    "${\\max}_{1\\le l \\le L}  \\|x_l^{(K_l)}-x_{0p_l}\\|$ should be small"
   ]
  },
  {
   "cell_type": "code",
   "execution_count": 13,
   "metadata": {},
   "outputs": [
    {
     "data": {
      "text/plain": [
       "3.6934595421738563e-06"
      ]
     },
     "execution_count": 13,
     "metadata": {},
     "output_type": "execute_result"
    }
   ],
   "source": [
    "np.max(norms_with_minima)"
   ]
  },
  {
   "cell_type": "markdown",
   "metadata": {},
   "source": [
    "Ensure that the number of unique minima is $L$"
   ]
  },
  {
   "cell_type": "code",
   "execution_count": 14,
   "metadata": {},
   "outputs": [
    {
     "data": {
      "text/plain": [
       "True"
      ]
     },
     "execution_count": 14,
     "metadata": {},
     "output_type": "execute_result"
    }
   ],
   "source": [
    "np.unique(pos_list).shape[0] == number_minima"
   ]
  },
  {
   "cell_type": "code",
   "execution_count": null,
   "metadata": {},
   "outputs": [],
   "source": []
  }
 ],
 "metadata": {
  "kernelspec": {
   "display_name": "Python 3",
   "language": "python",
   "name": "python3"
  },
  "language_info": {
   "codemirror_mode": {
    "name": "ipython",
    "version": 3
   },
   "file_extension": ".py",
   "mimetype": "text/x-python",
   "name": "python",
   "nbconvert_exporter": "python",
   "pygments_lexer": "ipython3",
   "version": "3.6.8"
  }
 },
 "nbformat": 4,
 "nbformat_minor": 2
}
