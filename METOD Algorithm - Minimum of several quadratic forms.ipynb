{
 "cells": [
  {
   "cell_type": "markdown",
   "metadata": {},
   "source": [
    "# METOD algorithm - Minimum of several quadratic forms"
   ]
  },
  {
   "cell_type": "markdown",
   "metadata": {},
   "source": [
    "# 1. Import libraries"
   ]
  },
  {
   "cell_type": "markdown",
   "metadata": {},
   "source": [
    "The following libraries are required in order for the METOD Algorithm to run."
   ]
  },
  {
   "cell_type": "code",
   "execution_count": null,
   "metadata": {},
   "outputs": [],
   "source": [
    "import numpy as np \n",
    "from numpy import linalg as LA\n",
    "import pandas as pd\n",
    "\n",
    "import metod_testing as mtv3"
   ]
  },
  {
   "cell_type": "markdown",
   "metadata": {},
   "source": [
    "# 2. Define function and gradient"
   ]
  },
  {
   "cell_type": "markdown",
   "metadata": {},
   "source": [
    "Minimum of several quadratic forms:\n",
    " \\begin{equation}\n",
    " \\label{eq:model}\n",
    "f(x_n^{(k)})=\\min_{1\\le p \\le P}  (x_n^{(k)}-x_{0p})^T A_p^T \\Sigma_p A_p (x_n^{(k)}-x_{0p}),\n",
    "\\end{equation}\n",
    "where $x_n^{(k)}$ ($n=1,...,N$) is a point with $k$ iterations of steepest descent applied, $P$ is the number of minima; $A_p$ ($p=1,...,P$) are randomly chosen rotation matrices of size $d\\times d$; $\\Sigma_p$ ($p=1,...,P$) are diagonal positive definite matrices of size $d\\times d$;  $x_{0p}$ ($p=1,...,P$) are random points in $\\mathfrak{X}$. \n",
    "\n",
    "Note that steepest descent iterations are terminated at the smallest $k=K_n$ such that $\\nabla f(x_n^{(k)}) < \\delta$. \n",
    "\n",
    "We can find:\n",
    "\\begin{equation}\n",
    "p_n = {\\rm argmin}_{1\\le p \\le P}  (x_n^{(k)}-x_{0p})^T A_p^T \\Sigma_p A_p (x_n^{(k)}-x_{0p})\n",
    "\\end{equation}\n",
    "\n",
    "Then for $x_n^{(k)}$, the gradient is:\n",
    "\\begin{equation}\n",
    "\t\\label{eq:modelgrad}\n",
    "\t\\nabla f(x_n^{(k)})= 2  A_{p_n}^T \\Sigma_{p_n} A_{p_n} (x_n^{(k)}-x_{0p_n})\\,\n",
    "\\end{equation}\n",
    "\n",
    "\n"
   ]
  },
  {
   "cell_type": "code",
   "execution_count": null,
   "metadata": {},
   "outputs": [],
   "source": [
    "f = mtv3.quad_function\n",
    "g = mtv3.quad_gradient"
   ]
  },
  {
   "cell_type": "markdown",
   "metadata": {},
   "source": [
    "# 3. Defining parameters"
   ]
  },
  {
   "cell_type": "markdown",
   "metadata": {},
   "source": [
    "The following parameters are required in order to derive $A_p$ ($p=1,...,P$) ; $\\Sigma_p$ ($p=1,...,P$) and $x_{0p}$ ($p=1,...,P$).\n",
    "\n",
    "We have:\n",
    "\n",
    "•d: dimension\n",
    "\n",
    "•P: number of minima\n",
    "\n",
    "•lambda_1: smallest eigenvalue of $\\Sigma_p$ ($p=1,...,P$)\n",
    "\n",
    "•lambda_2: largest eigenvalue of $\\Sigma_p$ ($p=1,...,P$)\n"
   ]
  },
  {
   "cell_type": "code",
   "execution_count": null,
   "metadata": {},
   "outputs": [],
   "source": [
    "d = 100\n",
    "P = 5\n",
    "lambda_1 = 1\n",
    "lambda_2 = 10"
   ]
  },
  {
   "cell_type": "code",
   "execution_count": null,
   "metadata": {},
   "outputs": [],
   "source": [
    "store_x0, matrix_combined = mtv3.function_parameters_quad(P, d, lambda_1, lambda_2)"
   ]
  },
  {
   "cell_type": "markdown",
   "metadata": {},
   "source": [
    "We have:\n",
    "\n",
    "•store_x0: $x_{0p}$ ($p=1,...,P$)\n",
    "\n",
    "•matrix_combined: $A_p^T \\Sigma_p A_p$ ($p=1,...,P$)\n"
   ]
  },
  {
   "cell_type": "code",
   "execution_count": null,
   "metadata": {},
   "outputs": [],
   "source": [
    "args = P, store_x0, matrix_combined"
   ]
  },
  {
   "cell_type": "markdown",
   "metadata": {},
   "source": [
    "# 4. Run METOD Algorithm"
   ]
  },
  {
   "cell_type": "markdown",
   "metadata": {},
   "source": [
    "Please see 'Multistart with early termination of  descents (METOD) algorithm for Python' for more information on how to choose appropiate parameters for the METOD Algorithm. "
   ]
  },
  {
   "cell_type": "code",
   "execution_count": null,
   "metadata": {},
   "outputs": [],
   "source": [
    "discovered_minima, number_minima, func_vals_of_minima, excessive_no_descents  = mtv3.metod(f, g, args, d)"
   ]
  },
  {
   "cell_type": "markdown",
   "metadata": {},
   "source": [
    "# 5. Results of the METOD Algorithm"
   ]
  },
  {
   "cell_type": "markdown",
   "metadata": {},
   "source": [
    "Total number of minima found:"
   ]
  },
  {
   "cell_type": "code",
   "execution_count": null,
   "metadata": {},
   "outputs": [],
   "source": [
    "number_minima"
   ]
  },
  {
   "cell_type": "markdown",
   "metadata": {},
   "source": [
    "Positions of minima:"
   ]
  },
  {
   "cell_type": "code",
   "execution_count": null,
   "metadata": {},
   "outputs": [],
   "source": [
    "discovered_minima"
   ]
  },
  {
   "cell_type": "markdown",
   "metadata": {},
   "source": [
    "Function values of minima:"
   ]
  },
  {
   "cell_type": "code",
   "execution_count": null,
   "metadata": {},
   "outputs": [],
   "source": [
    "func_vals_of_minima"
   ]
  },
  {
   "cell_type": "markdown",
   "metadata": {},
   "source": [
    "Total number of extra descents to an already discovered minima:"
   ]
  },
  {
   "cell_type": "code",
   "execution_count": null,
   "metadata": {},
   "outputs": [],
   "source": [
    "excessive_no_descents"
   ]
  },
  {
   "cell_type": "markdown",
   "metadata": {},
   "source": [
    "# 6. Save results to csv file (optional)"
   ]
  },
  {
   "cell_type": "markdown",
   "metadata": {},
   "source": [
    "The below csv files will be saved to the same folder which contains the METOD Algorithm - Minimum of several quadratic forms notebook."
   ]
  },
  {
   "cell_type": "markdown",
   "metadata": {},
   "source": [
    "Minima in msqf_discovered_minimas_d_%s_p_%s.csv are saved such that each row represents one discovered minima. The total number of rows will be the same as the value for number_minima."
   ]
  },
  {
   "cell_type": "code",
   "execution_count": null,
   "metadata": {},
   "outputs": [],
   "source": [
    "np.savetxt('msqf_discovered_minimas_d_%s_p_%s.csv' % (d, P), discovered_minima, delimiter=\",\")"
   ]
  },
  {
   "cell_type": "markdown",
   "metadata": {},
   "source": [
    "Values in msqf_func_vals_discovered_minimas_d_%s_p_%s are saved such that each row represents the function value of a minima. The total number of rows will be the same as the value for number_minima."
   ]
  },
  {
   "cell_type": "code",
   "execution_count": null,
   "metadata": {},
   "outputs": [],
   "source": [
    "np.savetxt('msqf_func_vals_discovered_minimas_d_%s_p_%s.csv' % (d, P), func_vals_of_minima, delimiter=\",\")"
   ]
  },
  {
   "cell_type": "markdown",
   "metadata": {},
   "source": [
    "msqf_summary_table_d_%s_p_%s.csv will contain the total number of minima discovered and the total number of extra descents."
   ]
  },
  {
   "cell_type": "code",
   "execution_count": null,
   "metadata": {},
   "outputs": [],
   "source": [
    "summary_table = pd.DataFrame({\n",
    "\"Total number of unique minima\": [number_minima],\n",
    "\"Extra descents\": [excessive_no_descents]})\n",
    "summary_table.to_csv('msqf_summary_table_d_%s_p_%s.csv' % (d, P))"
   ]
  },
  {
   "cell_type": "markdown",
   "metadata": {},
   "source": [
    "# 7. Test results (optional)"
   ]
  },
  {
   "cell_type": "markdown",
   "metadata": {},
   "source": [
    "This test can only be used for the minimum of several quadratic forms function.\n",
    "\n",
    "To check each discovered minima is unique, for each minima $x_l^{(K_l)}$ found where $l=1,...,L$, we do the following:\n",
    "\n",
    "\\begin{equation}\n",
    "p_l = {\\rm argmin}_{1\\le p \\le P}  (x_l^{(K_l)}-x_{0p})^T A_p^T \\Sigma_p A_p (x_l^{(K_l)}-x_{0p})\n",
    "\\end{equation}\n",
    "\n",
    "In order for discovered minima to be unique, we must have that all $p_l$ is different for \n",
    "$l=1,...,L$. \n",
    "\n",
    "We also test that for each discovered minima $x_l^{(K_l)}$:\n",
    "\n",
    "$$\\|x_l^{(K_l)} - x_{0p_l}\\| \\text{  is small}$$\n"
   ]
  },
  {
   "cell_type": "code",
   "execution_count": null,
   "metadata": {},
   "outputs": [],
   "source": [
    "def calc_pos(point, d,  p, store_x0, matrix_combined):\n",
    "    \"\"\" Checks position of where minimum of function is for Quadratic\"\"\" \n",
    "    function_values = np.zeros((p))\n",
    "    for i in range(p):\n",
    "        function_values[i] = np.transpose(point - store_x0[i]) @ matrix_combined[i] @ (point - store_x0[i])\n",
    "    position_minimum = np.argmin(function_values)\n",
    "    return position_minimum "
   ]
  },
  {
   "cell_type": "code",
   "execution_count": null,
   "metadata": {},
   "outputs": [],
   "source": [
    "\"\"\"Store values from calc_pos function\"\"\" \n",
    "norms_with_minima = np.zeros((number_minima))\n",
    "pos_list = np.zeros((number_minima))\n",
    "for j in range(number_minima):\n",
    "    pos = calc_pos(discovered_minima[j], d, *args)\n",
    "    pos_list[j] = pos\n",
    "    norms_with_minima[j] = LA.norm(discovered_minima[j]- store_x0[pos])"
   ]
  },
  {
   "cell_type": "markdown",
   "metadata": {},
   "source": [
    "${\\max}_{1\\le l \\le L}  \\|x_l^{(K_l)}-x_{0p_l}\\|$ should be small"
   ]
  },
  {
   "cell_type": "code",
   "execution_count": null,
   "metadata": {},
   "outputs": [],
   "source": [
    "np.max(norms_with_minima)"
   ]
  },
  {
   "cell_type": "markdown",
   "metadata": {},
   "source": [
    "Ensure that the number of unique minima is $L$"
   ]
  },
  {
   "cell_type": "code",
   "execution_count": null,
   "metadata": {},
   "outputs": [],
   "source": [
    "np.unique(pos_list).shape[0] == number_minima"
   ]
  }
 ],
 "metadata": {
  "kernelspec": {
   "display_name": "Python 3",
   "language": "python",
   "name": "python3"
  },
  "language_info": {
   "codemirror_mode": {
    "name": "ipython",
    "version": 3
   },
   "file_extension": ".py",
   "mimetype": "text/x-python",
   "name": "python",
   "nbconvert_exporter": "python",
   "pygments_lexer": "ipython3",
   "version": "3.7.6"
  }
 },
 "nbformat": 4,
 "nbformat_minor": 2
}
