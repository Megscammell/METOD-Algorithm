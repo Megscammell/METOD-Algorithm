{
 "cells": [
  {
   "cell_type": "markdown",
   "metadata": {},
   "source": [
    "# METOD algorithm - Sum of Gaussians"
   ]
  },
  {
   "cell_type": "markdown",
   "metadata": {},
   "source": [
    "# 1. Import libraries"
   ]
  },
  {
   "cell_type": "markdown",
   "metadata": {},
   "source": [
    "The following libraries are required in order for the METOD Algorithm to run."
   ]
  },
  {
   "cell_type": "code",
   "execution_count": null,
   "metadata": {},
   "outputs": [],
   "source": [
    "import numpy as np\n",
    "from numpy import linalg as LA\n",
    "import pandas as pd\n",
    "\n",
    "import metod_testing as mtv3"
   ]
  },
  {
   "cell_type": "markdown",
   "metadata": {},
   "source": [
    "# 2. Define function and gradient"
   ]
  },
  {
   "cell_type": "markdown",
   "metadata": {},
   "source": [
    "Weighted sum of Gaussians objectve function:\n",
    "\n",
    "\\begin{equation}\n",
    "\\label{eq:funct1}\n",
    "f(x_n^{(k)})= -\\sum_{p=1}^{P} c_p\\exp \\Bigg\\{ {-\\frac{1}{2 \\sigma^2}(x_n^{(k)}-x_{0p})^T A_p^T \\Sigma_p A_p(x_n^{(k)}-x_{0p})}\\Bigg\\}\\, .\n",
    "\\end{equation}\n",
    "where $x_n^{(k)}$ ($n=1,...,N$) is a point with $k$ iterations of steepest descent applied, $P$ is the number of Gaussian densities; $A_p$ ($p=1,...,P$) are randomly chosen rotation matrices of size $d\\times d$; $\\Sigma_p$ ($p=1,...,P$) are diagonal positive definite matrices of size $d\\times d$;  $x_{0p}$ ($p=1,...,P$) are random points in $\\mathfrak{X}$ (centers of the Gaussian densities); $c_p$ ($p=1,...,P$) are fixed constants.\n",
    "\n",
    "Note that steepest descent iterations are terminated at the smallest $k=K_n$ such that $\\nabla f(x_n^{(k)}) < \\delta$. \n",
    "\n",
    "The gradient is:\n",
    "\\begin{equation}\n",
    "\\nabla f(x_n^{(k)})= \\sum_{p=1}^{P}\\frac{c_p} { \\sigma^2} \\exp \\Bigg\\{ {-\\frac{1}{2 \\sigma^2}(x_n^{(k)}-x_{0p})^TA_p^T \\Sigma_p A(x_n^{(k)}-x_{0p}} ) \\Bigg\\} A_p^T \\Sigma_p A(x_n^{(k)}-x_{0p})\\, .\n",
    "\\end{equation}\n",
    "\n",
    "\n"
   ]
  },
  {
   "cell_type": "code",
   "execution_count": null,
   "metadata": {},
   "outputs": [],
   "source": [
    "f = mtv3.sog_function\n",
    "g = mtv3.sog_gradient"
   ]
  },
  {
   "cell_type": "markdown",
   "metadata": {},
   "source": [
    "# 3. Defining parameters"
   ]
  },
  {
   "cell_type": "markdown",
   "metadata": {},
   "source": [
    "The following parameters are required in order to derive $A_p$ ($p=1,...,P$) ; $\\Sigma_p$ ($p=1,...,P$); $x_{0p}$ ($p=1,...,P$) and $c_p$ ($p=1,...,P$).\n",
    "\n",
    "We have:\n",
    "\n",
    "•d: dimension\n",
    "\n",
    "•P: number of minima\n",
    "\n",
    "•lambda_1: smallest eigenvalue of $\\Sigma_p$ ($p=1,...,P$)\n",
    "\n",
    "•lambda_2: largest eigenvalue of $\\Sigma_p$ ($p=1,...,P$)\n",
    "\n",
    "•sigma_sq: value for $\\sigma^2$"
   ]
  },
  {
   "cell_type": "code",
   "execution_count": null,
   "metadata": {},
   "outputs": [],
   "source": [
    "d = 100\n",
    "P = 5\n",
    "lambda_1 = 1\n",
    "lambda_2 = 10\n",
    "sigma_sq = 4"
   ]
  },
  {
   "cell_type": "code",
   "execution_count": null,
   "metadata": {},
   "outputs": [],
   "source": [
    "store_x0, matrix_combined, store_c = mtv3.function_parameters_sog(P, d, lambda_1, lambda_2)"
   ]
  },
  {
   "cell_type": "markdown",
   "metadata": {},
   "source": [
    "We have:\n",
    "\n",
    "•store_x0: $x_{0p}$ ($p=1,...,P$)\n",
    "\n",
    "•matrix_combined: $A_p^T \\Sigma_p A_p$ ($p=1,...,P$)\n",
    "\n",
    "•store_c: $c_p$ ($p=1,...,P$)"
   ]
  },
  {
   "cell_type": "code",
   "execution_count": null,
   "metadata": {},
   "outputs": [],
   "source": [
    "args = P, sigma_sq, store_x0, matrix_combined, store_c"
   ]
  },
  {
   "cell_type": "code",
   "execution_count": null,
   "metadata": {},
   "outputs": [],
   "source": [
    "f = mtv3.sog_function\n",
    "g = mtv3.sog_gradient"
   ]
  },
  {
   "cell_type": "markdown",
   "metadata": {},
   "source": [
    "# 4. Run METOD Algorithm"
   ]
  },
  {
   "cell_type": "markdown",
   "metadata": {},
   "source": [
    "Here we run the METOD algorithm. If you would like to change any of the METOD algorithm parameters, please see, 'Solver for Multistart with early termination of  descents (METOD)'. "
   ]
  },
  {
   "cell_type": "code",
   "execution_count": null,
   "metadata": {},
   "outputs": [],
   "source": [
    "discovered_minima, number_minima, func_vals_of_minima, excessive_no_descents  = mtv3.metod(f, g, args, d)"
   ]
  },
  {
   "cell_type": "markdown",
   "metadata": {},
   "source": [
    "# 5. Results of the METOD Algorithm"
   ]
  },
  {
   "cell_type": "markdown",
   "metadata": {},
   "source": [
    "Total number of minima found:"
   ]
  },
  {
   "cell_type": "code",
   "execution_count": null,
   "metadata": {},
   "outputs": [],
   "source": [
    "number_minima"
   ]
  },
  {
   "cell_type": "markdown",
   "metadata": {},
   "source": [
    "Positions of minima:"
   ]
  },
  {
   "cell_type": "code",
   "execution_count": null,
   "metadata": {},
   "outputs": [],
   "source": [
    "discovered_minima"
   ]
  },
  {
   "cell_type": "markdown",
   "metadata": {},
   "source": [
    "Function values of minima:"
   ]
  },
  {
   "cell_type": "code",
   "execution_count": null,
   "metadata": {},
   "outputs": [],
   "source": [
    "func_vals_of_minima"
   ]
  },
  {
   "cell_type": "markdown",
   "metadata": {},
   "source": [
    "Total number of extra descents to an already discovered minima:"
   ]
  },
  {
   "cell_type": "code",
   "execution_count": null,
   "metadata": {},
   "outputs": [],
   "source": [
    "excessive_no_descents"
   ]
  },
  {
   "cell_type": "markdown",
   "metadata": {},
   "source": [
    "# 6. Save results to csv file (optional)"
   ]
  },
  {
   "cell_type": "markdown",
   "metadata": {},
   "source": [
    "The below csv files will be saved to the same folder which contains the METOD Algorithm - Minimum of several quadratic forms notebook."
   ]
  },
  {
   "cell_type": "markdown",
   "metadata": {},
   "source": [
    "Minima in msqf_discovered_minimas_d_%s_p_%s.csv are saved such that each row represents one discovered minima. The total number of rows will be the same as the value for number_minima."
   ]
  },
  {
   "cell_type": "code",
   "execution_count": null,
   "metadata": {},
   "outputs": [],
   "source": [
    "np.savetxt('sog_discovered_minimas_d_%s_p_%s.csv' % (d, P), discovered_minima, delimiter=\",\")"
   ]
  },
  {
   "cell_type": "markdown",
   "metadata": {},
   "source": [
    "Values in msqf_func_vals_discovered_minimas_d_%s_p_%s are saved such that each row represents the function value of a minima. The total number of rows will be the same as the value for number_minima."
   ]
  },
  {
   "cell_type": "code",
   "execution_count": null,
   "metadata": {},
   "outputs": [],
   "source": [
    "np.savetxt('sog_func_vals_discovered_minimas_d_%s_p_%s.csv' % (d, P), func_vals_of_minima, delimiter=\",\")"
   ]
  },
  {
   "cell_type": "markdown",
   "metadata": {},
   "source": [
    "msqf_summary_table_d_%s_p_%s.csv will contain the total number of minima discovered and the total number of extra descents."
   ]
  },
  {
   "cell_type": "code",
   "execution_count": null,
   "metadata": {},
   "outputs": [],
   "source": [
    "summary_table = pd.DataFrame({\n",
    "\"Total number of unique minima\": [number_minima],\n",
    "\"Extra descents\": [excessive_no_descents]})\n",
    "summary_table.to_csv('sog_summary_table_d_%s_p_%s.csv' % (d, P))"
   ]
  },
  {
   "cell_type": "markdown",
   "metadata": {},
   "source": [
    "# 7. Test results (optional)"
   ]
  },
  {
   "cell_type": "markdown",
   "metadata": {},
   "source": [
    "This test can only be used for the sum of Gaussians function.\n",
    "\n",
    "To check each discovered minima is unique, for each minima $x_l^{(K_l)}$ found where $l=1,...,L$, we do the following:\n",
    "\n",
    "\\begin{equation}\n",
    "p_l = {\\rm argmin}_{1\\le p \\le P} \\|x_l^{(K_l)} - x_{0p}\\|\n",
    "\\end{equation}\n",
    "\n",
    "For $p_l$ found, ensure that:\n",
    "$$\\|x_l^{(K_l)} - x_{0p_l}\\| \\text{  is small}$$\n",
    "\n",
    "If all $p_l$ is different for $l=1,...,L$ and also $\\|x_l^{(K_l)} - x_{0p_l}\\|$ is small for each $p_l$, then all discovered minimas are unique. "
   ]
  },
  {
   "cell_type": "code",
   "execution_count": null,
   "metadata": {},
   "outputs": [],
   "source": [
    "def calc_minima(point, p, store_x0):\n",
    "    dist = np.zeros((p))\n",
    "    for i in range(p):\n",
    "        dist[i] = LA.norm(point - store_x0[i])\n",
    "    return np.argmin(dist), np.min(dist)"
   ]
  },
  {
   "cell_type": "code",
   "execution_count": null,
   "metadata": {},
   "outputs": [],
   "source": [
    "\"\"\"Store values from calc_minima function\"\"\" \n",
    "norms_with_minima = np.zeros((number_minima))\n",
    "pos_list = np.zeros((number_minima))\n",
    "for j in range(number_minima):\n",
    "    pos, min_dist = calc_minima(discovered_minima[j], P, store_x0)\n",
    "    pos_list[j] = pos\n",
    "    norms_with_minima[j] = min_dist"
   ]
  },
  {
   "cell_type": "markdown",
   "metadata": {},
   "source": [
    "${\\max}_{1\\le l \\le L}  \\|x_l^{(K_l)}-x_{0p_l}\\|$ should be small"
   ]
  },
  {
   "cell_type": "code",
   "execution_count": null,
   "metadata": {},
   "outputs": [],
   "source": [
    "np.max(norms_with_minima)"
   ]
  },
  {
   "cell_type": "markdown",
   "metadata": {},
   "source": [
    "Ensure that the number of unique minima is $L$"
   ]
  },
  {
   "cell_type": "code",
   "execution_count": null,
   "metadata": {},
   "outputs": [],
   "source": [
    "np.unique(pos_list).shape[0] == number_minima"
   ]
  },
  {
   "cell_type": "code",
   "execution_count": null,
   "metadata": {},
   "outputs": [],
   "source": []
  }
 ],
 "metadata": {
  "kernelspec": {
   "display_name": "Python 3",
   "language": "python",
   "name": "python3"
  },
  "language_info": {
   "codemirror_mode": {
    "name": "ipython",
    "version": 3
   },
   "file_extension": ".py",
   "mimetype": "text/x-python",
   "name": "python",
   "nbconvert_exporter": "python",
   "pygments_lexer": "ipython3",
   "version": "3.6.8"
  }
 },
 "nbformat": 4,
 "nbformat_minor": 2
}
