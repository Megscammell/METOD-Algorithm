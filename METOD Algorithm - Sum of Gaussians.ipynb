{
 "cells": [
  {
   "cell_type": "markdown",
   "metadata": {},
   "source": [
    "# METOD algorithm procedure guide for sum of Gaussians"
   ]
  },
  {
   "cell_type": "markdown",
   "metadata": {},
   "source": [
    "# 1. Import libraries"
   ]
  },
  {
   "cell_type": "markdown",
   "metadata": {},
   "source": [
    "The following libraries are required in order for the METOD Algorithm to run."
   ]
  },
  {
   "cell_type": "code",
   "execution_count": 1,
   "metadata": {},
   "outputs": [
    {
     "name": "stderr",
     "output_type": "stream",
     "text": [
      "/Users/megscammell/anaconda3/lib/python3.6/site-packages/dask/config.py:168: YAMLLoadWarning: calling yaml.load() without Loader=... is deprecated, as the default Loader is unsafe. Please read https://msg.pyyaml.org/load for full details.\n"
     ]
    }
   ],
   "source": [
    "import numpy as np\n",
    "import sys  \n",
    "sys.path.insert(0, 'src')\n",
    "import metod_testing as mtv3\n",
    "from numpy import linalg as LA\n",
    "import pandas as pd"
   ]
  },
  {
   "cell_type": "markdown",
   "metadata": {},
   "source": [
    "# 2. Define function and gradient"
   ]
  },
  {
   "cell_type": "markdown",
   "metadata": {},
   "source": [
    "Weighted sum of Gaussians objectve function:\n",
    "\n",
    "\\begin{equation}\n",
    "\\label{eq:funct1}\n",
    "f(x_n^{(k)})= -\\sum_{p=1}^{P} c_p\\exp \\Bigg\\{ {-\\frac{1}{2 \\sigma^2}(x_n^{(k)}-x_{0p})^T A_p^T \\Sigma_p A_p(x_n^{(k)}-x_{0p})}\\Bigg\\}\\, .\n",
    "\\end{equation}\n",
    "where $x_n^{(k)}$ ($n=1,...,N$) is a point with $k$ iterations of steepest descent applied, $P$ is the number of Gaussian densities; $A_p$ ($p=1,...,P$) are randomly chosen rotation matrices of size $d\\times d$; $\\Sigma_p$ ($p=1,...,P$) are diagonal positive definite matrices of size $d\\times d$;  $x_{0p}$ ($p=1,...,P$) are random points in $\\mathfrak{X}$ (centers of the Gaussian densities); $c_p$ ($p=1,...,P$) are fixed constants.\n",
    "\n",
    "Note that steepest descent iterations are terminated at the smallest $k=K_n$ such that $\\nabla f(x_n^{(k)}) < \\delta$. \n",
    "\n",
    "The gradient is:\n",
    "\\begin{equation}\n",
    "\\nabla f(x_n^{(k)})= \\sum_{p=1}^{P}\\frac{c_p} { \\sigma^2} \\exp \\Bigg\\{ {-\\frac{1}{2 \\sigma^2}(x_n^{(k)}-x_{0p})^TA_p^T \\Sigma_p A(x_n^{(k)}-x_{0p}} ) \\Bigg\\} A_p^T \\Sigma_p A(x_n^{(k)}-x_{0p})\\, .\n",
    "\\end{equation}\n",
    "\n",
    "\n"
   ]
  },
  {
   "cell_type": "code",
   "execution_count": 2,
   "metadata": {},
   "outputs": [],
   "source": [
    "f = mtv3.sog_function\n",
    "g = mtv3.sog_gradient"
   ]
  },
  {
   "cell_type": "markdown",
   "metadata": {},
   "source": [
    "# 3. Defining parameters"
   ]
  },
  {
   "cell_type": "markdown",
   "metadata": {},
   "source": [
    "The following parameters are required in order to derive $A_p$ ($p=1,...,P$) ; $\\Sigma_p$ ($p=1,...,P$); $x_{0p}$ ($p=1,...,P$) and $c_p$ ($p=1,...,P$).\n",
    "\n",
    "We have:\n",
    "\n",
    "•d: dimension\n",
    "\n",
    "•P: number of minima\n",
    "\n",
    "•lambda_1: smallest eigenvalue of $\\Sigma_p$ ($p=1,...,P$)\n",
    "\n",
    "•lambda_1: largest eigenvalue of $\\Sigma_p$ ($p=1,...,P$)\n",
    "\n",
    "•sigma_sq: value for $\\sigma^2$"
   ]
  },
  {
   "cell_type": "code",
   "execution_count": 3,
   "metadata": {},
   "outputs": [],
   "source": [
    "d = 100\n",
    "P = 5\n",
    "lambda_1 = 1\n",
    "lambda_2 = 10\n",
    "sigma_sq = 4"
   ]
  },
  {
   "cell_type": "code",
   "execution_count": 4,
   "metadata": {},
   "outputs": [],
   "source": [
    "store_x0, matrix_combined, store_c = mtv3.function_parameters_sog(P, d, lambda_1, lambda_2)"
   ]
  },
  {
   "cell_type": "markdown",
   "metadata": {},
   "source": [
    "We have:\n",
    "\n",
    "•store_x0: $x_{0p}$ ($p=1,...,P$)\n",
    "\n",
    "•matrix_combined: $A_p^T \\Sigma_p A_p$ ($p=1,...,P$)\n",
    "\n",
    "•store_c: $c_p$ ($p=1,...,P$)"
   ]
  },
  {
   "cell_type": "code",
   "execution_count": 5,
   "metadata": {},
   "outputs": [],
   "source": [
    "args = P, sigma_sq, store_x0, matrix_combined, store_c"
   ]
  },
  {
   "cell_type": "code",
   "execution_count": 6,
   "metadata": {},
   "outputs": [],
   "source": [
    "f = mtv3.sog_function\n",
    "g = mtv3.sog_gradient"
   ]
  },
  {
   "cell_type": "markdown",
   "metadata": {},
   "source": [
    "# 4. Run METOD Algorithm"
   ]
  },
  {
   "cell_type": "markdown",
   "metadata": {},
   "source": [
    "Here we run the METOD algorithm. If you would like to change any of the METOD algorithm parameters, please see ??? for more information. "
   ]
  },
  {
   "cell_type": "code",
   "execution_count": 7,
   "metadata": {},
   "outputs": [
    {
     "name": "stderr",
     "output_type": "stream",
     "text": [
      "100%|██████████| 999/999 [01:40<00:00, 12.71it/s]\n"
     ]
    }
   ],
   "source": [
    "discovered_minima, number_minima, func_vals_of_minima, excessive_no_descents  = mtv3.metod(f, g, args, d)"
   ]
  },
  {
   "cell_type": "markdown",
   "metadata": {},
   "source": [
    "# 5. Results of the METOD Algorithm"
   ]
  },
  {
   "cell_type": "markdown",
   "metadata": {},
   "source": [
    "Total number of minima found:"
   ]
  },
  {
   "cell_type": "code",
   "execution_count": 8,
   "metadata": {},
   "outputs": [
    {
     "data": {
      "text/plain": [
       "5"
      ]
     },
     "execution_count": 8,
     "metadata": {},
     "output_type": "execute_result"
    }
   ],
   "source": [
    "number_minima"
   ]
  },
  {
   "cell_type": "markdown",
   "metadata": {},
   "source": [
    "Positions of minima:"
   ]
  },
  {
   "cell_type": "code",
   "execution_count": 9,
   "metadata": {},
   "outputs": [
    {
     "data": {
      "text/plain": [
       "[array([0.22627518, 0.12036478, 0.85563263, 0.81668931, 0.12041912,\n",
       "        0.06374152, 0.99640047, 0.73272057, 0.00284174, 0.46613957,\n",
       "        0.28723239, 0.10745802, 0.23565411, 0.79032898, 0.91349364,\n",
       "        0.58072434, 0.75956092, 0.03185296, 0.14816109, 0.34926208,\n",
       "        0.05551029, 0.42105589, 0.06655326, 0.79856417, 0.40149216,\n",
       "        0.41361552, 0.04820191, 0.28976796, 0.31336981, 0.65577206,\n",
       "        0.53879268, 0.54970331, 0.83445379, 0.07414563, 0.82118656,\n",
       "        0.79110559, 0.18005148, 0.85121627, 0.1412196 , 0.35607828,\n",
       "        0.26569484, 0.38403445, 0.34271081, 0.09540366, 0.76912586,\n",
       "        0.94704389, 0.64719037, 0.37625377, 0.61322082, 0.32426161,\n",
       "        0.43453219, 0.08796478, 0.74228074, 0.30098873, 0.17525919,\n",
       "        0.95454123, 0.75875715, 0.88284057, 0.59664474, 0.45465433,\n",
       "        0.96689445, 0.30401426, 0.60720517, 0.90462936, 0.66329866,\n",
       "        0.86521678, 0.40240003, 0.26939442, 0.12743928, 0.73767293,\n",
       "        0.52371624, 0.33692535, 0.79619176, 0.70723412, 0.65069774,\n",
       "        0.30582513, 0.57867723, 0.3073017 , 0.82088049, 0.24344142,\n",
       "        0.34196731, 0.54612495, 0.00505865, 0.38958792, 0.21886436,\n",
       "        0.4178843 , 0.08367897, 0.53644752, 0.87370282, 0.68988682,\n",
       "        0.81060743, 0.08274062, 0.53313037, 0.83441704, 0.13973628,\n",
       "        0.45181338, 0.27617901, 0.46156492, 0.00192517, 0.88936492]),\n",
       " array([0.14350903, 0.7353855 , 0.04805703, 0.64225883, 0.04289192,\n",
       "        0.43667054, 0.45337048, 0.57312989, 0.98897181, 0.47819007,\n",
       "        0.9595982 , 0.97395259, 0.1417662 , 0.13317593, 0.11625647,\n",
       "        0.73893877, 0.70038794, 0.24780528, 0.24714383, 0.05195275,\n",
       "        0.47284854, 0.01781167, 0.13905646, 0.20150294, 0.85716295,\n",
       "        0.90357019, 0.499816  , 0.93746406, 0.95338749, 0.33574111,\n",
       "        0.50324305, 0.69345946, 0.23072313, 0.57264508, 0.31826199,\n",
       "        0.80473606, 0.14387951, 0.16317571, 0.74384668, 0.12510647,\n",
       "        0.92617002, 0.22007917, 0.89815499, 0.99349184, 0.81001291,\n",
       "        0.46458433, 0.30395823, 0.0442881 , 0.14420434, 0.09528674,\n",
       "        0.49746582, 0.51243974, 0.94692693, 0.09900318, 0.96608513,\n",
       "        0.94451839, 0.14663674, 0.77074398, 0.97810102, 0.58891316,\n",
       "        0.68993328, 0.2207563 , 0.33449224, 0.20917643, 0.07298704,\n",
       "        0.89487356, 0.07177001, 0.12908574, 0.4577419 , 0.14187175,\n",
       "        0.77966223, 0.00368006, 0.5731133 , 0.52582147, 0.01704646,\n",
       "        0.00960329, 0.63320165, 0.27504596, 0.74383667, 0.25128235,\n",
       "        0.8845411 , 0.41345057, 0.29267343, 0.89620134, 0.14372193,\n",
       "        0.31217945, 0.84582946, 0.41345067, 0.76725074, 0.16335795,\n",
       "        0.4467557 , 0.5588363 , 0.47256924, 0.90247679, 0.30714646,\n",
       "        0.62261277, 0.68035891, 0.91595129, 0.68770422, 0.90593837]),\n",
       " array([0.53426431, 0.5210398 , 0.11711005, 0.22004289, 0.52566414,\n",
       "        0.34455415, 0.62624003, 0.15116771, 0.49658426, 0.81130574,\n",
       "        0.47430607, 0.82058131, 0.27158231, 0.69707953, 0.47249669,\n",
       "        0.80328614, 0.27220689, 0.50030649, 0.52455383, 0.1481944 ,\n",
       "        0.15644122, 0.07879052, 0.26416224, 0.43332111, 0.28475632,\n",
       "        0.00767715, 0.83799132, 0.76795898, 0.8420826 , 0.12592096,\n",
       "        0.5375257 , 0.16958011, 0.87016895, 0.15176586, 0.13446124,\n",
       "        0.6988268 , 0.8062984 , 0.93555545, 0.65967926, 0.12273906,\n",
       "        0.86248578, 0.85361343, 0.6467208 , 0.83985462, 0.54481207,\n",
       "        0.46318026, 0.48072259, 0.96794821, 0.0520675 , 0.77592866,\n",
       "        0.71568405, 0.43830087, 0.24672584, 0.69231594, 0.04981308,\n",
       "        0.10911001, 0.61185094, 0.40281356, 0.2370203 , 0.07361736,\n",
       "        0.36325999, 0.11441167, 0.49043708, 0.91532718, 0.17381847,\n",
       "        0.0720756 , 0.02757319, 0.40622163, 0.72276343, 0.13839771,\n",
       "        0.40434698, 0.09352389, 0.06821938, 0.10718415, 0.83003919,\n",
       "        0.11592811, 0.69528396, 0.63853381, 0.74834814, 0.91298526,\n",
       "        0.39041824, 0.96974998, 0.81279097, 0.3254327 , 0.69950553,\n",
       "        0.45015543, 0.19331406, 0.16773175, 0.68140465, 0.59633791,\n",
       "        0.70542295, 0.47404175, 0.54403759, 0.66986933, 0.98783164,\n",
       "        0.19273806, 0.24842965, 0.3861699 , 0.51333915, 0.55625853]),\n",
       " array([0.24347772, 0.8320516 , 0.82058338, 0.96410033, 0.4695049 ,\n",
       "        0.14340876, 0.22702923, 0.51024499, 0.8728053 , 0.08912995,\n",
       "        0.4517564 , 0.12300701, 0.77675047, 0.55245673, 0.31483396,\n",
       "        0.03002464, 0.88761375, 0.32083342, 0.98046069, 0.03884733,\n",
       "        0.22189449, 0.5366379 , 0.19515548, 0.09410814, 0.66062028,\n",
       "        0.5507864 , 0.83790403, 0.37991355, 0.03218968, 0.43405372,\n",
       "        0.80141182, 0.81824327, 0.00173426, 0.66686913, 0.06904865,\n",
       "        0.12324064, 0.50224744, 0.97698834, 0.23135587, 0.12205927,\n",
       "        0.26185256, 0.30448096, 0.72914801, 0.46686901, 0.20137959,\n",
       "        0.28664608, 0.94932254, 0.78917592, 0.17910707, 0.06302944,\n",
       "        0.8819691 , 0.97996293, 0.42385762, 0.9655793 , 0.90767546,\n",
       "        0.48286596, 0.78742876, 0.49337933, 0.64105672, 0.70221065,\n",
       "        0.62980786, 0.19565633, 0.90104574, 0.98707627, 0.72725175,\n",
       "        0.13839009, 0.05740062, 0.30182622, 0.68564861, 0.20776122,\n",
       "        0.33896393, 0.10844729, 0.13580204, 0.50496419, 0.03371389,\n",
       "        0.50382894, 0.70901128, 0.72352042, 0.08319093, 0.15628025,\n",
       "        0.59162072, 0.19265383, 0.41627087, 0.14249254, 0.16311899,\n",
       "        0.47503668, 0.53147419, 0.09277857, 0.0727488 , 0.06357444,\n",
       "        0.27598989, 0.88231219, 0.74268164, 0.96337037, 0.67286115,\n",
       "        0.04924236, 0.30206415, 0.21186147, 0.8044601 , 0.6611122 ]),\n",
       " array([0.47651002, 0.27047459, 0.87185828, 0.56872445, 0.85604371,\n",
       "        0.54285955, 0.89406569, 0.8577618 , 0.7064668 , 0.7254122 ,\n",
       "        0.48303043, 0.69443614, 0.87983655, 0.43881675, 0.47286729,\n",
       "        0.93608114, 0.36903678, 0.76703613, 0.86076375, 0.61981492,\n",
       "        0.7808026 , 0.03358111, 0.60945616, 0.95174728, 0.88284822,\n",
       "        0.6031914 , 0.21909787, 0.50618937, 0.78160698, 0.5293073 ,\n",
       "        0.4633215 , 0.14818206, 0.34554274, 0.92547351, 0.46695834,\n",
       "        0.02608627, 0.88560966, 0.41250905, 0.65900081, 0.49493284,\n",
       "        0.08594059, 0.14476166, 0.03213387, 0.08894873, 0.65274931,\n",
       "        0.30298249, 0.97475079, 0.49727878, 0.71887517, 0.39617626,\n",
       "        0.65351144, 0.76637531, 0.62287022, 0.31945903, 0.93835736,\n",
       "        0.99240126, 0.84209723, 0.88154278, 0.72297969, 0.111093  ,\n",
       "        0.81692925, 0.28649452, 0.73851472, 0.50194878, 0.76705634,\n",
       "        0.81877137, 0.49138487, 0.45463644, 0.1205694 , 0.83601812,\n",
       "        0.70229862, 0.37669426, 0.81794835, 0.52669879, 0.8341295 ,\n",
       "        0.94464426, 0.87813946, 0.724577  , 0.84203085, 0.59561878,\n",
       "        0.64434383, 0.29200306, 0.14925044, 0.48713056, 0.16717216,\n",
       "        0.00168341, 0.67607793, 0.92586497, 0.59199806, 0.89089612,\n",
       "        0.77555886, 0.39963647, 0.58433011, 0.01711955, 0.72162697,\n",
       "        0.65322781, 0.875673  , 0.04987886, 0.54245625, 0.03878218])]"
      ]
     },
     "execution_count": 9,
     "metadata": {},
     "output_type": "execute_result"
    }
   ],
   "source": [
    "discovered_minima"
   ]
  },
  {
   "cell_type": "markdown",
   "metadata": {},
   "source": [
    "Function values of minima:"
   ]
  },
  {
   "cell_type": "code",
   "execution_count": 10,
   "metadata": {},
   "outputs": [
    {
     "data": {
      "text/plain": [
       "[-0.8431907691522326,\n",
       " -0.6906563358998661,\n",
       " -0.5208706517911615,\n",
       " -0.5211630682288817,\n",
       " -0.8348305008764875]"
      ]
     },
     "execution_count": 10,
     "metadata": {},
     "output_type": "execute_result"
    }
   ],
   "source": [
    "func_vals_of_minima"
   ]
  },
  {
   "cell_type": "markdown",
   "metadata": {},
   "source": [
    "Total number of extra descents to an already discovered minima:"
   ]
  },
  {
   "cell_type": "code",
   "execution_count": 11,
   "metadata": {},
   "outputs": [
    {
     "data": {
      "text/plain": [
       "31"
      ]
     },
     "execution_count": 11,
     "metadata": {},
     "output_type": "execute_result"
    }
   ],
   "source": [
    "excessive_no_descents"
   ]
  },
  {
   "cell_type": "markdown",
   "metadata": {},
   "source": [
    "# 6. Save results to csv file (optional)"
   ]
  },
  {
   "cell_type": "markdown",
   "metadata": {},
   "source": [
    "The below csv files will be saved to the same folder which contains the METOD Algorithm - Minimum of several quadratic forms notebook."
   ]
  },
  {
   "cell_type": "markdown",
   "metadata": {},
   "source": [
    "Minima in msqf_discovered_minimas_d_%s_p_%s.csv are saved such that each row represents one discovered minima. The total number of rows will be the same as the value for number_minima."
   ]
  },
  {
   "cell_type": "code",
   "execution_count": null,
   "metadata": {},
   "outputs": [],
   "source": [
    "np.savetxt('sog_discovered_minimas_d_%s_p_%s.csv' % (d, P), discovered_minima, delimiter=\",\")"
   ]
  },
  {
   "cell_type": "markdown",
   "metadata": {},
   "source": [
    "Values in msqf_func_vals_discovered_minimas_d_%s_p_%s are saved such that each row represents the function value of a minima. The total number of rows will be the same as the value for number_minima."
   ]
  },
  {
   "cell_type": "code",
   "execution_count": null,
   "metadata": {},
   "outputs": [],
   "source": [
    "np.savetxt('sog_func_vals_discovered_minimas_d_%s_p_%s.csv' % (d, P), func_vals_of_minima, delimiter=\",\")"
   ]
  },
  {
   "cell_type": "markdown",
   "metadata": {},
   "source": [
    "msqf_summary_table_d_%s_p_%s.csv will contain the total number of minima discovered and the total number of extra descents."
   ]
  },
  {
   "cell_type": "code",
   "execution_count": null,
   "metadata": {},
   "outputs": [],
   "source": [
    "summary_table = pd.DataFrame({\n",
    "\"Total number of unique minima\": [number_minima],\n",
    "\"Extra descents\": [excessive_no_descents]})\n",
    "summary_table.to_csv('sog_summary_table_d_%s_p_%s.csv' % (d, P))"
   ]
  },
  {
   "cell_type": "markdown",
   "metadata": {},
   "source": [
    "# 7. Test results (optional)"
   ]
  },
  {
   "cell_type": "markdown",
   "metadata": {},
   "source": [
    "This test can only be used for the sum of Gaussians function.\n",
    "\n",
    "To check each discovered minima is unique, for each minima $x_l^{(K_l)}$ found where $l=1,...,L$, we do the following:\n",
    "\n",
    "\\begin{equation}\n",
    "p_l = {\\rm argmin}_{1\\le p \\le P} \\|x_l^{(K_l)} - x_{0p}\\|\n",
    "\\end{equation}\n",
    "\n",
    "For $p_l$ found, ensure that:\n",
    "$$\\|x_l^{(K_l)} - x_{0p_l}\\| \\text{  is small}$$\n",
    "\n",
    "If all $p_l$ is different for $l=1,...,L$ and also $\\|x_l^{(K_l)} - x_{0p_l}\\|$ is small for each $p_l$, then all discovered minimas are unique. "
   ]
  },
  {
   "cell_type": "code",
   "execution_count": 12,
   "metadata": {},
   "outputs": [],
   "source": [
    "def calc_minima(point, p, store_x0):\n",
    "    dist = np.zeros((p))\n",
    "    for i in range(p):\n",
    "        dist[i] = LA.norm(point - store_x0[i])\n",
    "    return np.argmin(dist), np.min(dist)"
   ]
  },
  {
   "cell_type": "code",
   "execution_count": 13,
   "metadata": {},
   "outputs": [],
   "source": [
    "\"\"\"Store values from calc_minima function\"\"\" \n",
    "norms_with_minima = np.zeros((number_minima))\n",
    "pos_list = np.zeros((number_minima))\n",
    "for j in range(number_minima):\n",
    "    pos, min_dist = calc_minima(discovered_minima[j], P, store_x0)\n",
    "    pos_list[j] = pos\n",
    "    norms_with_minima[j] = min_dist"
   ]
  },
  {
   "cell_type": "markdown",
   "metadata": {},
   "source": [
    "${\\max}_{1\\le l \\le L}  \\|x_l^{(K_l)}-x_{0p_l}\\|$ should be small"
   ]
  },
  {
   "cell_type": "code",
   "execution_count": 14,
   "metadata": {},
   "outputs": [
    {
     "data": {
      "text/plain": [
       "0.00041617967274956756"
      ]
     },
     "execution_count": 14,
     "metadata": {},
     "output_type": "execute_result"
    }
   ],
   "source": [
    "np.max(norms_with_minima)"
   ]
  },
  {
   "cell_type": "markdown",
   "metadata": {},
   "source": [
    "Ensure that the number of unique minima is $L$"
   ]
  },
  {
   "cell_type": "code",
   "execution_count": 15,
   "metadata": {},
   "outputs": [
    {
     "data": {
      "text/plain": [
       "True"
      ]
     },
     "execution_count": 15,
     "metadata": {},
     "output_type": "execute_result"
    }
   ],
   "source": [
    "np.unique(pos_list).shape[0] == number_minima"
   ]
  },
  {
   "cell_type": "code",
   "execution_count": null,
   "metadata": {},
   "outputs": [],
   "source": []
  }
 ],
 "metadata": {
  "kernelspec": {
   "display_name": "Python 3",
   "language": "python",
   "name": "python3"
  },
  "language_info": {
   "codemirror_mode": {
    "name": "ipython",
    "version": 3
   },
   "file_extension": ".py",
   "mimetype": "text/x-python",
   "name": "python",
   "nbconvert_exporter": "python",
   "pygments_lexer": "ipython3",
   "version": "3.6.8"
  }
 },
 "nbformat": 4,
 "nbformat_minor": 2
}
