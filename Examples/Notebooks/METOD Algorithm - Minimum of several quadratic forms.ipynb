{
 "cells": [
  {
   "cell_type": "markdown",
   "metadata": {},
   "source": [
    "# METOD algorithm - Minimum of several quadratic forms"
   ]
  },
  {
   "cell_type": "markdown",
   "metadata": {},
   "source": [
    "# 1. Import libraries"
   ]
  },
  {
   "cell_type": "markdown",
   "metadata": {},
   "source": [
    "The following libraries are required to run the METOD Algorithm."
   ]
  },
  {
   "cell_type": "code",
   "execution_count": null,
   "metadata": {},
   "outputs": [],
   "source": [
    "import numpy as np \n",
    "from numpy import linalg as LA\n",
    "import pandas as pd\n",
    "\n",
    "import metod as mt\n",
    "from metod import objective_functions as mt_obj"
   ]
  },
  {
   "cell_type": "markdown",
   "metadata": {},
   "source": [
    "# 2. Define function and gradient"
   ]
  },
  {
   "cell_type": "markdown",
   "metadata": {},
   "source": [
    "Minimum of several quadratic forms:\n",
    " \\begin{equation}\n",
    " \\label{eq:model}\n",
    "f(x_n^{(k)})=\\min_{1\\le p \\le P} \\frac{1}{2} (x_n^{(k)}-x_{0p})^T A_p^T \\Sigma_p A_p (x_n^{(k)}-x_{0p}),\n",
    "\\end{equation}\n",
    "where $x_n^{(k)}$ is the $n$-th point after $k$ iterations of anti-gradient descent, $P$ is the number of minima; $A_p$ is a random rotation\n",
    "matrix of size $d\\times d$; $\\Sigma_p$ is a diagonal positive\n",
    "definite matrix of size $d\\times d$ with smallest and largest\n",
    "eigenvalues $\\lambda_{min}$ and $\\lambda_{max}$ respectively;\n",
    "$x_{0p} \\in \\mathfrak{X}$ and $p=1,...,P$.\n",
    "\n",
    "Note : Anti-gradient descent iterations are terminated at the smallest $k=K_n$ such that $\\nabla f(x_n^{(k)}) < \\delta$, where $\\delta$ is some small positive constant. \n"
   ]
  },
  {
   "cell_type": "code",
   "execution_count": null,
   "metadata": {},
   "outputs": [],
   "source": [
    "f = mt_obj.several_quad_function\n",
    "g = mt_obj.several_quad_gradient"
   ]
  },
  {
   "cell_type": "markdown",
   "metadata": {},
   "source": [
    "# 3. Defining parameters"
   ]
  },
  {
   "cell_type": "markdown",
   "metadata": {},
   "source": [
    "The following parameters are required to derive $A_p$ ($p=1,...,P$) ; $\\Sigma_p$ ($p=1,...,P$) and $x_{0p}$ ($p=1,...,P$).\n",
    "\n",
    "\n",
    "•d: dimension\n",
    "\n",
    "•P: number of minima\n",
    "\n",
    "•lambda_1: smallest eigenvalue of $\\Sigma_p$ ($p=1,...,P$)\n",
    "\n",
    "•lambda_2: largest eigenvalue of $\\Sigma_p$ ($p=1,...,P$)\n",
    "\n",
    "In order to replicate results, we will control the pseudo-random number generator seed, so that the same random objective function and random starting points $x_n^{(0)}$ $(n=1,...,1000)$ will be generated each time the code is run. The random seed number will be set to 90."
   ]
  },
  {
   "cell_type": "code",
   "execution_count": null,
   "metadata": {},
   "outputs": [],
   "source": [
    "d = 50\n",
    "P = 5\n",
    "lambda_1 = 1\n",
    "lambda_2 = 10\n",
    "seed = 90"
   ]
  },
  {
   "cell_type": "code",
   "execution_count": null,
   "metadata": {},
   "outputs": [],
   "source": [
    "np.random.seed(seed)\n",
    "store_x0, matrix_combined = mt_obj.function_parameters_several_quad(P, d, lambda_1, lambda_2)"
   ]
  },
  {
   "cell_type": "markdown",
   "metadata": {},
   "source": [
    "Where,\n",
    "\n",
    "•store_x0: $x_{0p}$ ($p=1,...,P$)\n",
    "\n",
    "•matrix_combined: $A_p^T \\Sigma_p A_p$ ($p=1,...,P$)\n"
   ]
  },
  {
   "cell_type": "code",
   "execution_count": null,
   "metadata": {},
   "outputs": [],
   "source": [
    "args = P, store_x0, matrix_combined"
   ]
  },
  {
   "cell_type": "markdown",
   "metadata": {},
   "source": [
    "# 4. Run METOD Algorithm"
   ]
  },
  {
   "cell_type": "code",
   "execution_count": null,
   "metadata": {},
   "outputs": [],
   "source": [
    "(discovered_minimizers,\n",
    " number_minimizers,\n",
    " func_vals_of_minimizers,\n",
    " excessive_no_descents,\n",
    " starting_points) = mt.metod(f, g, args, d)"
   ]
  },
  {
   "cell_type": "markdown",
   "metadata": {},
   "source": [
    "# 5. Results of the METOD Algorithm"
   ]
  },
  {
   "cell_type": "markdown",
   "metadata": {},
   "source": [
    "Total number of minimizers found:"
   ]
  },
  {
   "cell_type": "code",
   "execution_count": null,
   "metadata": {},
   "outputs": [],
   "source": [
    "number_minimizers"
   ]
  },
  {
   "cell_type": "markdown",
   "metadata": {},
   "source": [
    "Positions of minimizers:"
   ]
  },
  {
   "cell_type": "code",
   "execution_count": null,
   "metadata": {},
   "outputs": [],
   "source": [
    "discovered_minimizers"
   ]
  },
  {
   "cell_type": "markdown",
   "metadata": {},
   "source": [
    "Function values of minimizers:"
   ]
  },
  {
   "cell_type": "code",
   "execution_count": null,
   "metadata": {},
   "outputs": [],
   "source": [
    "func_vals_of_minimizers"
   ]
  },
  {
   "cell_type": "markdown",
   "metadata": {},
   "source": [
    "Total number of excessive descents:"
   ]
  },
  {
   "cell_type": "code",
   "execution_count": null,
   "metadata": {},
   "outputs": [],
   "source": [
    "excessive_no_descents"
   ]
  },
  {
   "cell_type": "markdown",
   "metadata": {},
   "source": [
    "# 6. Save results to csv file (optional)"
   ]
  },
  {
   "cell_type": "markdown",
   "metadata": {},
   "source": [
    "The below csv files will be saved to the same folder which contains the METOD Algorithm - Minimum of several quadratic forms notebook."
   ]
  },
  {
   "cell_type": "markdown",
   "metadata": {},
   "source": [
    "Rows in discovered_minimizers_d_%s_p_%s_quad.csv represent discovered minimizers. The total number of rows will be the same as the value for number_minimizers."
   ]
  },
  {
   "cell_type": "code",
   "execution_count": null,
   "metadata": {},
   "outputs": [],
   "source": [
    "np.savetxt('discovered_minimizers_d_%s_p_%s_quad.csv' % (d, P), discovered_minimizers, delimiter=\",\")"
   ]
  },
  {
   "cell_type": "markdown",
   "metadata": {},
   "source": [
    "Each row in func_vals_discovered_minimizers_d_%s_p_%s_quad.csv represents the function value of each discovered minimizer. The total number of rows will be the same as the value for number_minimizers."
   ]
  },
  {
   "cell_type": "code",
   "execution_count": null,
   "metadata": {},
   "outputs": [],
   "source": [
    "np.savetxt('quad_func_vals_discovered_minimizers_d_%s_p_%s_quad.csv' % (d, P), func_vals_of_minimizers, delimiter=\",\")"
   ]
  },
  {
   "cell_type": "markdown",
   "metadata": {},
   "source": [
    "summary_table_d_%s_p_%s_quad.csv will contain the total number of minimizers discovered and the total number of excessive descents."
   ]
  },
  {
   "cell_type": "code",
   "execution_count": null,
   "metadata": {},
   "outputs": [],
   "source": [
    "summary_table = pd.DataFrame({\n",
    "\"Total number of unique minimizers\": [number_minimizers],\n",
    "\"Extra descents\": [excessive_no_descents]})\n",
    "summary_table.to_csv('summary_table_d_%s_p_%s_quad.csv' % (d, P))"
   ]
  },
  {
   "cell_type": "markdown",
   "metadata": {},
   "source": [
    "# 7. Test results (optional)"
   ]
  },
  {
   "cell_type": "markdown",
   "metadata": {},
   "source": [
    "This test can only be used for the minimum of several quadratic forms function.\n",
    "\n",
    "To check each discovered minimizer is unique, we do the following:\n",
    "\n",
    "For each minimizer $x_l^{(K_l)}$ ($l=1,...,L$) \n",
    "\n",
    "\\begin{equation}\n",
    "p_l = {\\rm argmin}_{1\\le p \\le P} \\frac{1}{2} (x_l^{(K_l)}-x_{0p})^T A_p^T \\Sigma_p A_p (x_l^{(K_l)}-x_{0p})\n",
    "\\end{equation}\n",
    "\n",
    "We must have $p_l$ is different for all $x_l^{(K_l)}$ ($l=1,...,L$), in order for minimizers to be unique.\n",
    "\n",
    "We also test that $\\|x_l^{(K_l)} - x_{0p_l}\\| \\text{  is small}$.\n"
   ]
  },
  {
   "cell_type": "code",
   "execution_count": null,
   "metadata": {},
   "outputs": [],
   "source": [
    "def calc_pos(point, d,  p, store_x0, matrix_combined):\n",
    "    \"\"\"Position (p_l) of the minimum of the function\"\"\" \n",
    "    function_values = np.zeros((p))\n",
    "    for i in range(p):\n",
    "        function_values[i] = 0.5 * np.transpose(point - store_x0[i]) @ matrix_combined[i] @ (point - store_x0[i])\n",
    "    position_minimum = np.argmin(function_values)\n",
    "    return position_minimum "
   ]
  },
  {
   "cell_type": "code",
   "execution_count": null,
   "metadata": {},
   "outputs": [],
   "source": [
    "\"\"\"Store values from calc_pos function\"\"\" \n",
    "norms_with_minimizer = np.zeros((number_minimizers))\n",
    "pos_list = np.zeros((number_minimizers))\n",
    "for j in range(number_minimizers):\n",
    "    pos = calc_pos(discovered_minimizers[j], d, *args)\n",
    "    pos_list[j] = pos\n",
    "    norms_with_minimizer[j] = LA.norm(discovered_minimizers[j]- store_x0[pos])"
   ]
  },
  {
   "cell_type": "markdown",
   "metadata": {},
   "source": [
    "${\\max}_{1\\le l \\le L}  \\|x_l^{(K_l)}-x_{0p_l}\\|$ should be small"
   ]
  },
  {
   "cell_type": "code",
   "execution_count": null,
   "metadata": {},
   "outputs": [],
   "source": [
    "np.max(norms_with_minimizer)"
   ]
  },
  {
   "cell_type": "markdown",
   "metadata": {},
   "source": [
    "Ensure that the number of unique minimizers is $L$"
   ]
  },
  {
   "cell_type": "code",
   "execution_count": null,
   "metadata": {},
   "outputs": [],
   "source": [
    "np.unique(pos_list).shape[0] == number_minimizers"
   ]
  }
 ],
 "metadata": {
  "kernelspec": {
   "display_name": "Python 3",
   "language": "python",
   "name": "python3"
  },
  "language_info": {
   "codemirror_mode": {
    "name": "ipython",
    "version": 3
   },
   "file_extension": ".py",
   "mimetype": "text/x-python",
   "name": "python",
   "nbconvert_exporter": "python",
   "pygments_lexer": "ipython3",
   "version": "3.7.6"
  }
 },
 "nbformat": 4,
 "nbformat_minor": 2
}
