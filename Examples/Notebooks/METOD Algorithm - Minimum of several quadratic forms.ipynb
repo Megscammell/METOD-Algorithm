{
 "cells": [
  {
   "cell_type": "markdown",
   "metadata": {},
   "source": [
    "# METOD algorithm - Minimum of several quadratic forms"
   ]
  },
  {
   "cell_type": "markdown",
   "metadata": {},
   "source": [
    "# 1. Import libraries"
   ]
  },
  {
   "cell_type": "markdown",
   "metadata": {},
   "source": [
    "The following libraries are required to run the METOD Algorithm."
   ]
  },
  {
   "cell_type": "code",
   "execution_count": 1,
   "metadata": {},
   "outputs": [],
   "source": [
    "import numpy as np \n",
    "from numpy import linalg as LA\n",
    "import pandas as pd\n",
    "\n",
    "import metod as mt\n",
    "from metod import objective_functions as mt_obj"
   ]
  },
  {
   "cell_type": "markdown",
   "metadata": {},
   "source": [
    "# 2. Define function and gradient"
   ]
  },
  {
   "cell_type": "markdown",
   "metadata": {},
   "source": [
    "Minimum of several quadratic forms:\n",
    " \\begin{equation}\n",
    " \\label{eq:model}\n",
    "f(x_n^{(k)})=\\min_{1\\le p \\le P} \\frac{1}{2} (x_n^{(k)}-x_{0p})^T A_p^T \\Sigma_p A_p (x_n^{(k)}-x_{0p}),\n",
    "\\end{equation}\n",
    "where $x_n^{(k)}$ is the $n$-th point after $k$ iterations of anti-gradient descent, $P$ is the number of minima; $A_p$ is a random rotation\n",
    "matrix of size $d\\times d$; $\\Sigma_p$ is a diagonal positive\n",
    "definite matrix of size $d\\times d$ with smallest and largest\n",
    "eigenvalues $\\lambda_{min}$ and $\\lambda_{max}$ respectively;\n",
    "$x_{0p} \\in \\mathfrak{X}$ and $p=1,...,P$.\n",
    "\n",
    "Note : Anti-gradient descent iterations are terminated at the smallest $k=K_n$ such that $\\nabla f(x_n^{(k)}) < \\delta$, where $\\delta$ is some small positive constant. \n"
   ]
  },
  {
   "cell_type": "code",
   "execution_count": 2,
   "metadata": {},
   "outputs": [],
   "source": [
    "f = mt_obj.quad_function\n",
    "g = mt_obj.quad_gradient"
   ]
  },
  {
   "cell_type": "markdown",
   "metadata": {},
   "source": [
    "# 3. Defining parameters"
   ]
  },
  {
   "cell_type": "markdown",
   "metadata": {},
   "source": [
    "The following parameters are required to derive $A_p$ ($p=1,...,P$) ; $\\Sigma_p$ ($p=1,...,P$) and $x_{0p}$ ($p=1,...,P$).\n",
    "\n",
    "\n",
    "•d: dimension\n",
    "\n",
    "•P: number of minima\n",
    "\n",
    "•lambda_1: smallest eigenvalue of $\\Sigma_p$ ($p=1,...,P$)\n",
    "\n",
    "•lambda_2: largest eigenvalue of $\\Sigma_p$ ($p=1,...,P$)\n",
    "\n",
    "In order to replicate results, we will control the pseudo-random number generator seed, so that the same random objective function and random starting points $x_n^{(0)}$ $(n=1,...,1000)$ will be generated each time the code is run. The random seed number will be set to 90."
   ]
  },
  {
   "cell_type": "code",
   "execution_count": 3,
   "metadata": {},
   "outputs": [],
   "source": [
    "d = 50\n",
    "P = 5\n",
    "lambda_1 = 1\n",
    "lambda_2 = 10\n",
    "seed = 90"
   ]
  },
  {
   "cell_type": "code",
   "execution_count": 4,
   "metadata": {},
   "outputs": [],
   "source": [
    "np.random.seed(seed)\n",
    "store_x0, matrix_combined = mt_obj.function_parameters_quad(P, d, lambda_1, lambda_2)"
   ]
  },
  {
   "cell_type": "markdown",
   "metadata": {},
   "source": [
    "Where,\n",
    "\n",
    "•store_x0: $x_{0p}$ ($p=1,...,P$)\n",
    "\n",
    "•matrix_combined: $A_p^T \\Sigma_p A_p$ ($p=1,...,P$)\n"
   ]
  },
  {
   "cell_type": "code",
   "execution_count": 5,
   "metadata": {},
   "outputs": [],
   "source": [
    "args = P, store_x0, matrix_combined"
   ]
  },
  {
   "cell_type": "markdown",
   "metadata": {},
   "source": [
    "# 4. Run METOD Algorithm"
   ]
  },
  {
   "cell_type": "code",
   "execution_count": 6,
   "metadata": {},
   "outputs": [],
   "source": [
    "discovered_minimizers, number_minimizers, func_vals_of_minimizers, excessive_no_descents  = mt.metod(f, g, args, d)"
   ]
  },
  {
   "cell_type": "markdown",
   "metadata": {},
   "source": [
    "# 5. Results of the METOD Algorithm"
   ]
  },
  {
   "cell_type": "markdown",
   "metadata": {},
   "source": [
    "Total number of minimizers found:"
   ]
  },
  {
   "cell_type": "code",
   "execution_count": 7,
   "metadata": {},
   "outputs": [
    {
     "data": {
      "text/plain": [
       "5"
      ]
     },
     "execution_count": 7,
     "metadata": {},
     "output_type": "execute_result"
    }
   ],
   "source": [
    "number_minimizers"
   ]
  },
  {
   "cell_type": "markdown",
   "metadata": {},
   "source": [
    "Positions of minimizers:"
   ]
  },
  {
   "cell_type": "code",
   "execution_count": 8,
   "metadata": {},
   "outputs": [
    {
     "data": {
      "text/plain": [
       "[array([5.98125454e-01, 7.50375007e-01, 6.03627948e-01, 4.04558128e-01,\n",
       "        5.97047642e-01, 5.56345601e-01, 1.85108261e-01, 6.06903576e-01,\n",
       "        4.58724346e-02, 3.29338277e-01, 8.74337204e-01, 4.95709001e-01,\n",
       "        2.48385983e-01, 2.34814739e-01, 9.84814179e-01, 4.19647544e-01,\n",
       "        7.89565929e-01, 5.08239542e-01, 9.69603145e-01, 8.76928500e-01,\n",
       "        5.63052642e-01, 7.69493060e-01, 4.58500448e-01, 2.99588192e-01,\n",
       "        8.40482615e-01, 2.43649673e-01, 5.18572323e-01, 8.22564897e-01,\n",
       "        9.10108599e-01, 1.47345080e-01, 3.48446258e-01, 5.15152232e-01,\n",
       "        3.49096037e-02, 2.86086620e-01, 3.06112505e-02, 8.08793294e-01,\n",
       "        3.83990878e-01, 2.33124026e-01, 2.57494427e-01, 8.19932804e-01,\n",
       "        2.51609968e-01, 8.63323712e-01, 3.10911415e-02, 1.33062864e-01,\n",
       "        2.96026195e-01, 2.97895456e-04, 8.56728724e-01, 3.93495500e-01,\n",
       "        1.54233949e-01, 8.21498262e-01]),\n",
       " array([0.74311202, 0.4061836 , 0.20769008, 0.98178749, 0.66858821,\n",
       "        0.29561142, 0.57572479, 0.7800303 , 0.40608977, 0.03813327,\n",
       "        0.99578352, 0.68409089, 0.34747619, 0.23824564, 0.37417633,\n",
       "        0.73387551, 0.92356812, 0.58472752, 0.73993227, 0.48312201,\n",
       "        0.2734807 , 0.28756209, 0.55478269, 0.24898404, 0.11376176,\n",
       "        0.07528478, 0.26338654, 0.27533204, 0.95828838, 0.34505004,\n",
       "        0.4443571 , 0.29778799, 0.56990623, 0.69146103, 0.68272419,\n",
       "        0.37548186, 0.39429617, 0.05986396, 0.26177406, 0.34837565,\n",
       "        0.87976503, 0.69721909, 0.26372761, 0.25160367, 0.46231386,\n",
       "        0.4580213 , 0.34603031, 0.14265051, 0.36592388, 0.8574176 ]),\n",
       " array([0.05847952, 0.8397906 , 0.3705515 , 0.75506743, 0.51730888,\n",
       "        0.69910729, 0.68929898, 0.85240341, 0.92015469, 0.90433268,\n",
       "        0.243845  , 0.50291891, 0.66561518, 0.65475917, 0.10109327,\n",
       "        0.48819946, 0.08389883, 0.11179045, 0.34590813, 0.22486982,\n",
       "        0.35208868, 0.91167169, 0.00760322, 0.80830652, 0.66151027,\n",
       "        0.21983955, 0.48742807, 0.64002122, 0.35193919, 0.02342013,\n",
       "        0.07896736, 0.38015835, 0.83628141, 0.59786459, 0.00291002,\n",
       "        0.38924993, 0.16843087, 0.54263001, 0.86898756, 0.58005673,\n",
       "        0.19529841, 0.07348317, 0.27461091, 0.11768614, 0.66593686,\n",
       "        0.62332091, 0.19699454, 0.79449184, 0.60735735, 0.86923355]),\n",
       " array([0.867524  , 0.79140482, 0.91329505, 0.88087663, 0.96923129,\n",
       "        0.89626368, 0.27894286, 0.61412808, 0.77174112, 0.25596117,\n",
       "        0.26999279, 0.97413089, 0.57935271, 0.77010239, 0.87932806,\n",
       "        0.59334717, 0.59315148, 0.65467629, 0.8225756 , 0.42529462,\n",
       "        0.93765724, 0.08004613, 0.38880246, 0.65646624, 0.8526051 ,\n",
       "        0.4501184 , 0.08889307, 0.36671392, 0.62732973, 0.36516853,\n",
       "        0.94085772, 0.57114875, 0.24592764, 0.9609553 , 0.0122419 ,\n",
       "        0.27242494, 0.26034027, 0.13776719, 0.18598183, 0.6390301 ,\n",
       "        0.9067023 , 0.76157419, 0.94115473, 0.75810343, 0.79036887,\n",
       "        0.36007157, 0.56775232, 0.77392679, 0.29796844, 0.3178239 ]),\n",
       " array([0.48237324, 0.46393841, 0.00198772, 0.65256516, 0.42076669,\n",
       "        0.12269764, 0.15286986, 0.27475338, 0.37850644, 0.27879847,\n",
       "        0.6401426 , 0.66886271, 0.08762142, 0.68574992, 0.52861859,\n",
       "        0.06087349, 0.04161766, 0.2803588 , 0.21247046, 0.03555555,\n",
       "        0.98012542, 0.51179614, 0.78700343, 0.94476446, 0.13483738,\n",
       "        0.93616301, 0.46752632, 0.04447858, 0.26308018, 0.57830661,\n",
       "        0.7691748 , 0.82624928, 0.97074722, 0.71108884, 0.68284861,\n",
       "        0.21351171, 0.02996831, 0.28756455, 0.63684138, 0.09896303,\n",
       "        0.38096641, 0.98111067, 0.81315421, 0.72160447, 0.70050753,\n",
       "        0.92937545, 0.11711845, 0.53851954, 0.8249406 , 0.74734951])]"
      ]
     },
     "execution_count": 8,
     "metadata": {},
     "output_type": "execute_result"
    }
   ],
   "source": [
    "discovered_minimizers"
   ]
  },
  {
   "cell_type": "markdown",
   "metadata": {},
   "source": [
    "Function values of minimizers:"
   ]
  },
  {
   "cell_type": "code",
   "execution_count": 9,
   "metadata": {},
   "outputs": [
    {
     "data": {
      "text/plain": [
       "[2.0874455308148583e-11,\n",
       " 1.7543513720716038e-11,\n",
       " 1.9606994056667566e-11,\n",
       " 2.3545576754692928e-11,\n",
       " 2.1109299093044285e-11]"
      ]
     },
     "execution_count": 9,
     "metadata": {},
     "output_type": "execute_result"
    }
   ],
   "source": [
    "func_vals_of_minimizers"
   ]
  },
  {
   "cell_type": "markdown",
   "metadata": {},
   "source": [
    "Total number of excessive descents:"
   ]
  },
  {
   "cell_type": "code",
   "execution_count": 10,
   "metadata": {},
   "outputs": [
    {
     "data": {
      "text/plain": [
       "0"
      ]
     },
     "execution_count": 10,
     "metadata": {},
     "output_type": "execute_result"
    }
   ],
   "source": [
    "excessive_no_descents"
   ]
  },
  {
   "cell_type": "markdown",
   "metadata": {},
   "source": [
    "# 6. Save results to csv file (optional)"
   ]
  },
  {
   "cell_type": "markdown",
   "metadata": {},
   "source": [
    "The below csv files will be saved to the same folder which contains the METOD Algorithm - Minimum of several quadratic forms notebook."
   ]
  },
  {
   "cell_type": "markdown",
   "metadata": {},
   "source": [
    "Rows in msqf_discovered_minimizers_d_%s_p_%s.csv represent discovered minimizers. The total number of rows will be the same as the value for number_minimizers."
   ]
  },
  {
   "cell_type": "code",
   "execution_count": 11,
   "metadata": {},
   "outputs": [],
   "source": [
    "np.savetxt('discovered_minimizers_d_%s_p_%s_quad.csv' % (d, P), discovered_minimizers, delimiter=\",\")"
   ]
  },
  {
   "cell_type": "markdown",
   "metadata": {},
   "source": [
    "Each row in msqf_func_vals_discovered_minimizers_d_%s_p_%s represents the function value of each discovered minimizer. The total number of rows will be the same as the value for number_minimizers."
   ]
  },
  {
   "cell_type": "code",
   "execution_count": 12,
   "metadata": {},
   "outputs": [],
   "source": [
    "np.savetxt('quad_func_vals_discovered_minimizers_d_%s_p_%s_quad.csv' % (d, P), func_vals_of_minimizers, delimiter=\",\")"
   ]
  },
  {
   "cell_type": "markdown",
   "metadata": {},
   "source": [
    "msqf_summary_table_d_%s_p_%s.csv will contain the total number of minimizers discovered and the total number of excessive descents."
   ]
  },
  {
   "cell_type": "code",
   "execution_count": 13,
   "metadata": {},
   "outputs": [],
   "source": [
    "summary_table = pd.DataFrame({\n",
    "\"Total number of unique minimizers\": [number_minimizers],\n",
    "\"Extra descents\": [excessive_no_descents]})\n",
    "summary_table.to_csv('summary_table_d_%s_p_%s_quad.csv' % (d, P))"
   ]
  },
  {
   "cell_type": "markdown",
   "metadata": {},
   "source": [
    "# 7. Test results (optional)"
   ]
  },
  {
   "cell_type": "markdown",
   "metadata": {},
   "source": [
    "This test can only be used for the minimum of several quadratic forms function.\n",
    "\n",
    "To check each discovered minimizer is unique, we do the following:\n",
    "\n",
    "For each minimizer $x_l^{(K_l)}$ ($l=1,...,L$) \n",
    "\n",
    "\\begin{equation}\n",
    "p_l = {\\rm argmin}_{1\\le p \\le P} \\frac{1}{2} (x_l^{(K_l)}-x_{0p})^T A_p^T \\Sigma_p A_p (x_l^{(K_l)}-x_{0p})\n",
    "\\end{equation}\n",
    "\n",
    "We must have $p_l$ is different for all $x_l^{(K_l)}$ ($l=1,...,L$), in order for minimizers to be unique.\n",
    "\n",
    "We also test that $\\|x_l^{(K_l)} - x_{0p_l}\\| \\text{  is small}$.\n"
   ]
  },
  {
   "cell_type": "code",
   "execution_count": 14,
   "metadata": {},
   "outputs": [],
   "source": [
    "def calc_pos(point, d,  p, store_x0, matrix_combined):\n",
    "    \"\"\"Position (p_l) of the minimum of the function\"\"\" \n",
    "    function_values = np.zeros((p))\n",
    "    for i in range(p):\n",
    "        function_values[i] = 0.5 * np.transpose(point - store_x0[i]) @ matrix_combined[i] @ (point - store_x0[i])\n",
    "    position_minimum = np.argmin(function_values)\n",
    "    return position_minimum "
   ]
  },
  {
   "cell_type": "code",
   "execution_count": 15,
   "metadata": {},
   "outputs": [],
   "source": [
    "\"\"\"Store values from calc_pos function\"\"\" \n",
    "norms_with_minimizer = np.zeros((number_minimizers))\n",
    "pos_list = np.zeros((number_minimizers))\n",
    "for j in range(number_minimizers):\n",
    "    pos = calc_pos(discovered_minimizers[j], d, *args)\n",
    "    pos_list[j] = pos\n",
    "    norms_with_minimizer[j] = LA.norm(discovered_minimizers[j]- store_x0[pos])"
   ]
  },
  {
   "cell_type": "markdown",
   "metadata": {},
   "source": [
    "${\\max}_{1\\le l \\le L}  \\|x_l^{(K_l)}-x_{0p_l}\\|$ should be small"
   ]
  },
  {
   "cell_type": "code",
   "execution_count": 16,
   "metadata": {},
   "outputs": [
    {
     "data": {
      "text/plain": [
       "6.476428551561899e-06"
      ]
     },
     "execution_count": 16,
     "metadata": {},
     "output_type": "execute_result"
    }
   ],
   "source": [
    "np.max(norms_with_minimizer)"
   ]
  },
  {
   "cell_type": "markdown",
   "metadata": {},
   "source": [
    "Ensure that the number of unique minimizers is $L$"
   ]
  },
  {
   "cell_type": "code",
   "execution_count": 17,
   "metadata": {},
   "outputs": [
    {
     "data": {
      "text/plain": [
       "True"
      ]
     },
     "execution_count": 17,
     "metadata": {},
     "output_type": "execute_result"
    }
   ],
   "source": [
    "np.unique(pos_list).shape[0] == number_minimizers"
   ]
  }
 ],
 "metadata": {
  "kernelspec": {
   "display_name": "Python 3",
   "language": "python",
   "name": "python3"
  },
  "language_info": {
   "codemirror_mode": {
    "name": "ipython",
    "version": 3
   },
   "file_extension": ".py",
   "mimetype": "text/x-python",
   "name": "python",
   "nbconvert_exporter": "python",
   "pygments_lexer": "ipython3",
   "version": "3.7.6"
  }
 },
 "nbformat": 4,
 "nbformat_minor": 2
}
