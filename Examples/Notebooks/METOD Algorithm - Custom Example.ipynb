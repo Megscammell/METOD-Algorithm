{
 "cells": [
  {
   "cell_type": "markdown",
   "metadata": {},
   "source": [
    "# METOD algorithm - Custom Example"
   ]
  },
  {
   "cell_type": "markdown",
   "metadata": {},
   "source": [
    "# 1. Import libraries"
   ]
  },
  {
   "cell_type": "markdown",
   "metadata": {},
   "source": [
    "The following libraries are required to run the METOD Algorithm."
   ]
  },
  {
   "cell_type": "code",
   "execution_count": null,
   "metadata": {},
   "outputs": [],
   "source": [
    "import numpy as np \n",
    "from numpy import linalg as LA\n",
    "import pandas as pd\n",
    "import math\n",
    "import matplotlib.pyplot as plt\n",
    "\n",
    "import metod_alg as mt\n",
    "from metod_alg import objective_functions as mt_obj"
   ]
  },
  {
   "cell_type": "markdown",
   "metadata": {},
   "source": [
    "# 2. Define function and gradient"
   ]
  },
  {
   "cell_type": "code",
   "execution_count": null,
   "metadata": {},
   "outputs": [],
   "source": [
    "def f(point, x0, A, rotation):\n",
    "    \"\"\"\n",
    "    Quadratic function.\n",
    "\n",
    "    Parameters\n",
    "    ----------\n",
    "    point : 1-D array with shape (d, )\n",
    "            A point used to evaluate the gradient.\n",
    "    x0 : 1-D array with shape (d, ).\n",
    "    A : 2-D array with shape (d, d).\n",
    "        Diagonal matrix.\n",
    "    rotation : 2-D array with shape (d, d).\n",
    "               Rotation matrix.\n",
    "    Returns\n",
    "    -------\n",
    "    function value : float\n",
    "\n",
    "    \"\"\"\n",
    "    return 0.5 * (point - x0).T @ rotation.T @ A @ rotation @ (point - x0)"
   ]
  },
  {
   "cell_type": "code",
   "execution_count": null,
   "metadata": {},
   "outputs": [],
   "source": [
    "def g(point, x0, A, rotation):\n",
    "    \"\"\"\n",
    "    Quadratic gradient.\n",
    "\n",
    "    Parameters\n",
    "    ----------\n",
    "    point : 1-D array with shape (d, )\n",
    "            A point used to evaluate the gradient.\n",
    "    x0 : 1-D array with shape (d, ).\n",
    "    A : 2-D array with shape (d, d).\n",
    "        Diagonal matrix.\n",
    "    rotation : 2-D array with shape (d, d).\n",
    "               Rotation matrix.\n",
    "    Returns\n",
    "    -------\n",
    "    gradient : 1-D array with shape (d, )\n",
    "\n",
    "    \"\"\"\n",
    "    return  rotation.T @ A @ rotation @ (point - x0)"
   ]
  },
  {
   "cell_type": "markdown",
   "metadata": {},
   "source": [
    "# 3. Defining parameters"
   ]
  },
  {
   "cell_type": "code",
   "execution_count": null,
   "metadata": {},
   "outputs": [],
   "source": [
    "d = 2\n",
    "theta = np.random.uniform(0, 2 * math.pi)\n",
    "rotation = np.array([[math.cos(theta), -math.sin(theta)], [math.sin(theta), math.cos(theta)]])\n",
    "A = np.array([[1, 0], [0, 10]])\n",
    "x0 = np.array([0.5, 0.2])\n",
    "args = (x0, A, rotation)"
   ]
  },
  {
   "cell_type": "markdown",
   "metadata": {},
   "source": [
    "# 4. Plot function"
   ]
  },
  {
   "cell_type": "code",
   "execution_count": null,
   "metadata": {},
   "outputs": [],
   "source": [
    "def plot_function(test_num, f, args):\n",
    "    x = np.linspace(0, 1, test_num)\n",
    "    y = np.linspace(0, 1, test_num)\n",
    "    Z = np.zeros((test_num, test_num))\n",
    "    X, Y = np.meshgrid(x, y)\n",
    "    for i in range(test_num):\n",
    "        for j in range(test_num):\n",
    "            x1_var = X[i, j]\n",
    "            x2_var = Y[i, j]\n",
    "            Z[i, j] = f(np.array([x1_var, x2_var]).reshape(2, ), *args)\n",
    "    plt.contour(X, Y, Z, 50, cmap='RdGy', alpha=0.5)\n",
    "\n",
    "plot_function(100, f, args)"
   ]
  },
  {
   "cell_type": "markdown",
   "metadata": {},
   "source": [
    "# 5. Run METOD Algorithm"
   ]
  },
  {
   "cell_type": "code",
   "execution_count": null,
   "metadata": {},
   "outputs": [],
   "source": [
    "np.random.seed(1)\n",
    "(discovered_minimizers,\n",
    " number_minimizers,\n",
    " func_vals_of_minimizers,\n",
    " excessive_no_descents,\n",
    " starting_points) = mt.metod(f, g, args, d)"
   ]
  },
  {
   "cell_type": "markdown",
   "metadata": {},
   "source": [
    "# 6. Results of the METOD Algorithm"
   ]
  },
  {
   "cell_type": "markdown",
   "metadata": {},
   "source": [
    "Total number of minimizers found:"
   ]
  },
  {
   "cell_type": "code",
   "execution_count": null,
   "metadata": {},
   "outputs": [],
   "source": [
    "number_minimizers"
   ]
  },
  {
   "cell_type": "markdown",
   "metadata": {},
   "source": [
    "Positions of minimizers:"
   ]
  },
  {
   "cell_type": "code",
   "execution_count": null,
   "metadata": {},
   "outputs": [],
   "source": [
    "discovered_minimizers"
   ]
  },
  {
   "cell_type": "markdown",
   "metadata": {},
   "source": [
    "Function values of minimizers:"
   ]
  },
  {
   "cell_type": "code",
   "execution_count": null,
   "metadata": {},
   "outputs": [],
   "source": [
    "func_vals_of_minimizers"
   ]
  },
  {
   "cell_type": "markdown",
   "metadata": {},
   "source": [
    "Total number of excessive descents:"
   ]
  },
  {
   "cell_type": "code",
   "execution_count": null,
   "metadata": {},
   "outputs": [],
   "source": [
    "excessive_no_descents"
   ]
  },
  {
   "cell_type": "markdown",
   "metadata": {},
   "source": [
    "# 7. Save results to csv file (optional)"
   ]
  },
  {
   "cell_type": "markdown",
   "metadata": {},
   "source": [
    "The below csv files will be saved to the same folder which contains the METOD Algorithm - Custom Example notebook."
   ]
  },
  {
   "cell_type": "markdown",
   "metadata": {},
   "source": [
    "Rows in discovered_minimizers_d_%s_custom.csv represent discovered minimizers. The total number of rows will be the same as the value for number_minimizers."
   ]
  },
  {
   "cell_type": "code",
   "execution_count": null,
   "metadata": {},
   "outputs": [],
   "source": [
    "np.savetxt('discovered_minimizers_d_%s_custom.csv' % (d), discovered_minimizers, delimiter=\",\")"
   ]
  },
  {
   "cell_type": "markdown",
   "metadata": {},
   "source": [
    "Each row in func_vals_discovered_minimizers_d_%s_custom.csv represents the function value of each discovered minimizer. The total number of rows will be the same as the value for number_minimizers."
   ]
  },
  {
   "cell_type": "code",
   "execution_count": null,
   "metadata": {},
   "outputs": [],
   "source": [
    "np.savetxt('func_vals_discovered_minimizers_d_%s_custom.csv' % (d), func_vals_of_minimizers, delimiter=\",\")"
   ]
  },
  {
   "cell_type": "markdown",
   "metadata": {},
   "source": [
    "summary_table_d_%s_custom.csv will contain the total number of minimizers discovered and the total number of excessive descents."
   ]
  },
  {
   "cell_type": "code",
   "execution_count": null,
   "metadata": {},
   "outputs": [],
   "source": [
    "summary_table = pd.DataFrame({\n",
    "\"Total number of unique minimizers\": [number_minimizers],\n",
    "\"Extra descents\": [excessive_no_descents]})\n",
    "summary_table.to_csv('summary_table_d_%s_custom.csv' % (d))"
   ]
  },
  {
   "cell_type": "markdown",
   "metadata": {},
   "source": [
    "# 8. Test results"
   ]
  },
  {
   "cell_type": "markdown",
   "metadata": {},
   "source": [
    "Check that outputs from the METOD Algorithm are correct."
   ]
  },
  {
   "cell_type": "code",
   "execution_count": null,
   "metadata": {},
   "outputs": [],
   "source": [
    "assert(number_minimizers == 1)"
   ]
  },
  {
   "cell_type": "code",
   "execution_count": null,
   "metadata": {},
   "outputs": [],
   "source": [
    "assert(excessive_no_descents == 0)"
   ]
  },
  {
   "cell_type": "code",
   "execution_count": null,
   "metadata": {},
   "outputs": [],
   "source": [
    "assert(np.all(np.round(discovered_minimizers, 3) == np.round(x0, 3)))"
   ]
  }
 ],
 "metadata": {
  "kernelspec": {
   "display_name": "Python 3",
   "language": "python",
   "name": "python3"
  },
  "language_info": {
   "codemirror_mode": {
    "name": "ipython",
    "version": 3
   },
   "file_extension": ".py",
   "mimetype": "text/x-python",
   "name": "python",
   "nbconvert_exporter": "python",
   "pygments_lexer": "ipython3",
   "version": "3.8.5"
  }
 },
 "nbformat": 4,
 "nbformat_minor": 2
}
