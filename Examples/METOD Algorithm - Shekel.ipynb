{
 "cells": [
  {
   "cell_type": "markdown",
   "metadata": {},
   "source": [
    "# METOD algorithm - Shekel"
   ]
  },
  {
   "cell_type": "markdown",
   "metadata": {},
   "source": [
    "# 1. Import libraries"
   ]
  },
  {
   "cell_type": "markdown",
   "metadata": {},
   "source": [
    "The following libraries are required in order for the METOD Algorithm to run."
   ]
  },
  {
   "cell_type": "code",
   "execution_count": 1,
   "metadata": {},
   "outputs": [],
   "source": [
    "import numpy as np \n",
    "from numpy import linalg as LA\n",
    "import pandas as pd\n",
    "\n",
    "import metod_testing as mtv3"
   ]
  },
  {
   "cell_type": "markdown",
   "metadata": {},
   "source": [
    "# 2. Define function and gradient"
   ]
  },
  {
   "cell_type": "code",
   "execution_count": 2,
   "metadata": {},
   "outputs": [],
   "source": [
    "def f(x, d, m, matrix_test, C, B):\n",
    "    total_sum = 0\n",
    "    \n",
    "    for i in range(m):\n",
    "        \n",
    "        sum_within_inverse = (x - C[:,i].reshape(d,)).T @  matrix_test[i] @ (x - C[:,i].reshape(d,))\n",
    "        \n",
    "            \n",
    "        inverse_to_add = (sum_within_inverse + B[i]) ** (-1)\n",
    "        total_sum += inverse_to_add\n",
    "    return(-total_sum)"
   ]
  },
  {
   "cell_type": "code",
   "execution_count": 3,
   "metadata": {},
   "outputs": [],
   "source": [
    "def g(x, d, m, matrix_test, C, B):\n",
    "    init_grad = 0\n",
    "    for i in range(m):\n",
    "        numerator_1 = 2 * matrix_test[i] @ (x - C[:,i].reshape(d,)) \n",
    "        denom_act_1 = ((x - C[:,i].reshape(d,)).T @  matrix_test[i] @ (x - C[:,i].reshape(d,)) + B[i]) ** (2)\n",
    "        init_grad += ((numerator_1 / denom_act_1))\n",
    "    return init_grad.reshape(d,)"
   ]
  },
  {
   "cell_type": "markdown",
   "metadata": {},
   "source": [
    "# 3. Defining parameters"
   ]
  },
  {
   "cell_type": "code",
   "execution_count": 5,
   "metadata": {},
   "outputs": [],
   "source": [
    "P = 5\n",
    "d = 50\n",
    "proj = False\n",
    "min_1_uniform = 0\n",
    "min_2_uniform = 1\n",
    "div = 1\n",
    "\n",
    "lambda_1 = 1\n",
    "lambda_2 = 10"
   ]
  },
  {
   "cell_type": "code",
   "execution_count": 6,
   "metadata": {},
   "outputs": [],
   "source": [
    "C = np.zeros((d,P))\n",
    "B = np.zeros((P))\n",
    "A = np.zeros((P,d,d))\n",
    "rotation = np.zeros((P,d,d))\n",
    "\n",
    "for j in range(P):\n",
    "    C[:,j] = np.random.uniform(min_1_uniform, min_2_uniform,(d)) \n",
    "    rotation[j] = mtv3.calculate_rotation_matrix(d, 3)\n",
    "    B[j] = 1/div\n",
    "    diag_vals = np.zeros(d)\n",
    "    a = lambda_1\n",
    "    diag_vals[0] = a\n",
    "    b = lambda_2\n",
    "    diag_vals[1] = b\n",
    "    for i in range(2,d):\n",
    "        diag_vals[i] = np.random.uniform(lambda_1 + 1, lambda_2 -1)\n",
    "    A[j] = np.diag(diag_vals)\n",
    "\n",
    "matrix_test = np.transpose(rotation, (0,2,1)) @ A @ rotation\n"
   ]
  },
  {
   "cell_type": "markdown",
   "metadata": {},
   "source": [
    "We have:\n",
    "\n",
    "•store_x0: $x_{0p}$ ($p=1,...,P$)\n",
    "\n",
    "•matrix_combined: $A_p^T \\Sigma_p A_p$ ($p=1,...,P$)\n"
   ]
  },
  {
   "cell_type": "code",
   "execution_count": 7,
   "metadata": {},
   "outputs": [],
   "source": [
    "args = d, P, matrix_test, C, B"
   ]
  },
  {
   "cell_type": "markdown",
   "metadata": {},
   "source": [
    "# 4. Run METOD Algorithm"
   ]
  },
  {
   "cell_type": "markdown",
   "metadata": {},
   "source": [
    "Please see 'Multistart with early termination of  descents (METOD) algorithm for Python' for more information on how to choose appropiate parameters for the METOD Algorithm. "
   ]
  },
  {
   "cell_type": "code",
   "execution_count": 8,
   "metadata": {},
   "outputs": [
    {
     "name": "stderr",
     "output_type": "stream",
     "text": [
      "100%|██████████| 999/999 [04:52<00:00,  3.32it/s]\n"
     ]
    }
   ],
   "source": [
    "discovered_minima, number_minima, func_vals_of_minima, excessive_no_descents  = mtv3.metod(f, g, args, d, beta=0.1, m=10)"
   ]
  },
  {
   "cell_type": "markdown",
   "metadata": {},
   "source": [
    "# 5. Results of the METOD Algorithm"
   ]
  },
  {
   "cell_type": "markdown",
   "metadata": {},
   "source": [
    "Total number of minima found:"
   ]
  },
  {
   "cell_type": "code",
   "execution_count": 9,
   "metadata": {},
   "outputs": [
    {
     "data": {
      "text/plain": [
       "5"
      ]
     },
     "execution_count": 9,
     "metadata": {},
     "output_type": "execute_result"
    }
   ],
   "source": [
    "number_minima"
   ]
  },
  {
   "cell_type": "markdown",
   "metadata": {},
   "source": [
    "Positions of minima:"
   ]
  },
  {
   "cell_type": "code",
   "execution_count": 15,
   "metadata": {},
   "outputs": [
    {
     "name": "stdout",
     "output_type": "stream",
     "text": [
      "2.6896356298397204\n",
      "2.99434030073587\n",
      "2.8651782269634576\n",
      "0.006140634990371159\n",
      "2.6897598728631666\n",
      "2.8207508253511118\n",
      "2.7483739821932294\n",
      "3.06071641368647\n",
      "2.689487360847728\n",
      "0.006954406405623761\n",
      "0.006077130960662879\n",
      "2.5967389379048407\n",
      "3.2151679511110656\n",
      "2.6896427407047425\n",
      "2.8212694277761337\n",
      "2.5967843307851712\n",
      "0.005974053498958345\n",
      "2.7486353993393036\n",
      "2.993965594380939\n",
      "2.7491373260722867\n",
      "3.214603742679398\n",
      "2.7481167482554505\n",
      "0.006297856549126373\n",
      "2.8644296262694895\n",
      "3.06047102597811\n"
     ]
    }
   ],
   "source": [
    "store_min = np.zeros((number_minima))\n",
    "store_min_calc = np.zeros((number_minima))\n",
    "index = 0\n",
    "for el in discovered_minima:\n",
    "    store_calc = np.zeros((number_minima))\n",
    "    for j in range(number_minima):\n",
    "        store_calc[j] = LA.norm(el - C[:,j])\n",
    "        print(LA.norm(el - C[:,j]))\n",
    "    store_min[index] = np.argmin(store_calc)\n",
    "    store_min_calc[index] = np.min(store_calc)\n",
    "    index += 1"
   ]
  },
  {
   "cell_type": "code",
   "execution_count": 16,
   "metadata": {},
   "outputs": [
    {
     "data": {
      "text/plain": [
       "array([3., 4., 0., 1., 2.])"
      ]
     },
     "execution_count": 16,
     "metadata": {},
     "output_type": "execute_result"
    }
   ],
   "source": [
    "store_min "
   ]
  },
  {
   "cell_type": "code",
   "execution_count": 17,
   "metadata": {},
   "outputs": [
    {
     "data": {
      "text/plain": [
       "array([0.00614063, 0.00695441, 0.00607713, 0.00597405, 0.00629786])"
      ]
     },
     "execution_count": 17,
     "metadata": {},
     "output_type": "execute_result"
    }
   ],
   "source": [
    "store_min_calc"
   ]
  },
  {
   "cell_type": "markdown",
   "metadata": {},
   "source": [
    "Function values of minima:"
   ]
  },
  {
   "cell_type": "code",
   "execution_count": 13,
   "metadata": {},
   "outputs": [
    {
     "data": {
      "text/plain": [
       "[-1.0978655458931388,\n",
       " -1.098001039323246,\n",
       " -1.1003082035151912,\n",
       " -1.0996379172658024,\n",
       " -1.0825025777191073]"
      ]
     },
     "execution_count": 13,
     "metadata": {},
     "output_type": "execute_result"
    }
   ],
   "source": [
    "func_vals_of_minima"
   ]
  },
  {
   "cell_type": "markdown",
   "metadata": {},
   "source": [
    "Total number of extra descents to an already discovered minima:"
   ]
  },
  {
   "cell_type": "code",
   "execution_count": 14,
   "metadata": {},
   "outputs": [
    {
     "data": {
      "text/plain": [
       "33"
      ]
     },
     "execution_count": 14,
     "metadata": {},
     "output_type": "execute_result"
    }
   ],
   "source": [
    "excessive_no_descents"
   ]
  },
  {
   "cell_type": "markdown",
   "metadata": {},
   "source": [
    "# 6. Save results to csv file (optional)"
   ]
  },
  {
   "cell_type": "markdown",
   "metadata": {},
   "source": [
    "The below csv files will be saved to the same folder which contains the METOD Algorithm - Minimum of several quadratic forms notebook."
   ]
  },
  {
   "cell_type": "markdown",
   "metadata": {},
   "source": [
    "Minima in msqf_discovered_minimas_d_%s_p_%s.csv are saved such that each row represents one discovered minima. The total number of rows will be the same as the value for number_minima."
   ]
  },
  {
   "cell_type": "code",
   "execution_count": null,
   "metadata": {},
   "outputs": [],
   "source": [
    "np.savetxt('msqf_discovered_minimas_d_%s_p_%s.csv' % (d, P), discovered_minima, delimiter=\",\")"
   ]
  },
  {
   "cell_type": "markdown",
   "metadata": {},
   "source": [
    "Values in msqf_func_vals_discovered_minimas_d_%s_p_%s are saved such that each row represents the function value of a minima. The total number of rows will be the same as the value for number_minima."
   ]
  },
  {
   "cell_type": "code",
   "execution_count": null,
   "metadata": {},
   "outputs": [],
   "source": [
    "np.savetxt('msqf_func_vals_discovered_minimas_d_%s_p_%s.csv' % (d, P), func_vals_of_minima, delimiter=\",\")"
   ]
  },
  {
   "cell_type": "markdown",
   "metadata": {},
   "source": [
    "msqf_summary_table_d_%s_p_%s.csv will contain the total number of minima discovered and the total number of extra descents."
   ]
  },
  {
   "cell_type": "code",
   "execution_count": null,
   "metadata": {},
   "outputs": [],
   "source": [
    "summary_table = pd.DataFrame({\n",
    "\"Total number of unique minima\": [number_minima],\n",
    "\"Extra descents\": [excessive_no_descents]})\n",
    "summary_table.to_csv('msqf_summary_table_d_%s_p_%s.csv' % (d, P))"
   ]
  },
  {
   "cell_type": "markdown",
   "metadata": {},
   "source": [
    "# Plot"
   ]
  },
  {
   "cell_type": "code",
   "execution_count": null,
   "metadata": {},
   "outputs": [],
   "source": [
    "P = 3\n",
    "d = 2\n",
    "proj = False\n",
    "rs = 1231\n",
    "min_1_uniform = 0\n",
    "min_2_uniform = 1\n",
    "div = 2\n",
    "projection = False\n",
    "tolerance = 0.00001\n",
    "option = 'minimize'\n",
    "met = 'Nelder-Mead' \n",
    "initial_guess = 0.05\n",
    "lambda_1 = 1\n",
    "lambda_2 = 10"
   ]
  },
  {
   "cell_type": "code",
   "execution_count": null,
   "metadata": {},
   "outputs": [],
   "source": [
    "C = np.zeros((d,P))\n",
    "B = np.zeros((P))\n",
    "A = np.zeros((P,d,d))\n",
    "rotation = np.zeros((P,d,d))\n",
    "\n",
    "\n",
    "np.random.seed(7376)\n",
    "for j in range(P):\n",
    "    #C[:,j] = np.random.uniform(min_1_uniform, min_2_uniform,(d)) \n",
    "    rotation[j] = mtv3.calculate_rotation_matrix(d, 1)\n",
    "    B[j] = 1/div\n",
    "    diag_vals = np.zeros(d)\n",
    "    a = lambda_1\n",
    "    diag_vals[0] = a\n",
    "    b = lambda_2\n",
    "    diag_vals[1] = b\n",
    "    for i in range(2,d):\n",
    "        diag_vals[i] = np.random.uniform(lambda_1 + 0.1, lambda_2 -0.1)\n",
    "    A[j] = np.diag(diag_vals)\n",
    "\n",
    "C[:,0] = np.array([0.8,0.8])\n",
    "C[:,1] = np.array([0.2,0.2])\n",
    "C[:,2] = np.array([0.9,0.1])\n",
    "matrix_test = np.transpose(rotation, (0,2,1)) @ A @ rotation\n",
    "\n"
   ]
  },
  {
   "cell_type": "code",
   "execution_count": null,
   "metadata": {},
   "outputs": [],
   "source": [
    "args = d, P, matrix_test, C, B"
   ]
  },
  {
   "cell_type": "code",
   "execution_count": null,
   "metadata": {},
   "outputs": [],
   "source": [
    "import matplotlib.pyplot as plt\n",
    "np.random.seed(9800)\n",
    "test_num = 100\n",
    "x = np.linspace(0, 1, test_num)\n",
    "y = np.linspace(0, 1, test_num)\n",
    "Z = np.zeros((test_num, test_num))\n",
    "X, Y = np.meshgrid(x,y)\n",
    "for i in range(test_num):\n",
    "    for j in range(test_num):\n",
    "        x1_var = X[i, j]\n",
    "        x2_var = Y[i, j]\n",
    "        x = np.array([x1_var, x2_var])\n",
    "        Z[i, j] = f(x, *args)\n",
    "\n",
    "\n",
    "for j in range(10):\n",
    "    x = np.random.uniform(0,1,(d,))\n",
    "    descended_x_points, its = mtv3.apply_sd_until_stopping_criteria(x, d, projection, tolerance, option, met, initial_guess, args, f, g)\n",
    "\n",
    "    chosen_x1 = descended_x_points[0:descended_x_points.shape[0]][:,0]\n",
    "    chosen_x2 = descended_x_points[0:descended_x_points.shape[0]][:,1]\n",
    "\n",
    "    plt.scatter(chosen_x1, chosen_x2, s=20, color='blue')\n",
    "    plt.plot(chosen_x1, chosen_x2, 'blue')\n",
    "\n",
    "plt.contour(X, Y, Z, 50, cmap='RdGy', alpha=0.5)\n",
    "#plt.savefig('shekel_d=2_rs_'+str(rs)+'.pdf')\n",
    "plt.show()"
   ]
  },
  {
   "cell_type": "code",
   "execution_count": null,
   "metadata": {},
   "outputs": [],
   "source": []
  },
  {
   "cell_type": "code",
   "execution_count": null,
   "metadata": {},
   "outputs": [],
   "source": []
  }
 ],
 "metadata": {
  "kernelspec": {
   "display_name": "Python 3",
   "language": "python",
   "name": "python3"
  },
  "language_info": {
   "codemirror_mode": {
    "name": "ipython",
    "version": 3
   },
   "file_extension": ".py",
   "mimetype": "text/x-python",
   "name": "python",
   "nbconvert_exporter": "python",
   "pygments_lexer": "ipython3",
   "version": "3.6.8"
  }
 },
 "nbformat": 4,
 "nbformat_minor": 2
}
