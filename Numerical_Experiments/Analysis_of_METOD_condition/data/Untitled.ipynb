{
 "cells": [
  {
   "cell_type": "code",
   "execution_count": 1,
   "metadata": {},
   "outputs": [],
   "source": [
    "import numpy as np\n",
    "\n",
    "from metod_alg import metod_analysis as mt_ays\n",
    "from metod_alg import objective_functions as mt_obj\n",
    "\n",
    "import tqdm"
   ]
  },
  {
   "cell_type": "code",
   "execution_count": 111,
   "metadata": {},
   "outputs": [],
   "source": [
    "func_name = 'hart'\n",
    "d = 6\n",
    "relax_sd = 1\n",
    "num = 1\n",
    "met = 'Brent'\n",
    "option = 'minimize_scalar'\n",
    "initial_guess = 0.005\n",
    "projection = False\n",
    "grad_norms = np.genfromtxt('%s_store_all_grad_norms_nsm_d=%s_%s_relax_c=%s_num=%s_%s.csv' %\n",
    "                       (func_name, d, projection, relax_sd,\n",
    "                        num, met),\n",
    "                        delimiter=',')\n",
    "no_its = np.genfromtxt('%s_store_all_its_nsm_d=%s_%s_relax_c=%s_num=%s_%s.csv' %\n",
    "                       (func_name, d, projection, relax_sd,\n",
    "                        num, met),\n",
    "                        delimiter=',')\n",
    "minimizer_store = np.genfromtxt('%s_all_store_minimizer_d=%s_%s_relax_c=%s_num=%s_%s.csv'%\n",
    "                                (func_name, d, projection, relax_sd,\n",
    "                                num, met),\n",
    "                                delimiter=',')"
   ]
  },
  {
   "cell_type": "code",
   "execution_count": 112,
   "metadata": {},
   "outputs": [],
   "source": [
    "beta = 0.01\n",
    "total_pairs_nsm = np.genfromtxt('%s_beta=%s_tot_nsm_d=%s_%s_relax_c=%s_num=%s_%s.csv' %\n",
    "                                (func_name, beta, d, projection, relax_sd,\n",
    "                                num, met),\n",
    "                                delimiter=',')\n",
    "\n",
    "total_pairs_sm = np.genfromtxt('%s_beta=%s_tot_sm_d=%s_%s_relax_c=%s_num=%s_%s.csv' %\n",
    "                                (func_name, beta, d, projection, relax_sd,\n",
    "                                num, met),\n",
    "                                delimiter=',')"
   ]
  },
  {
   "cell_type": "code",
   "execution_count": 113,
   "metadata": {},
   "outputs": [
    {
     "data": {
      "text/plain": [
       "array([[286378., 286378.],\n",
       "       [286378., 286378.]])"
      ]
     },
     "execution_count": 113,
     "metadata": {},
     "output_type": "execute_result"
    }
   ],
   "source": [
    "total_pairs_sm"
   ]
  },
  {
   "cell_type": "code",
   "execution_count": 114,
   "metadata": {},
   "outputs": [
    {
     "data": {
      "text/plain": [
       "array([[208622., 208622.],\n",
       "       [208622., 208622.]])"
      ]
     },
     "execution_count": 114,
     "metadata": {},
     "output_type": "execute_result"
    }
   ],
   "source": [
    "total_pairs_nsm"
   ]
  },
  {
   "cell_type": "code",
   "execution_count": 115,
   "metadata": {},
   "outputs": [
    {
     "data": {
      "text/plain": [
       "array([[495000., 495000.],\n",
       "       [495000., 495000.]])"
      ]
     },
     "execution_count": 115,
     "metadata": {},
     "output_type": "execute_result"
    }
   ],
   "source": [
    "total_pairs_sm + total_pairs_nsm"
   ]
  },
  {
   "cell_type": "code",
   "execution_count": 116,
   "metadata": {},
   "outputs": [],
   "source": [
    "# d = 6\n",
    "# num_points = 100\n",
    "# f = mt_obj.hartmann6_func\n",
    "# g = mt_obj.hartmann6_grad\n",
    "# check_func = mt_obj.calc_minimizer_hartmann6\n",
    "# a, c, p = mt_obj.hartmann6_func_params()\n",
    "# func_args = d, a, c, p\n",
    "# func_args_check_func = ()\n",
    "# bounds_1 = 0\n",
    "# bounds_2 = 1\n",
    "# number_its_compare = 3\n",
    "# num = 1\n",
    "# usage = 'metod_algorithm'\n",
    "# relax_sd_it = 1\n",
    "# tolerance = 0.01"
   ]
  },
  {
   "cell_type": "code",
   "execution_count": 117,
   "metadata": {},
   "outputs": [
    {
     "data": {
      "text/plain": [
       "148.89"
      ]
     },
     "execution_count": 117,
     "metadata": {},
     "output_type": "execute_result"
    }
   ],
   "source": [
    "np.round(np.mean(no_its), 2)"
   ]
  },
  {
   "cell_type": "code",
   "execution_count": 118,
   "metadata": {},
   "outputs": [
    {
     "data": {
      "text/plain": [
       "1.8201"
      ]
     },
     "execution_count": 118,
     "metadata": {},
     "output_type": "execute_result"
    }
   ],
   "source": [
    "np.round(np.mean(grad_norms), 5)"
   ]
  },
  {
   "cell_type": "code",
   "execution_count": 119,
   "metadata": {},
   "outputs": [
    {
     "data": {
      "text/plain": [
       "array([[601.,  15., 574., ...,  17., 545.,  23.],\n",
       "       [ 14.,  15., 455., ...,  27.,  20., 376.],\n",
       "       [ 21.,  25.,  18., ...,  31., 527.,  17.],\n",
       "       ...,\n",
       "       [513.,  18.,  57., ...,  18., 176.,  14.],\n",
       "       [ 18.,  18., 495., ...,  23., 561., 592.],\n",
       "       [486., 586., 449., ..., 602.,  17.,  18.]])"
      ]
     },
     "execution_count": 119,
     "metadata": {},
     "output_type": "execute_result"
    }
   ],
   "source": [
    "no_its"
   ]
  },
  {
   "cell_type": "code",
   "execution_count": 120,
   "metadata": {},
   "outputs": [
    {
     "data": {
      "text/plain": [
       "array([[1., 0., 1., ..., 0., 1., 0.],\n",
       "       [0., 0., 1., ..., 0., 0., 1.],\n",
       "       [0., 0., 0., ..., 0., 1., 0.],\n",
       "       ...,\n",
       "       [1., 0., 0., ..., 0., 1., 0.],\n",
       "       [0., 0., 1., ..., 0., 1., 1.],\n",
       "       [1., 1., 1., ..., 1., 0., 0.]])"
      ]
     },
     "execution_count": 120,
     "metadata": {},
     "output_type": "execute_result"
    }
   ],
   "source": [
    "minimizer_store"
   ]
  },
  {
   "cell_type": "code",
   "execution_count": 121,
   "metadata": {},
   "outputs": [],
   "source": [
    "store_dists_0 = []\n",
    "store_grads_0 = []\n",
    "store_dists_1 = []\n",
    "store_grads_1 = []\n",
    "for j in range(100):\n",
    "    for i in range(100):\n",
    "        if minimizer_store[j, i] == 0:\n",
    "            store_dists_0.append(no_its[j, i])\n",
    "            store_grads_0.append(grad_norms[j, i])\n",
    "        else:\n",
    "            store_dists_1.append(no_its[j, i])\n",
    "            store_grads_1.append(grad_norms[j, i])"
   ]
  },
  {
   "cell_type": "code",
   "execution_count": 122,
   "metadata": {},
   "outputs": [
    {
     "data": {
      "text/plain": [
       "20.294033275960988"
      ]
     },
     "execution_count": 122,
     "metadata": {},
     "output_type": "execute_result"
    }
   ],
   "source": [
    "np.mean(store_dists_0)"
   ]
  },
  {
   "cell_type": "code",
   "execution_count": 123,
   "metadata": {},
   "outputs": [
    {
     "data": {
      "text/plain": [
       "444.9910832232497"
      ]
     },
     "execution_count": 123,
     "metadata": {},
     "output_type": "execute_result"
    }
   ],
   "source": [
    "np.mean(store_dists_1)"
   ]
  },
  {
   "cell_type": "code",
   "execution_count": 124,
   "metadata": {},
   "outputs": [
    {
     "data": {
      "text/plain": [
       "1.6743570489283275"
      ]
     },
     "execution_count": 124,
     "metadata": {},
     "output_type": "execute_result"
    }
   ],
   "source": [
    "np.mean(store_grads_0)"
   ]
  },
  {
   "cell_type": "code",
   "execution_count": 125,
   "metadata": {},
   "outputs": [
    {
     "data": {
      "text/plain": [
       "2.1556691735677616"
      ]
     },
     "execution_count": 125,
     "metadata": {},
     "output_type": "execute_result"
    }
   ],
   "source": [
    "np.mean(store_grads_1)"
   ]
  },
  {
   "cell_type": "code",
   "execution_count": null,
   "metadata": {},
   "outputs": [],
   "source": []
  },
  {
   "cell_type": "code",
   "execution_count": null,
   "metadata": {},
   "outputs": [],
   "source": []
  },
  {
   "cell_type": "code",
   "execution_count": null,
   "metadata": {},
   "outputs": [],
   "source": []
  },
  {
   "cell_type": "code",
   "execution_count": null,
   "metadata": {},
   "outputs": [],
   "source": []
  },
  {
   "cell_type": "code",
   "execution_count": null,
   "metadata": {},
   "outputs": [],
   "source": []
  },
  {
   "cell_type": "code",
   "execution_count": null,
   "metadata": {},
   "outputs": [],
   "source": []
  },
  {
   "cell_type": "code",
   "execution_count": null,
   "metadata": {},
   "outputs": [],
   "source": []
  },
  {
   "cell_type": "code",
   "execution_count": 138,
   "metadata": {},
   "outputs": [],
   "source": [
    "from numpy import linalg as LA\n",
    "from metod_alg import objective_functions as mt_obj"
   ]
  },
  {
   "cell_type": "code",
   "execution_count": 145,
   "metadata": {},
   "outputs": [],
   "source": [
    "np.random.seed(90)\n",
    "d = 100\n",
    "lambda_1 = 1\n",
    "lambda_2 = 10\n",
    "beta = 0.2\n",
    "for i in range(1000):\n",
    "    diag_vals = np.zeros(d)\n",
    "    diag_vals[:2] = np.array([lambda_1, lambda_2])\n",
    "    diag_vals[2:] = np.random.uniform(lambda_1 + 0.1,\n",
    "                                      lambda_2 - 0.1, (d - 2))\n",
    "    A = np.diag(diag_vals)\n",
    "    rotation= mt_obj.calculate_rotation_matrix(d, 3)\n",
    "    matrix_test = (np.transpose(rotation) @ A @\n",
    "                   rotation)\n",
    "    test = np.identity(d) - (np.identity(d) - beta * matrix_test)**2\n",
    "    eigenvalues, eigenvectors = LA.eig(test)\n",
    "    assert(np.all(eigenvalues >= 0))"
   ]
  },
  {
   "cell_type": "code",
   "execution_count": null,
   "metadata": {},
   "outputs": [],
   "source": []
  },
  {
   "cell_type": "code",
   "execution_count": null,
   "metadata": {},
   "outputs": [],
   "source": []
  },
  {
   "cell_type": "code",
   "execution_count": 47,
   "metadata": {},
   "outputs": [],
   "source": [
    "import sys\n",
    "import numpy as np\n",
    "import matplotlib.pyplot as plt\n",
    "import tqdm\n",
    "\n",
    "from metod_alg import objective_functions as mt_obj\n",
    "\n",
    "\n",
    "def approx_beta(test, d):\n",
    "    return (1 / np.mean(test)) *(((d - 1) * (d - 1)) / (2.25 * d * np.sqrt(d)))\n",
    "\n",
    "\n",
    "def numerical_quad_exp(P, d_list, lambda_2, seed):\n",
    "    f = mt_obj.several_quad_function\n",
    "    g = mt_obj.several_quad_gradient\n",
    "    lambda_1 = 1\n",
    "    num = 100\n",
    "    num_func = 100\n",
    "    store_quantity = np.zeros((len(d_list), num_func))\n",
    "    index = 0\n",
    "    for d in d_list:\n",
    "        for i in range(num_func):\n",
    "            store_x0, store_A = mt_obj.function_parameters_several_quad(P, d, lambda_1, lambda_2)\n",
    "            args = P, store_x0, store_A\n",
    "            store_norm_grad = np.zeros((num ))\n",
    "            for j in range(num):\n",
    "                grad = g(np.random.uniform(0,1,(d,)), *args)\n",
    "                store_norm_grad[j] = np.linalg.norm(grad)\n",
    "            store_quantity[index, i] = approx_beta(store_norm_grad, d)\n",
    "        index += 1\n",
    "    return store_quantity\n",
    "\n",
    "\n",
    "\n",
    "def func_parameters(func_name):\n",
    "    \"\"\"\n",
    "    Generates function parameters for a particular function.\n",
    "\n",
    "    Parameters\n",
    "    ----------\n",
    "    func_name : string\n",
    "                Name of function.\n",
    "\n",
    "    Returns\n",
    "    --------\n",
    "    d : integer\n",
    "        Size of dimension.\n",
    "    g : gradient of objective function.\n",
    "\n",
    "       `g(x, *func_args) -> 1-D array with shape (d, )`\n",
    "\n",
    "        where `x` is a 1-D array with shape(d, ) and func_args is a\n",
    "        tuple of arguments needed to compute the gradient.\n",
    "    func_args : tuple\n",
    "                Arguments passed to f and g.\n",
    "    bound_1 : integer\n",
    "               Lower bound used to generate starting points.\n",
    "    bound_2 : integer\n",
    "               Upper bound used to generate starting points.\n",
    "\n",
    "    \"\"\"\n",
    "    if func_name == 'styb':\n",
    "        d = 5\n",
    "        g = mt_obj.styblinski_tang_gradient\n",
    "        func_args = ()\n",
    "        bounds = (-5, 5)\n",
    "\n",
    "    elif func_name == 'qing':\n",
    "        d = 5\n",
    "        g = mt_obj.qing_gradient\n",
    "        func_args = (d,)\n",
    "        bounds = (-3, 3)\n",
    "\n",
    "    elif func_name == 'zak':\n",
    "        d = 10\n",
    "        g = mt_obj.zakharov_grad\n",
    "        func_args = (d,)\n",
    "        bounds = (-5, 10)\n",
    "    return d, g, func_args, bounds\n",
    "\n",
    "\n",
    "\n",
    "def compute_approx_unknown_lambda_max(g, args, bounds, d, num_func, num):\n",
    "    store_quantity = np.zeros((num_func))\n",
    "    index = 0\n",
    "    for i in range(num_func):\n",
    "        store_norm_grad = np.zeros((num))\n",
    "        for j in range(num):\n",
    "            grad = g(np.random.uniform(*bounds, (d,)), *args)\n",
    "            store_norm_grad[j] = np.linalg.norm(grad)\n",
    "        store_quantity[i] = approx_beta(store_norm_grad, d)\n",
    "    return store_quantity\n",
    "\n",
    "\n",
    "def boxplots_unknown_lambda_max():\n",
    "    \"\"\"\n",
    "    Boxplots for approximation of beta.\n",
    "\n",
    "    Parameters\n",
    "    ----------\n",
    "    store_all_norm_of_grad : 3-D array with shape (len(func_name_list),\n",
    "                             num_functions, num_points).\n",
    "                            The norm of the gradient at each starting point\n",
    "                            for each function.\n",
    "    num_functions : integer\n",
    "                    Number of functions.\n",
    "    \"\"\"\n",
    "    func_name_list = ['styb', 'qing', 'zak']\n",
    "    num_func = 100\n",
    "    num = 100\n",
    "    store_quantities = np.zeros((len(func_name_list), num_func))\n",
    "    index = 0\n",
    "    for func_name in func_name_list:\n",
    "        d, g, func_args, bounds = func_parameters(func_name)\n",
    "        store_quantities[index] = (compute_approx_unknown_lambda_max(\n",
    "                                   g, func_args, bounds, d, num_func, num))\n",
    "        index += 1\n",
    "    return store_quantities\n",
    "\n",
    "\n",
    "seed = 90\n",
    "type_func = 'unknown'\n",
    "if type_func == 'known':\n",
    "    lambda_list = [4, 10, 20]\n",
    "    if P == 5:\n",
    "        d_list = [5, 20, 100]\n",
    "    elif P == 20:\n",
    "        d_list = [20, 50, 100]\n",
    "    elif P == 50:\n",
    "        d_list = [50, 100, 200]\n",
    "    store_all_quantity = np.zeros((len(lambda_list), len(d_list), 100))\n",
    "    index = 0\n",
    "    for lambda_2 in tqdm.tqdm(lambda_list):\n",
    "        store_all_quantity[index] = numerical_quad_exp(P, d_list, lambda_2,\n",
    "                                                    seed)\n",
    "        index += 1\n",
    "    ticks = d_list\n",
    "    labels = [r'$\\lambda_{max} = 4$',\n",
    "            r'$\\lambda_{max} = 10$',\n",
    "            r'$\\lambda_{max} = 20$']\n",
    "    create_boxplots(store_all_quantity[0],\n",
    "                    store_all_quantity[1],\n",
    "                    store_all_quantity[2],\n",
    "                    labels, ticks, P, seed)\n",
    "elif type_func == 'unknown':\n",
    "    store_quantities = boxplots_unknown_lambda_max()"
   ]
  },
  {
   "cell_type": "code",
   "execution_count": 49,
   "metadata": {},
   "outputs": [
    {
     "data": {
      "text/plain": [
       "0.00582001198570449"
      ]
     },
     "execution_count": 49,
     "metadata": {},
     "output_type": "execute_result"
    }
   ],
   "source": [
    "np.median(store_quantities[0])"
   ]
  },
  {
   "cell_type": "code",
   "execution_count": 50,
   "metadata": {},
   "outputs": [
    {
     "data": {
      "text/plain": [
       "0.012724432696707144"
      ]
     },
     "execution_count": 50,
     "metadata": {},
     "output_type": "execute_result"
    }
   ],
   "source": [
    "np.median(store_quantities[1])"
   ]
  },
  {
   "cell_type": "code",
   "execution_count": 51,
   "metadata": {},
   "outputs": [
    {
     "data": {
      "text/plain": [
       "4.2510398279391696e-08"
      ]
     },
     "execution_count": 51,
     "metadata": {},
     "output_type": "execute_result"
    }
   ],
   "source": [
    "np.median(store_quantities[2])"
   ]
  },
  {
   "cell_type": "code",
   "execution_count": null,
   "metadata": {},
   "outputs": [],
   "source": []
  }
 ],
 "metadata": {
  "kernelspec": {
   "display_name": "Python 3",
   "language": "python",
   "name": "python3"
  },
  "language_info": {
   "codemirror_mode": {
    "name": "ipython",
    "version": 3
   },
   "file_extension": ".py",
   "mimetype": "text/x-python",
   "name": "python",
   "nbconvert_exporter": "python",
   "pygments_lexer": "ipython3",
   "version": "3.8.5"
  }
 },
 "nbformat": 4,
 "nbformat_minor": 4
}
