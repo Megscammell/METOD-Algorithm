{
 "cells": [
  {
   "cell_type": "code",
   "execution_count": 95,
   "metadata": {},
   "outputs": [],
   "source": [
    "import numpy as np\n",
    "\n",
    "from metod_alg import metod_analysis as mt_ays\n",
    "from metod_alg import objective_functions as mt_obj\n",
    "\n",
    "import tqdm"
   ]
  },
  {
   "cell_type": "code",
   "execution_count": 96,
   "metadata": {},
   "outputs": [],
   "source": [
    "func_name = 'hart'\n",
    "d = 6\n",
    "relax_sd = 1\n",
    "num = 1\n",
    "met = 'Brent'\n",
    "option = 'minimize_scalar'\n",
    "initial_guess = 0.005\n",
    "projection = False\n",
    "grad_norms = np.genfromtxt('%s_store_all_grad_norms_nsm_d=%s_%s_relax_c=%s_num=%s_%s.csv' %\n",
    "                       (func_name, d, projection, relax_sd,\n",
    "                        num, met),\n",
    "                        delimiter=',')\n",
    "no_its = np.genfromtxt('%s_store_all_its_nsm_d=%s_%s_relax_c=%s_num=%s_%s.csv' %\n",
    "                       (func_name, d, projection, relax_sd,\n",
    "                        num, met),\n",
    "                        delimiter=',')\n",
    "minimizer_store = np.genfromtxt('%s_all_store_minimizer_d=%s_%s_relax_c=%s_num=%s_%s.csv' %\n",
    "                       (func_name, d, projection, relax_sd,\n",
    "                        num, met),\n",
    "                        delimiter=',')\n",
    "\n"
   ]
  },
  {
   "cell_type": "code",
   "execution_count": 97,
   "metadata": {},
   "outputs": [],
   "source": [
    "d = 6\n",
    "num_points = 100\n",
    "f = mt_obj.hartmann6_func\n",
    "g = mt_obj.hartmann6_grad\n",
    "check_func = mt_obj.calc_minimizer_hartmann6\n",
    "a, c, p = mt_obj.hartmann6_func_params()\n",
    "func_args = d, a, c, p\n",
    "func_args_check_func = ()\n",
    "bounds_1 = 0\n",
    "bounds_2 = 1\n",
    "number_its_compare = 3\n",
    "num = 1\n",
    "usage = 'metod_algorithm'\n",
    "relax_sd_it = 1\n",
    "tolerance = 0.01"
   ]
  },
  {
   "cell_type": "code",
   "execution_count": 98,
   "metadata": {},
   "outputs": [
    {
     "data": {
      "text/plain": [
       "148.89"
      ]
     },
     "execution_count": 98,
     "metadata": {},
     "output_type": "execute_result"
    }
   ],
   "source": [
    "np.round(np.mean(no_its), 2)"
   ]
  },
  {
   "cell_type": "code",
   "execution_count": 99,
   "metadata": {},
   "outputs": [
    {
     "data": {
      "text/plain": [
       "1.8201"
      ]
     },
     "execution_count": 99,
     "metadata": {},
     "output_type": "execute_result"
    }
   ],
   "source": [
    "np.round(np.mean(grad_norms), 5)"
   ]
  },
  {
   "cell_type": "code",
   "execution_count": 100,
   "metadata": {},
   "outputs": [
    {
     "data": {
      "text/plain": [
       "array([[601.,  15., 574., ...,  17., 545.,  23.],\n",
       "       [ 14.,  15., 455., ...,  27.,  20., 376.],\n",
       "       [ 21.,  25.,  18., ...,  31., 527.,  17.],\n",
       "       ...,\n",
       "       [513.,  18.,  57., ...,  18., 176.,  14.],\n",
       "       [ 18.,  18., 495., ...,  23., 561., 592.],\n",
       "       [486., 586., 449., ..., 602.,  17.,  18.]])"
      ]
     },
     "execution_count": 100,
     "metadata": {},
     "output_type": "execute_result"
    }
   ],
   "source": [
    "no_its"
   ]
  },
  {
   "cell_type": "code",
   "execution_count": 101,
   "metadata": {},
   "outputs": [
    {
     "data": {
      "text/plain": [
       "array([[1., 0., 1., ..., 0., 1., 0.],\n",
       "       [0., 0., 1., ..., 0., 0., 1.],\n",
       "       [0., 0., 0., ..., 0., 1., 0.],\n",
       "       ...,\n",
       "       [1., 0., 0., ..., 0., 1., 0.],\n",
       "       [0., 0., 1., ..., 0., 1., 1.],\n",
       "       [1., 1., 1., ..., 1., 0., 0.]])"
      ]
     },
     "execution_count": 101,
     "metadata": {},
     "output_type": "execute_result"
    }
   ],
   "source": [
    "minimizer_store"
   ]
  },
  {
   "cell_type": "code",
   "execution_count": 102,
   "metadata": {},
   "outputs": [],
   "source": [
    "store_dists_0 = []\n",
    "store_grads_0 = []\n",
    "store_dists_1 = []\n",
    "store_grads_1 = []\n",
    "for j in range(100):\n",
    "    for i in range(100):\n",
    "        if minimizer_store[j, i] == 0:\n",
    "            store_dists_0.append(no_its[j, i])\n",
    "            store_grads_0.append(grad_norms[j, i])\n",
    "        else:\n",
    "            store_dists_1.append(no_its[j, i])\n",
    "            store_grads_1.append(grad_norms[j, i])"
   ]
  },
  {
   "cell_type": "code",
   "execution_count": 104,
   "metadata": {},
   "outputs": [
    {
     "data": {
      "text/plain": [
       "20.294033275960988"
      ]
     },
     "execution_count": 104,
     "metadata": {},
     "output_type": "execute_result"
    }
   ],
   "source": [
    "np.mean(store_dists_0)"
   ]
  },
  {
   "cell_type": "code",
   "execution_count": 105,
   "metadata": {},
   "outputs": [
    {
     "data": {
      "text/plain": [
       "444.9910832232497"
      ]
     },
     "execution_count": 105,
     "metadata": {},
     "output_type": "execute_result"
    }
   ],
   "source": [
    "np.mean(store_dists_1)"
   ]
  },
  {
   "cell_type": "code",
   "execution_count": 107,
   "metadata": {},
   "outputs": [
    {
     "data": {
      "text/plain": [
       "1.6743570489283275"
      ]
     },
     "execution_count": 107,
     "metadata": {},
     "output_type": "execute_result"
    }
   ],
   "source": [
    "np.mean(store_grads_0)"
   ]
  },
  {
   "cell_type": "code",
   "execution_count": 108,
   "metadata": {},
   "outputs": [
    {
     "data": {
      "text/plain": [
       "2.1556691735677616"
      ]
     },
     "execution_count": 108,
     "metadata": {},
     "output_type": "execute_result"
    }
   ],
   "source": [
    "np.mean(store_grads_1)"
   ]
  },
  {
   "cell_type": "code",
   "execution_count": null,
   "metadata": {},
   "outputs": [],
   "source": []
  },
  {
   "cell_type": "code",
   "execution_count": null,
   "metadata": {},
   "outputs": [],
   "source": []
  },
  {
   "cell_type": "code",
   "execution_count": null,
   "metadata": {},
   "outputs": [],
   "source": []
  },
  {
   "cell_type": "code",
   "execution_count": null,
   "metadata": {},
   "outputs": [],
   "source": []
  },
  {
   "cell_type": "code",
   "execution_count": null,
   "metadata": {},
   "outputs": [],
   "source": []
  },
  {
   "cell_type": "code",
   "execution_count": null,
   "metadata": {},
   "outputs": [],
   "source": []
  },
  {
   "cell_type": "code",
   "execution_count": null,
   "metadata": {},
   "outputs": [],
   "source": []
  },
  {
   "cell_type": "code",
   "execution_count": 138,
   "metadata": {},
   "outputs": [],
   "source": [
    "from numpy import linalg as LA\n",
    "from metod_alg import objective_functions as mt_obj"
   ]
  },
  {
   "cell_type": "code",
   "execution_count": 145,
   "metadata": {},
   "outputs": [],
   "source": [
    "np.random.seed(90)\n",
    "d = 100\n",
    "lambda_1 = 1\n",
    "lambda_2 = 10\n",
    "beta = 0.2\n",
    "for i in range(1000):\n",
    "    diag_vals = np.zeros(d)\n",
    "    diag_vals[:2] = np.array([lambda_1, lambda_2])\n",
    "    diag_vals[2:] = np.random.uniform(lambda_1 + 0.1,\n",
    "                                      lambda_2 - 0.1, (d - 2))\n",
    "    A = np.diag(diag_vals)\n",
    "    rotation= mt_obj.calculate_rotation_matrix(d, 3)\n",
    "    matrix_test = (np.transpose(rotation) @ A @\n",
    "                   rotation)\n",
    "    test = np.identity(d) - (np.identity(d) - beta * matrix_test)**2\n",
    "    eigenvalues, eigenvectors = LA.eig(test)\n",
    "    assert(np.all(eigenvalues >= 0))"
   ]
  },
  {
   "cell_type": "code",
   "execution_count": null,
   "metadata": {},
   "outputs": [],
   "source": []
  }
 ],
 "metadata": {
  "kernelspec": {
   "display_name": "Python 3",
   "language": "python",
   "name": "python3"
  },
  "language_info": {
   "codemirror_mode": {
    "name": "ipython",
    "version": 3
   },
   "file_extension": ".py",
   "mimetype": "text/x-python",
   "name": "python",
   "nbconvert_exporter": "python",
   "pygments_lexer": "ipython3",
   "version": "3.8.5"
  }
 },
 "nbformat": 4,
 "nbformat_minor": 4
}
