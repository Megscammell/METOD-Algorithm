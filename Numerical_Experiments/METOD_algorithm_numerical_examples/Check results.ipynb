{
 "cells": [
  {
   "cell_type": "code",
   "execution_count": 160,
   "metadata": {},
   "outputs": [],
   "source": [
    "import numpy as np\n",
    "import pandas as pd"
   ]
  },
  {
   "cell_type": "code",
   "execution_count": 165,
   "metadata": {},
   "outputs": [],
   "source": [
    "\n",
    "d = 5\n",
    "set_x = 'random'\n",
    "num_p = 500"
   ]
  },
  {
   "cell_type": "code",
   "execution_count": 184,
   "metadata": {},
   "outputs": [],
   "source": [
    "df = pd.read_csv('qing_sd_metod_beta_%s_m=%s_d=%s'\n",
    "                    '_%s_%s.csv'\n",
    "                       % (beta, m, d, set_x,\n",
    "                          num_p))\n",
    "store_ex_des = df['number_extra_descents_per_func_metod']\n",
    "store_minima = np.array(df['number_minimas_per_func_multistart'])\n",
    "store_minima_metod = np.array(df['number_minimas_per_func_metod'])\n",
    "store_time_metod = np.array(df['time_metod'])\n",
    "store_time_multistart= np.array(df['time_multistart'])\n",
    "no_its = np.genfromtxt('qing_no_its_mult_beta_%s_m=%s_d=%s_%s_%s.csv' %\n",
    "                        (beta, m, d, set_x, num_p), delimiter=',')"
   ]
  },
  {
   "cell_type": "code",
   "execution_count": 185,
   "metadata": {},
   "outputs": [
    {
     "data": {
      "text/plain": [
       "19.0"
      ]
     },
     "execution_count": 185,
     "metadata": {},
     "output_type": "execute_result"
    }
   ],
   "source": [
    "np.mean(np.array(store_ex_des))"
   ]
  },
  {
   "cell_type": "code",
   "execution_count": 186,
   "metadata": {},
   "outputs": [
    {
     "data": {
      "text/plain": [
       "0.2656179886912431"
      ]
     },
     "execution_count": 186,
     "metadata": {},
     "output_type": "execute_result"
    }
   ],
   "source": [
    "np.mean(store_time_metod) / np.mean(store_time_multistart)"
   ]
  },
  {
   "cell_type": "code",
   "execution_count": 187,
   "metadata": {},
   "outputs": [
    {
     "data": {
      "text/plain": [
       "5.407809019088745"
      ]
     },
     "execution_count": 187,
     "metadata": {},
     "output_type": "execute_result"
    }
   ],
   "source": [
    "np.mean(store_time_metod)"
   ]
  },
  {
   "cell_type": "code",
   "execution_count": 188,
   "metadata": {},
   "outputs": [
    {
     "data": {
      "text/plain": [
       "20.359347820281986"
      ]
     },
     "execution_count": 188,
     "metadata": {},
     "output_type": "execute_result"
    }
   ],
   "source": [
    "np.mean(store_time_multistart)"
   ]
  },
  {
   "cell_type": "code",
   "execution_count": 189,
   "metadata": {},
   "outputs": [
    {
     "data": {
      "text/plain": [
       "array([32.])"
      ]
     },
     "execution_count": 189,
     "metadata": {},
     "output_type": "execute_result"
    }
   ],
   "source": [
    "store_minima"
   ]
  },
  {
   "cell_type": "code",
   "execution_count": 190,
   "metadata": {},
   "outputs": [
    {
     "data": {
      "text/plain": [
       "array([32.])"
      ]
     },
     "execution_count": 190,
     "metadata": {},
     "output_type": "execute_result"
    }
   ],
   "source": [
    "store_minima_metod"
   ]
  },
  {
   "cell_type": "code",
   "execution_count": 192,
   "metadata": {},
   "outputs": [
    {
     "data": {
      "text/plain": [
       "array([25., 17., 23., 18., 15., 14., 25., 22., 14., 14., 22., 18., 15.,\n",
       "       20., 15., 18., 16., 20., 17., 19., 16., 26., 27., 23., 25., 23.,\n",
       "       19., 23., 11., 19., 19., 18., 18., 19., 33., 20., 20., 18., 23.,\n",
       "       36., 15., 20., 17., 19., 20., 16., 14., 25., 15., 17., 19., 16.,\n",
       "       19., 22., 20., 15., 19., 14., 22., 20., 21., 19., 20., 13., 20.,\n",
       "       23., 20., 18., 18., 19., 16., 17., 27., 29., 19., 19., 22., 20.,\n",
       "       19., 19., 20., 28., 20., 17., 16., 31., 20., 24., 20., 15., 19.,\n",
       "       18., 18., 17., 41., 28., 20., 20., 15., 15., 15., 14., 16., 17.,\n",
       "       23., 15., 12., 18., 15., 29., 18., 20., 36., 17., 17., 19., 15.,\n",
       "       13., 15., 13., 18., 27., 27., 17., 18., 20., 23., 26., 15., 18.,\n",
       "       45., 18., 23., 22., 22., 13., 23., 20., 21., 18., 21., 19., 16.,\n",
       "       17., 14., 17., 39., 23., 16., 22., 21., 20., 21., 20., 16., 17.,\n",
       "       17., 20., 26., 15., 18., 20., 20., 12., 34., 17., 21., 32., 16.,\n",
       "       14., 20., 13., 17., 22., 19., 28., 17., 17., 26., 44., 16., 14.,\n",
       "       19., 26., 16., 21., 13., 17., 12., 19., 20., 20., 13., 22., 12.,\n",
       "       27., 17., 36., 14., 19., 15., 20., 25., 20., 20., 19., 26., 16.,\n",
       "       21., 22., 17., 20., 22., 19., 14., 17., 22., 18., 19., 23., 20.,\n",
       "       24., 19., 20., 27., 14., 27., 19., 20., 20., 20., 18., 17., 15.,\n",
       "       20., 17., 17., 19., 38., 25., 16., 16., 18., 43., 19., 23., 20.,\n",
       "       25., 20., 23., 17., 21., 22., 18., 22., 16., 31., 25., 17., 19.,\n",
       "       29., 20., 16., 20., 21., 18., 18., 20., 18., 19., 20., 17., 19.,\n",
       "       14., 25., 18., 22., 29., 19., 20., 17., 23., 16., 20., 21., 27.,\n",
       "       18., 17., 34., 19., 20., 16., 22., 17., 16., 31., 17., 17., 22.,\n",
       "       17., 26., 12., 16., 19., 17., 17., 17., 19., 42., 18., 23., 19.,\n",
       "       15., 14., 24., 13., 19., 24., 19., 14., 21., 17., 18., 19., 22.,\n",
       "       20., 16., 28., 13., 16., 17., 28., 20., 24., 15., 22., 16., 19.,\n",
       "       21., 14., 16., 35., 17., 19., 19., 21., 17., 21., 20., 20., 22.,\n",
       "       19., 19., 16., 21., 18., 17., 19., 18., 25., 29., 19., 19., 18.,\n",
       "       16., 20., 19., 15., 16., 20., 17., 15., 13., 19., 20., 30., 21.,\n",
       "       26., 18., 22., 13., 19., 23., 16., 18., 29., 17., 14., 22., 20.,\n",
       "       16., 21., 25., 22., 22., 28., 20., 14., 14., 19., 29., 21., 23.,\n",
       "       16., 16., 18., 25., 19., 24., 20., 20., 17., 22., 44., 21., 16.,\n",
       "       35., 16., 22., 18., 23., 17., 20., 29., 22., 24., 18., 20., 17.,\n",
       "       27., 19., 16., 13., 18., 19., 23., 18., 13., 16., 37., 18., 18.,\n",
       "       18., 22., 20., 16., 19., 16., 18., 20., 12., 18., 27., 21., 15.,\n",
       "       21., 28., 19., 29., 21., 14., 23., 22., 23., 25., 23., 52., 23.,\n",
       "       17., 18., 22., 15., 16., 26., 20., 18., 16., 16., 22., 17., 16.,\n",
       "       15., 23., 17., 18., 15., 13., 21., 18., 16., 22., 26., 21., 22.,\n",
       "       18., 18., 13., 25., 17., 29.])"
      ]
     },
     "execution_count": 192,
     "metadata": {},
     "output_type": "execute_result"
    }
   ],
   "source": [
    "no_its"
   ]
  },
  {
   "cell_type": "code",
   "execution_count": 3,
   "metadata": {},
   "outputs": [],
   "source": [
    "import metod as mt\n",
    "from metod import objective_functions as mt_obj\n",
    "from metod import metod_algorithm_functions as mt_alg\n",
    "import pytest"
   ]
  },
  {
   "cell_type": "code",
   "execution_count": 4,
   "metadata": {},
   "outputs": [],
   "source": [
    "def func_params(d=20, p=2, lambda_1=1, lambda_2=10):\n",
    "    \"\"\"Generates parameters to use for tests.\"\"\"\n",
    "    f = mt_obj.several_quad_function\n",
    "    g = mt_obj.several_quad_gradient\n",
    "    store_x0, matrix_test = (mt_obj.function_parameters_several_quad(p, d, \n",
    "                             lambda_1, lambda_2))\n",
    "    func_args = p, store_x0, matrix_test\n",
    "    return f, g, func_args"
   ]
  },
  {
   "cell_type": "code",
   "execution_count": 11,
   "metadata": {},
   "outputs": [
    {
     "name": "stderr",
     "output_type": "stream",
     "text": [
      "100%|████████████████████████████████████████████████████████████████████████████████| 100/100 [00:42<00:00,  2.34it/s]\n"
     ]
    }
   ],
   "source": [
    "np.random.seed(20)\n",
    "lambda_1 = 1\n",
    "lambda_2 = 10\n",
    "p = 10\n",
    "d = 20\n",
    "num_points = 100\n",
    "store_x0, matrix_test = (mt_obj.function_parameters_several_quad\n",
    "                         (p, d, lambda_1, lambda_2))\n",
    "func_args = p, store_x0, matrix_test\n",
    "f = mt_obj.several_quad_function\n",
    "g = mt_obj.several_quad_gradient\n",
    "tolerance = 0.00001\n",
    "projection = False\n",
    "starting_points = np.random.uniform(0, 1, (num_points, d))\n",
    "const = 0.1\n",
    "met = 'None'\n",
    "option = 'forward_backward_tracking'\n",
    "initial_guess = 0.005\n",
    "bounds_set_x = (0, 1)\n",
    "relax_sd_it = 1\n",
    "(unique_minimizers_mult,\n",
    " unique_number_of_minimizers_mult,\n",
    " store_func_vals_mult,\n",
    " time_taken_des,\n",
    " store_minimizer_des) = mt.multistart(f, g, func_args, d, starting_points,\n",
    "                                      num_points, tolerance, projection,\n",
    "                                      const, option, met, initial_guess,\n",
    "                                      bounds_set_x, relax_sd_it)\n",
    "\"\"\"Check outputs are as expected\"\"\"\n",
    "assert(len(unique_minimizers_mult) == unique_number_of_minimizers_mult)\n",
    "assert(unique_number_of_minimizers_mult == len(store_func_vals_mult))\n",
    "\n",
    "\"\"\"Ensure that each region of attraction discovered is unique\"\"\"\n",
    "mt_obj.check_unique_minimizers(store_minimizer_des,\n",
    "                               unique_number_of_minimizers_mult,\n",
    "                               mt_obj.calc_minimizer_sev_quad, func_args)\n",
    "assert(time_taken_des >= 0)"
   ]
  },
  {
   "cell_type": "code",
   "execution_count": null,
   "metadata": {},
   "outputs": [],
   "source": []
  }
 ],
 "metadata": {
  "kernelspec": {
   "display_name": "Python 3",
   "language": "python",
   "name": "python3"
  },
  "language_info": {
   "codemirror_mode": {
    "name": "ipython",
    "version": 3
   },
   "file_extension": ".py",
   "mimetype": "text/x-python",
   "name": "python",
   "nbconvert_exporter": "python",
   "pygments_lexer": "ipython3",
   "version": "3.8.5"
  }
 },
 "nbformat": 4,
 "nbformat_minor": 4
}
