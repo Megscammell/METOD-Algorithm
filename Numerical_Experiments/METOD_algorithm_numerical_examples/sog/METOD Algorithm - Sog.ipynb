{
 "cells": [
  {
   "cell_type": "markdown",
   "metadata": {},
   "source": [
    "# SOG"
   ]
  },
  {
   "cell_type": "markdown",
   "metadata": {},
   "source": [
    "Weighted Sum of Gaussians objectve function:\n",
    "\n",
    "\\begin{equation}\n",
    "\\label{eq:funct1}\n",
    "f(x_n^{(k)})= -\\sum_{p=1}^{P} c_p\\exp \\Bigg\\{ {-\\frac{1}{2 \\sigma^2}(x_n^{(k)}-x_{0p})^T A_p^T \\Sigma_p A_p(x_n^{(k)}-x_{0p})}\\Bigg\\}\\, .\n",
    "\\end{equation}\n",
    "where $x_n^{(k)}$ is the $n$-th point after $k$ iterations of anti-gradient descent, $P$ is the number of Gaussian densities; $A_p$ is a random rotation matrix of size $d\\times d$; $\\Sigma_p$ is a diagonal positive definite matrix of size $d\\times d$ with smallest and largest eigenvalues $\\lambda_{min}$ and $\\lambda_{max}$ respectively;  $x_{0p} \\in \\mathfrak{X}=[0,1]^d$ (centers of the Gaussian densities); $c_p$ is a fixed constant and $p=1,...,P$.\n",
    "\n",
    "Note that anti-gradient descent iterations are terminated at the smallest $k=K_n$ such that $\\nabla f(x_n^{(k)}) < \\delta$, where $\\delta$ is some small positive constant. \n",
    "\n"
   ]
  },
  {
   "cell_type": "markdown",
   "metadata": {},
   "source": [
    "# Import libraries"
   ]
  },
  {
   "cell_type": "code",
   "execution_count": 1,
   "metadata": {},
   "outputs": [],
   "source": [
    "import numpy as np \n",
    "from numpy import linalg as LA\n",
    "import pandas as pd\n",
    "import matplotlib.pyplot as plt; plt.rcdefaults()\n",
    "import textwrap\n",
    "\n",
    "import metod_alg as mt\n",
    "from metod_alg import metod_algorithm_functions as mt_alg\n",
    "from metod_alg import objective_functions as mt_obj\n",
    "import tqdm\n",
    "import seaborn as sns\n",
    "import SALib\n",
    "from SALib.sample import sobol_sequence"
   ]
  },
  {
   "cell_type": "markdown",
   "metadata": {},
   "source": [
    "# Results"
   ]
  },
  {
   "cell_type": "markdown",
   "metadata": {},
   "source": [
    "For all results $d=20$ and $N=100$."
   ]
  },
  {
   "cell_type": "code",
   "execution_count": 16,
   "metadata": {},
   "outputs": [],
   "source": [
    "d = 20\n",
    "p = 10\n",
    "sig_sq = 0.7\n",
    "beta_list = [0.1]\n",
    "m_list = [1]\n",
    "\n",
    "avg_grad = np.zeros((len(m_list) * len(beta_list), 100, 500))\n",
    "\n",
    "total_no_local_minimizers_metod = np.zeros((len(m_list), len(beta_list), 100))\n",
    "time_taken_metod = np.zeros((len(m_list), len(beta_list), 100))\n",
    "extra_descents_metod = np.zeros((len(m_list), len(beta_list), 100))\n",
    "func_val_metod = np.zeros((len(m_list), len(beta_list), 100))\n",
    "\n",
    "df_mult = pd.read_csv('sog_sd_metod_beta_0.1_m=1_d=20_p=10_random_sig_%s_100.csv' % (sig_sq))\n",
    "total_no_local_minimizers_mult = np.array(df_mult['number_minimizers_per_func_multistart'])\n",
    "time_taken_mult = np.array(df_mult['time_multistart'])\n",
    "func_val_mult = np.array(df_mult['min_func_val_multistart'])\n",
    "test = np.array(df_mult['number_minimizers_per_func_metod'])\n",
    "\n",
    "# index_all = 0\n",
    "# index_m = 0\n",
    "# for m in m_list:\n",
    "#     index_beta = 0\n",
    "#     for beta in beta_list:\n",
    "#         df_metod = pd.read_csv('sog_metod_beta_%s_m=%s_d=20_p=10_sig_%s_random_100.csv'% (beta, m, sig_sq))\n",
    "#         total_no_local_minimizers_metod[index_m, index_beta] = np.array(df_metod['number_minimizers_per_func_metod'])\n",
    "#         time_taken_metod[index_m, index_beta] = np.array(df_metod['time_metod'])\n",
    "#         func_val_metod[index_m, index_beta] = np.array(df_metod['min_func_val_metod'])\n",
    "#         if beta == 0.1 and m == 1:\n",
    "#             assert(np.all(total_no_local_minimizers_metod[index_m, index_beta] == test))\n",
    "#         extra_descents_metod[index_m, index_beta] = np.array(df_metod['number_extra_descents_per_func_metod'])\n",
    "\n",
    "#         avg_grad[index_all] = np.genfromtxt('sog_grad_norm_beta_%s_m=%s_d=20_p=10_random_sig_%s_100.csv'% (beta, m, sig_sq), delimiter=',')\n",
    "#         index_beta += 1\n",
    "#         index_all += 1\n",
    "#     index_m += 1"
   ]
  },
  {
   "cell_type": "code",
   "execution_count": 17,
   "metadata": {},
   "outputs": [],
   "source": [
    "sig_07_min = total_no_local_minimizers_mult"
   ]
  },
  {
   "cell_type": "code",
   "execution_count": 13,
   "metadata": {},
   "outputs": [],
   "source": [
    "sig_06_min = total_no_local_minimizers_mult"
   ]
  },
  {
   "cell_type": "code",
   "execution_count": 18,
   "metadata": {},
   "outputs": [],
   "source": [
    "sig_07_test = test"
   ]
  },
  {
   "cell_type": "code",
   "execution_count": 14,
   "metadata": {},
   "outputs": [],
   "source": [
    "sig_06_test = test"
   ]
  },
  {
   "cell_type": "code",
   "execution_count": 19,
   "metadata": {},
   "outputs": [],
   "source": [
    "sig_07_ext = np.array(df_mult['number_extra_descents_per_func_metod'])"
   ]
  },
  {
   "cell_type": "code",
   "execution_count": 15,
   "metadata": {},
   "outputs": [],
   "source": [
    "sig_06_ext  = np.array(df_mult['number_extra_descents_per_func_metod'])"
   ]
  },
  {
   "cell_type": "code",
   "execution_count": 24,
   "metadata": {},
   "outputs": [
    {
     "data": {
      "text/plain": [
       "96"
      ]
     },
     "execution_count": 24,
     "metadata": {},
     "output_type": "execute_result"
    }
   ],
   "source": [
    "np.sum(sig_07_min  == sig_07_test)"
   ]
  },
  {
   "cell_type": "code",
   "execution_count": 25,
   "metadata": {},
   "outputs": [
    {
     "data": {
      "text/plain": [
       "95"
      ]
     },
     "execution_count": 25,
     "metadata": {},
     "output_type": "execute_result"
    }
   ],
   "source": [
    "np.sum(sig_06_min  == sig_06_test)"
   ]
  },
  {
   "cell_type": "code",
   "execution_count": 26,
   "metadata": {},
   "outputs": [
    {
     "data": {
      "text/plain": [
       "64.63"
      ]
     },
     "execution_count": 26,
     "metadata": {},
     "output_type": "execute_result"
    }
   ],
   "source": [
    "np.mean(sig_07_ext)"
   ]
  },
  {
   "cell_type": "code",
   "execution_count": 27,
   "metadata": {},
   "outputs": [
    {
     "data": {
      "text/plain": [
       "67.83"
      ]
     },
     "execution_count": 27,
     "metadata": {},
     "output_type": "execute_result"
    }
   ],
   "source": [
    "np.mean(sig_06_ext)"
   ]
  },
  {
   "cell_type": "code",
   "execution_count": null,
   "metadata": {},
   "outputs": [],
   "source": [
    "total_no_minimizers_prop = total_no_local_minimizers_metod / total_no_local_minimizers_mult"
   ]
  },
  {
   "cell_type": "code",
   "execution_count": null,
   "metadata": {},
   "outputs": [],
   "source": [
    "time_taken_prop = time_taken_metod / time_taken_mult"
   ]
  },
  {
   "cell_type": "code",
   "execution_count": null,
   "metadata": {},
   "outputs": [],
   "source": [
    "for j in range(len(beta_list) * len(m_list)):\n",
    "    for k in range(j+1, len(beta_list) * len(m_list)):\n",
    "            assert(np.all(np.round(avg_grad[k], 5) == np.round(avg_grad[j], 5)))"
   ]
  },
  {
   "cell_type": "code",
   "execution_count": null,
   "metadata": {},
   "outputs": [],
   "source": [
    "same_global_min = np.zeros((len(m_list), len(beta_list)))\n",
    "same_minimizer = np.zeros((len(m_list), len(beta_list)))\n",
    "mean_excessive_descents = np.zeros((len(m_list), len(beta_list)))\n",
    "for i in range(len(m_list)):\n",
    "    for j in range(len(beta_list)):\n",
    "        assert(np.all(total_no_local_minimizers_mult >=  total_no_local_minimizers_metod[i, j]))\n",
    "        same_global_min[i, j] = np.where(np.round(func_val_mult, 2) == np.round(func_val_metod[i, j], 2))[0].shape[0]\n",
    "        same_minimizer[i, j] = np.sum(total_no_local_minimizers_metod[i, j]) / np.sum(total_no_local_minimizers_mult)\n",
    "        mean_excessive_descents[i, j] = np.mean(extra_descents_metod[i, j])"
   ]
  },
  {
   "cell_type": "code",
   "execution_count": null,
   "metadata": {},
   "outputs": [],
   "source": [
    "same_global_min"
   ]
  },
  {
   "cell_type": "code",
   "execution_count": null,
   "metadata": {},
   "outputs": [],
   "source": [
    "same_minimizer"
   ]
  },
  {
   "cell_type": "code",
   "execution_count": null,
   "metadata": {},
   "outputs": [],
   "source": [
    "number_its = np.genfromtxt('sog_no_its_mult_beta_0.1_m=1_d=4_p=10_random_sig_%s_500.csv' % (sig_sq), delimiter=',')\n",
    "store_mean_its = np.zeros((100))\n",
    "store_min_its = np.zeros((100))\n",
    "store_mean_norm_grad = np.zeros((100))\n",
    "for j in range(100):\n",
    "    store_mean_its[j] = np.mean(number_its[j])\n",
    "    store_min_its[j] = np.min(number_its[j])\n",
    "    store_mean_norm_grad[j] = 1 / np.mean(avg_grad[0][j])"
   ]
  },
  {
   "cell_type": "code",
   "execution_count": null,
   "metadata": {},
   "outputs": [],
   "source": [
    "store_mean_its"
   ]
  },
  {
   "cell_type": "code",
   "execution_count": null,
   "metadata": {},
   "outputs": [],
   "source": [
    "store_min_its"
   ]
  },
  {
   "cell_type": "code",
   "execution_count": null,
   "metadata": {},
   "outputs": [],
   "source": [
    "store_mean_norm_grad"
   ]
  },
  {
   "cell_type": "code",
   "execution_count": null,
   "metadata": {},
   "outputs": [],
   "source": [
    "def set_box_color(bp, color):\n",
    "    \"\"\"Set colour for boxplot.\"\"\"\n",
    "    plt.setp(bp['boxes'], color=color)\n",
    "    plt.setp(bp['whiskers'], color=color)\n",
    "    plt.setp(bp['caps'], color=color)\n",
    "    plt.setp(bp['medians'], color=color)\n",
    "    \n",
    "def create_boxplots_ratio(arr1, arr2, labels, ticks):\n",
    "    plt.figure(figsize=(7, 5))\n",
    "    \n",
    "    max_num = max(np.max(arr1), np.max(arr2))\n",
    "    plt.ylim(0, max_num + 0.1)\n",
    "    bpl = plt.boxplot(arr1.T,\n",
    "                      positions=np.array(range(len(arr1)))*2.0-0.4)\n",
    "    bpr = plt.boxplot(arr2.T,\n",
    "                      positions=np.array(range(len(arr2)))*2.0+0.4)\n",
    "    set_box_color(bpl, 'green')\n",
    "    set_box_color(bpr, 'navy')\n",
    "    plt.plot([], c='green', label=labels[0])\n",
    "    plt.plot([], c='navy', label=labels[1])\n",
    "    plt.legend(bbox_to_anchor=(0.99, 1.025), loc='upper left',\n",
    "               prop={'size': 15})\n",
    "    plt.xlabel(r'$\\beta$', size=14)\n",
    "    plt.xticks(np.arange(0, len(ticks) * 2, 2), ticks, size=15)\n",
    "    plt.yticks(fontsize=14)\n",
    "    plt.tight_layout()"
   ]
  },
  {
   "cell_type": "markdown",
   "metadata": {},
   "source": [
    "# Total number of local minima"
   ]
  },
  {
   "cell_type": "code",
   "execution_count": null,
   "metadata": {},
   "outputs": [],
   "source": [
    "ticks = [beta_list[0],\n",
    "          beta_list[1],\n",
    "          beta_list[2]]\n",
    "labels = [r'$M =$ %s' % (m_list[0]),\n",
    "        r'$M =$ %s' % (m_list[1])]"
   ]
  },
  {
   "cell_type": "code",
   "execution_count": null,
   "metadata": {},
   "outputs": [],
   "source": [
    "create_boxplots_ratio(total_no_minimizers_prop[0], total_no_minimizers_prop[1], labels, ticks)"
   ]
  },
  {
   "cell_type": "markdown",
   "metadata": {},
   "source": [
    "# Efficiency"
   ]
  },
  {
   "cell_type": "code",
   "execution_count": null,
   "metadata": {},
   "outputs": [],
   "source": [
    "create_boxplots_ratio(time_taken_prop[0], time_taken_prop[1], labels, ticks)"
   ]
  },
  {
   "cell_type": "markdown",
   "metadata": {},
   "source": [
    "# Excessive descents"
   ]
  },
  {
   "cell_type": "code",
   "execution_count": null,
   "metadata": {},
   "outputs": [],
   "source": [
    "create_boxplots_ratio(extra_descents_metod[0], extra_descents_metod[1], labels, ticks)"
   ]
  },
  {
   "cell_type": "code",
   "execution_count": null,
   "metadata": {},
   "outputs": [],
   "source": []
  },
  {
   "cell_type": "code",
   "execution_count": null,
   "metadata": {},
   "outputs": [],
   "source": []
  },
  {
   "cell_type": "code",
   "execution_count": null,
   "metadata": {},
   "outputs": [],
   "source": []
  }
 ],
 "metadata": {
  "kernelspec": {
   "display_name": "Python 3",
   "language": "python",
   "name": "python3"
  },
  "language_info": {
   "codemirror_mode": {
    "name": "ipython",
    "version": 3
   },
   "file_extension": ".py",
   "mimetype": "text/x-python",
   "name": "python",
   "nbconvert_exporter": "python",
   "pygments_lexer": "ipython3",
   "version": "3.8.5"
  }
 },
 "nbformat": 4,
 "nbformat_minor": 2
}
