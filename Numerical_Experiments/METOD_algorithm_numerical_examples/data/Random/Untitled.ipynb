{
 "cells": [
  {
   "cell_type": "code",
   "execution_count": 1,
   "metadata": {},
   "outputs": [],
   "source": [
    "import numpy as np\n",
    "import pandas as pd\n",
    "import matplotlib.pyplot as plt\n",
    "import sys\n",
    "\n",
    "\n",
    "def data_boxplots(func_name, d, p, num_p, beta_list, m_list, set_x, option,\n",
    "                  initial_guess):\n",
    "\n",
    "    avg_grad = np.zeros((len(m_list) * len(beta_list), 100, num_p))\n",
    "    grad_evals_metod = np.zeros((len(m_list) * len(beta_list), 100, num_p))\n",
    "    total_no_local_minimizers_metod = np.zeros((len(m_list), len(beta_list),\n",
    "                                               100))\n",
    "    time_taken_metod = np.zeros((len(m_list), len(beta_list), 100))\n",
    "    extra_descents_metod = np.zeros((len(m_list), len(beta_list), 100))\n",
    "    func_val_metod = np.zeros((len(m_list), len(beta_list), 100))\n",
    "\n",
    "    if p is not None and sigma_sq is not None:\n",
    "        df_mult = pd.read_csv('%s_sd_metod_beta_0.1_m=2_d=%s_p=%s_%s_sig'\n",
    "                              '_%s_%s_%s_%s.csv' %\n",
    "                              (func_name, d, p, set_x, sigma_sq, num_p,\n",
    "                               option, initial_guess))\n",
    "        grad_evals_mult = np.genfromtxt('%s_grad_evals_mult_beta_0.1_m=2'\n",
    "                                        '_d=%sp=%s_%s_sig'\n",
    "                                        '_%s_%s_%s_%s.csv' %\n",
    "                                        (func_name, d, p, set_x, sigma_sq,\n",
    "                                         num_p, option, initial_guess),\n",
    "                                        delimiter=',')\n",
    "\n",
    "    elif p is not None:\n",
    "        df_mult = pd.read_csv('%s_sd_metod_beta_0.1_m=2_d=%s_p=%s'\n",
    "                              '_%s_%s_%s_%s.csv' %\n",
    "                              (func_name, d, p, set_x, num_p,\n",
    "                               option, initial_guess))\n",
    "        grad_evals_mult = np.genfromtxt('%s_grad_evals_mult_beta_0.1_m=2_d=%s'\n",
    "                                        '_p=%s_%s_%s_%s_%s.csv' %\n",
    "                                        (func_name, d, p, set_x, num_p,\n",
    "                                         option, initial_guess),\n",
    "                                        delimiter=',')\n",
    "\n",
    "    else:\n",
    "        df_mult = pd.read_csv('%s_sd_metod_beta_0.01_m=2_d=%s'\n",
    "                              '_%s_%s_%s_%s.csv' %\n",
    "                              (func_name, d, set_x, num_p,\n",
    "                               option, initial_guess))\n",
    "        grad_evals_mult = np.genfromtxt('%s_grad_evals_mult_beta_0.01_m=2_d=%s'\n",
    "                                        '_%s_%s_%s_%s.csv' %\n",
    "                                        (func_name, d, set_x, num_p,\n",
    "                                         option, initial_guess),\n",
    "                                        delimiter=',')\n",
    "\n",
    "    total_no_local_minimizers_mult = np.array(df_mult['number_minimizers_per_func_multistart'])\n",
    "    time_taken_mult = np.array(df_mult['time_multistart'])\n",
    "    func_val_mult = np.array(df_mult['min_func_val_multistart'])\n",
    "    test = np.array(df_mult['number_minimizers_per_func_metod'])\n",
    "\n",
    "    index_all = 0\n",
    "    index_m = 0\n",
    "    for m in m_list:\n",
    "        index_beta = 0\n",
    "        for beta in beta_list:\n",
    "            if p is not None and sigma_sq is not None:\n",
    "                df_metod = pd.read_csv('%s_metod_beta_%s_m=%s_d=%s_p=%s_%s_sig'\n",
    "                                       '_%s_%s_%s_%s.csv' %\n",
    "                                       (func_name, beta, m, d, p, set_x,\n",
    "                                        sigma_sq, num_p, option,\n",
    "                                        initial_guess))\n",
    "                total_no_local_minimizers_metod[index_m, index_beta] = np.array(df_metod['number_minimizers_per_func_metod'])\n",
    "                if beta == 0.1 and m == 2:\n",
    "                    assert(np.all(total_no_local_minimizers_metod[index_m, index_beta] == test))\n",
    "\n",
    "            elif p is not None:\n",
    "                df_metod = pd.read_csv('%s_metod_beta_%s_m=%s_d=%s_p=%s_%s'\n",
    "                                       '_%s_%s_%s.csv' %\n",
    "                                       (func_name, beta, m, d, p, set_x, num_p,\n",
    "                                        option, initial_guess))\n",
    "                total_no_local_minimizers_metod[index_m, index_beta] = np.array(df_metod['number_minimizers_per_func_metod'])\n",
    "                if beta == 0.1 and m == 2:\n",
    "                    assert(np.all(total_no_local_minimizers_metod[index_m, index_beta] == test))\n",
    "            else:\n",
    "                df_metod = pd.read_csv('%s_metod_beta_%s_m=%s_d=%s_%s'\n",
    "                                       '_%s_%s_%s.csv' %\n",
    "                                       (func_name, beta, m, d, set_x, num_p,\n",
    "                                        option, initial_guess))\n",
    "                total_no_local_minimizers_metod[index_m, index_beta] = np.array(df_metod['number_minimizers_per_func_metod'])\n",
    "                if beta == 0.01 and m == 2:\n",
    "                    assert(np.all(total_no_local_minimizers_metod[index_m,\n",
    "                                  index_beta] == test))\n",
    "            time_taken_metod[index_m, index_beta] = np.array(df_metod['time_metod'])\n",
    "            func_val_metod[index_m, index_beta] = np.array(df_metod['min_func_val_metod'])\n",
    "\n",
    "            extra_descents_metod[index_m, index_beta] = np.array(df_metod['number_extra_descents_per_func_metod'])\n",
    "\n",
    "            if p is not None and sigma_sq is not None:\n",
    "                avg_grad[index_all] = np.genfromtxt('%s_grad_norm_beta_%s_m=%s'\n",
    "                                                    '_d=%s_p=%s_%s_sig_%s_%s'\n",
    "                                                    '_%s_%s.csv' %\n",
    "                                                    (func_name, beta, m, d, p,\n",
    "                                                     set_x, sigma_sq, num_p,\n",
    "                                                     option, initial_guess),\n",
    "                                                    delimiter=',')\n",
    "                grad_evals_metod[index_all] = np.genfromtxt('%s_grad_evals_'\n",
    "                                                            'metod_beta_%s_m=%s'\n",
    "                                                            '_d=%s_p=%s_%s_sig'\n",
    "                                                            '_%s_%s_%s_%s.csv' %\n",
    "                                                            (func_name, beta,\n",
    "                                                             m, d, p, set_x,\n",
    "                                                             sigma_sq, num_p,\n",
    "                                                             option,\n",
    "                                                             initial_guess),\n",
    "                                                            delimiter=',')\n",
    "\n",
    "            elif p is not None:\n",
    "                avg_grad[index_all] = np.genfromtxt('%s_grad_norm_beta_%s_m=%s'\n",
    "                                                    '_d=%s_p=%s_%s_%s'\n",
    "                                                    '_%s_%s.csv' %\n",
    "                                                    (func_name, beta, m, d, p,\n",
    "                                                     set_x, num_p, option,\n",
    "                                                     initial_guess),\n",
    "                                                    delimiter=',')\n",
    "                grad_evals_metod[index_all] = np.genfromtxt('%s_grad_evals_'\n",
    "                                                            'metod_beta_%s_m='\n",
    "                                                            '%s_d=%s_p=%s_%s_'\n",
    "                                                            '%s_%s_%s.csv' %\n",
    "                                                            (func_name, beta,\n",
    "                                                             m, d, p, set_x,\n",
    "                                                             num_p, option,\n",
    "                                                             initial_guess),\n",
    "                                                            delimiter=',')\n",
    "\n",
    "            else:\n",
    "                avg_grad[index_all] = np.genfromtxt('%s_grad_norm_beta_%s_m=%s'\n",
    "                                                    '_d=%s_%s_%s_%s_%s.csv' %\n",
    "                                                    (func_name, beta, m, d,\n",
    "                                                     set_x, num_p, option,\n",
    "                                                     initial_guess),\n",
    "                                                    delimiter=',')\n",
    "                grad_evals_metod[index_all] = np.genfromtxt('%s_grad_evals_'\n",
    "                                                            'metod_beta_%s_'\n",
    "                                                            'm=%s_d=%s_%s_'\n",
    "                                                            '%s_%s_%s.csv' %\n",
    "                                                            (func_name, beta,\n",
    "                                                             m, d, set_x,\n",
    "                                                             num_p, option,\n",
    "                                                             initial_guess),\n",
    "                                                            delimiter=',')\n",
    "\n",
    "            index_beta += 1\n",
    "            index_all += 1\n",
    "        index_m += 1\n",
    "\n",
    "    return (total_no_local_minimizers_metod, total_no_local_minimizers_mult,\n",
    "            time_taken_metod, time_taken_mult, func_val_metod, func_val_mult,\n",
    "            extra_descents_metod, avg_grad, grad_evals_metod, grad_evals_mult)\n",
    "\n",
    "\n",
    "\n",
    "def function_info(func_name, d, p, set_x, sigma_sq, num_p, option, avg_grad):\n",
    "    if p is not None and sigma_sq is not None:\n",
    "        number_its = np.genfromtxt('%s_grad_evals_mult_beta_0.1_m=2_d=%sp=%s'\n",
    "                                   '_%s_sig_%s_%s_%s_%s.csv' %\n",
    "                                   (func_name, d, p, set_x, sigma_sq, num_p,\n",
    "                                    option, initial_guess),\n",
    "                                   delimiter=',')\n",
    "    elif p is not None:\n",
    "        number_its = np.genfromtxt('%s_grad_evals_mult_beta_0.1_m=2_d=%s_p=%s'\n",
    "                                   '_%s_%s_%s_%s.csv' %\n",
    "                                   (func_name, d, p, set_x, num_p, option,\n",
    "                                    initial_guess),\n",
    "                                   delimiter=',') - 1\n",
    "    else:\n",
    "        number_its = np.genfromtxt('%s_grad_evals_mult_beta_0.01_m=2_d=%s'\n",
    "                                   '_%s_%s_%s_%s.csv' %\n",
    "                                   (func_name, d, set_x, num_p, option,\n",
    "                                    initial_guess),\n",
    "                                   delimiter=',') - 1\n",
    "    store_mean_its = np.zeros((100))\n",
    "    store_min_its = np.zeros((100))\n",
    "    store_max_its = np.zeros((100))\n",
    "    store_mean_norm_grad = np.zeros((100))\n",
    "    for j in range(100):\n",
    "        store_mean_its[j] = np.mean(number_its[j])\n",
    "        store_min_its[j] = np.min(number_its[j])\n",
    "        store_max_its[j] = np.max(number_its[j])\n",
    "        store_mean_norm_grad[j] = np.mean(avg_grad[0][j])\n",
    "    results = np.array([np.round(np.mean(store_mean_its), 2),\n",
    "                        np.round(np.min(store_min_its), 2),\n",
    "                        np.round(np.max(store_max_its), 2),\n",
    "                        np.round(np.mean(store_mean_norm_grad), 4)])\n",
    "    write_to_latex(results, func_name, 'func_info', d, num_p, set_x,\n",
    "                   option, initial_guess)\n",
    "\n",
    "\n",
    "def compute_prop_grad_evals(m_list, beta_list, grad_evals_metod,\n",
    "                            grad_evals_mult):\n",
    "    index_all = 0\n",
    "    prop_grad_evals = np.zeros((len(m_list), len(beta_list), 100))\n",
    "    for j in range(len(m_list)):\n",
    "        for i in range(len(beta_list)):\n",
    "            for func in range(100):\n",
    "                prop_grad_evals[j, i, func] = (np.sum(grad_evals_metod[index_all, func]) /\n",
    "                                               np.sum(grad_evals_mult[func]))\n",
    "            index_all += 1\n",
    "    return prop_grad_evals"
   ]
  },
  {
   "cell_type": "code",
   "execution_count": 10,
   "metadata": {},
   "outputs": [],
   "source": [
    "\n",
    "def prop_missed_minimizers(beta_list, m_list,\n",
    "                           total_no_local_minimizers_metod,\n",
    "                           total_no_local_minimizers_mult,\n",
    "                           func_name, d, num_p, set_x, option,\n",
    "                           initial_guess):\n",
    "    \n",
    "    class_prop = np.zeros((len(m_list) * len(beta_list), 2))\n",
    "    index = 0\n",
    "    for i in range(len(m_list)):\n",
    "        for j in range(len(beta_list)):\n",
    "            class_prop[index, 0] = (np.round(\n",
    "                                    np.mean((\n",
    "                                    total_no_local_minimizers_mult -\n",
    "                                    total_no_local_minimizers_metod[i, j]) /\n",
    "                                    total_no_local_minimizers_mult)* 100, 3))\n",
    "            class_prop[index, 1] = (np.round(\n",
    "                                    np.mean((total_no_local_minimizers_mult -\n",
    "                                    total_no_local_minimizers_metod[i, j])), 2))\n",
    "            index += 1\n",
    "    return class_prop"
   ]
  },
  {
   "cell_type": "code",
   "execution_count": 11,
   "metadata": {},
   "outputs": [],
   "source": [
    "func_name = 'qing'\n",
    "if func_name == 'sog':\n",
    "    d = 20\n",
    "    num_p = 100\n",
    "    beta_list = [0.01, 0.1, 0.2]\n",
    "    m_list = [2, 3]\n",
    "    set_x = 'random'\n",
    "    p = 10\n",
    "    sigma_sq = 0.7\n",
    "    option = 'm'\n",
    "    initial_guess = 0.005\n",
    "elif func_name == 'shekel':\n",
    "    d = 4\n",
    "    num_p = 100\n",
    "    beta_list = [0.01, 0.1, 0.2]\n",
    "    m_list = [2, 3]\n",
    "    set_x = 'random'\n",
    "    p = 10\n",
    "    sigma_sq = None\n",
    "    option = 'm'\n",
    "    initial_guess = 0.005        \n",
    "elif func_name == 'quad':\n",
    "    d = 100\n",
    "    num_p = 1000\n",
    "    beta_list = [0.01, 0.1, 0.2]\n",
    "    m_list = [1, 2, 3]\n",
    "    set_x = 'random'\n",
    "    p = 50\n",
    "    sigma_sq = None\n",
    "    option = 'm'\n",
    "    initial_guess = 0.005    \n",
    "elif func_name == 'stybl_tang':\n",
    "    d = 5\n",
    "    num_p = 1000\n",
    "    beta_list = [0.001, 0.005, 0.01]\n",
    "    m_list = [1, 2]\n",
    "    set_x = 'random'\n",
    "    p = None\n",
    "    sigma_sq = None\n",
    "    option = 'm'\n",
    "    initial_guess = 0.005    \n",
    "elif func_name == 'qing':\n",
    "    d = 5\n",
    "    num_p = 1000\n",
    "    beta_list = [0.001, 0.005, 0.01, 0.05]\n",
    "    m_list = [1, 2, 3]\n",
    "    set_x = 'random'\n",
    "    p = None\n",
    "    sigma_sq = None\n",
    "    option = 'm'\n",
    "    initial_guess = 0.005  \n",
    "elif func_name == 'hart':\n",
    "    d = 6\n",
    "    num_p = 50\n",
    "    beta_list = [0.001, 0.01]\n",
    "    m_list = [2, 3]\n",
    "    set_x = 'random'\n",
    "    p = None\n",
    "    sigma_sq = None\n",
    "    option = 'm'\n",
    "    initial_guess = 0.005  \n",
    "\n",
    "(total_no_local_minimizers_metod,\n",
    " total_no_local_minimizers_mult,\n",
    " time_taken_metod,\n",
    " time_taken_mult,\n",
    " func_val_metod,\n",
    " func_val_mult,\n",
    " extra_descents_metod,\n",
    " avg_grad,\n",
    " grad_evals_metod,\n",
    " grad_evals_mult) = data_boxplots(func_name, d, p, num_p, beta_list,\n",
    "                                  m_list,  set_x, option, initial_guess)\n",
    "\n",
    "total_no_minimizers_prop = (total_no_local_minimizers_metod /\n",
    "                            total_no_local_minimizers_mult)\n",
    "\n",
    "time_taken_prop = time_taken_metod / time_taken_mult\n",
    "\n",
    "extra_descents_prop = ((extra_descents_metod +\n",
    "                        total_no_local_minimizers_metod) /\n",
    "                       (num_p))\n",
    "\n",
    "grad_evals_prop = compute_prop_grad_evals(m_list, beta_list,\n",
    "                                          grad_evals_metod,\n",
    "                                          grad_evals_mult)\n",
    "\n",
    "class_prop = prop_missed_minimizers(beta_list, m_list,\n",
    "                           total_no_local_minimizers_metod,\n",
    "                           total_no_local_minimizers_mult,\n",
    "                           func_name, d, num_p, set_x, option,\n",
    "                           initial_guess)"
   ]
  },
  {
   "cell_type": "code",
   "execution_count": 12,
   "metadata": {},
   "outputs": [
    {
     "data": {
      "text/plain": [
       "array([[5.656, 1.81 ],\n",
       "       [5.312, 1.7  ],\n",
       "       [4.969, 1.59 ],\n",
       "       [0.781, 0.25 ],\n",
       "       [0.312, 0.1  ],\n",
       "       [0.281, 0.09 ],\n",
       "       [0.219, 0.07 ],\n",
       "       [0.062, 0.02 ],\n",
       "       [0.   , 0.   ],\n",
       "       [0.   , 0.   ],\n",
       "       [0.   , 0.   ],\n",
       "       [0.   , 0.   ]])"
      ]
     },
     "execution_count": 12,
     "metadata": {},
     "output_type": "execute_result"
    }
   ],
   "source": [
    "class_prop"
   ]
  },
  {
   "cell_type": "code",
   "execution_count": 15,
   "metadata": {},
   "outputs": [],
   "source": [
    "class_prop = np.zeros((len(m_list) * len(beta_list), 2))\n",
    "index = 0\n",
    "for i in range(len(m_list)):\n",
    "    for j in range(len(beta_list)):\n",
    "        class_prop[index, 0] = (np.round(\n",
    "                                np.sum((\n",
    "                                total_no_local_minimizers_mult -\n",
    "                                total_no_local_minimizers_metod[i, j]) /\n",
    "                                total_no_local_minimizers_mult), 3))\n",
    "        class_prop[index, 1] = (np.round(\n",
    "                                np.mean((total_no_local_minimizers_mult -\n",
    "                                total_no_local_minimizers_metod[i, j])), 2))\n",
    "        index += 1"
   ]
  },
  {
   "cell_type": "code",
   "execution_count": 16,
   "metadata": {},
   "outputs": [
    {
     "data": {
      "text/plain": [
       "array([[5.656, 1.81 ],\n",
       "       [5.312, 1.7  ],\n",
       "       [4.969, 1.59 ],\n",
       "       [0.781, 0.25 ],\n",
       "       [0.312, 0.1  ],\n",
       "       [0.281, 0.09 ],\n",
       "       [0.219, 0.07 ],\n",
       "       [0.062, 0.02 ],\n",
       "       [0.   , 0.   ],\n",
       "       [0.   , 0.   ],\n",
       "       [0.   , 0.   ],\n",
       "       [0.   , 0.   ]])"
      ]
     },
     "execution_count": 16,
     "metadata": {},
     "output_type": "execute_result"
    }
   ],
   "source": [
    "class_prop"
   ]
  },
  {
   "cell_type": "code",
   "execution_count": 18,
   "metadata": {},
   "outputs": [
    {
     "data": {
      "text/plain": [
       "75.63369342653392"
      ]
     },
     "execution_count": 18,
     "metadata": {},
     "output_type": "execute_result"
    }
   ],
   "source": [
    "(74984.0  / 99141.0) * 100"
   ]
  },
  {
   "cell_type": "code",
   "execution_count": 19,
   "metadata": {},
   "outputs": [
    {
     "data": {
      "text/plain": [
       "0.02734251761489116"
      ]
     },
     "execution_count": 19,
     "metadata": {},
     "output_type": "execute_result"
    }
   ],
   "source": [
    "(26.0 / 95090.0) * 100"
   ]
  },
  {
   "cell_type": "code",
   "execution_count": 59,
   "metadata": {},
   "outputs": [],
   "source": [
    "def check_classification_sd_metod(class_store_x0, store_class_des_mult):\n",
    "    \"\"\"\n",
    "    Checks the proportion of times the classification of a point using the\n",
    "    METOD algorithm is different to the true classification using Multistart.\n",
    "\n",
    "    Parameters\n",
    "    ----------\n",
    "    store_minimizer_des : list\n",
    "                          List containing local minimizers, found after\n",
    "                          applying local descent at each starting point.\n",
    "    class_store_x0 : 1-D array with shape (num_p,)\n",
    "                     Array containing classifications for each starting\n",
    "                     point from applying the METOD algorithm.\n",
    "    func_args : tuple\n",
    "                Arguments passed to a function f and gradient g.\n",
    "\n",
    "    Returns\n",
    "    -------\n",
    "    prop_diff : float\n",
    "                Proportion of times the classification of a point by the METOD\n",
    "                algorithm is different to the true classification by\n",
    "                Multistart.\n",
    "    \"\"\"\n",
    "    prop_diff = (np.where(store_class_des_mult != class_store_x0)[0].shape[0]\n",
    "                 / len(store_class_des_mult))\n",
    "    return prop_diff"
   ]
  },
  {
   "cell_type": "code",
   "execution_count": 60,
   "metadata": {},
   "outputs": [],
   "source": [
    "def check_classification_sd_metod2(class_store_x0, store_class_des_mult):\n",
    "    \"\"\"\n",
    "    Checks the proportion of times the classification of a point using the\n",
    "    METOD algorithm is different to the true classification using Multistart.\n",
    "\n",
    "    Parameters\n",
    "    ----------\n",
    "    store_minimizer_des : list\n",
    "                          List containing local minimizers, found after\n",
    "                          applying local descent at each starting point.\n",
    "    class_store_x0 : 1-D array with shape (num_p,)\n",
    "                     Array containing classifications for each starting\n",
    "                     point from applying the METOD algorithm.\n",
    "    func_args : tuple\n",
    "                Arguments passed to a function f and gradient g.\n",
    "\n",
    "    Returns\n",
    "    -------\n",
    "    prop_diff : float\n",
    "                Proportion of times the classification of a point by the METOD\n",
    "                algorithm is different to the true classification by\n",
    "                Multistart.\n",
    "    \"\"\"\n",
    "\n",
    "    prop_diff = (np.where(store_class_des_mult != class_store_x0)[0].shape[0]\n",
    "                 / len(store_class_des_mult)) * 100\n",
    "    return prop_diff"
   ]
  },
  {
   "cell_type": "code",
   "execution_count": 61,
   "metadata": {},
   "outputs": [],
   "source": [
    "store= np.zeros((100, 2))\n",
    "\n",
    "for j in range(100):\n",
    "    class_store_x0 = np.random.randint(0,10,(10))\n",
    "    store_class_des_mult = np.random.randint(0,10,(10))\n",
    "    store[j, 0] = check_classification_sd_metod(class_store_x0, store_class_des_mult)\n",
    "    store[j, 1] = check_classification_sd_metod2(class_store_x0, store_class_des_mult)"
   ]
  },
  {
   "cell_type": "code",
   "execution_count": 62,
   "metadata": {},
   "outputs": [
    {
     "data": {
      "text/plain": [
       "89.80000000000001"
      ]
     },
     "execution_count": 62,
     "metadata": {},
     "output_type": "execute_result"
    }
   ],
   "source": [
    "np.sum(store[:, 0])"
   ]
  },
  {
   "cell_type": "code",
   "execution_count": 63,
   "metadata": {},
   "outputs": [
    {
     "data": {
      "text/plain": [
       "89.8"
      ]
     },
     "execution_count": 63,
     "metadata": {},
     "output_type": "execute_result"
    }
   ],
   "source": [
    "np.sum(store[:, 1]) / 100 "
   ]
  },
  {
   "cell_type": "code",
   "execution_count": null,
   "metadata": {},
   "outputs": [],
   "source": [
    "def check_classification_sd_metod2(class_store_x0):\n",
    "    \"\"\"\n",
    "    Checks the proportion of times the classification of a point using the\n",
    "    METOD algorithm is different to the true classification using Multistart.\n",
    "\n",
    "    Parameters\n",
    "    ----------\n",
    "    store_minimizer_des : list\n",
    "                          List containing local minimizers, found after\n",
    "                          applying local descent at each starting point.\n",
    "    class_store_x0 : 1-D array with shape (num_p,)\n",
    "                     Array containing classifications for each starting\n",
    "                     point from applying the METOD algorithm.\n",
    "    func_args : tuple\n",
    "                Arguments passed to a function f and gradient g.\n",
    "\n",
    "    Returns\n",
    "    -------\n",
    "    prop_diff : float\n",
    "                Proportion of times the classification of a point by the METOD\n",
    "                algorithm is different to the true classification by\n",
    "                Multistart.\n",
    "    \"\"\"\n",
    "\n",
    "    store_class_des_mult = np.random.randint(0,10, (10,))\n",
    "    prop_diff = (np.where(store_class_des_mult != class_store_x0)[0].shape[0]\n",
    "                 / len(store_class_des_mult))\n",
    "    return prop_diff"
   ]
  },
  {
   "cell_type": "code",
   "execution_count": null,
   "metadata": {},
   "outputs": [],
   "source": [
    "store= np.zeros((100))\n",
    "\n",
    "for j in range(100):\n",
    "    class_store_x0 = np.random.randint(0,10,(10))\n",
    "    store[j] = check_classification_sd_metod(class_store_x0)"
   ]
  },
  {
   "cell_type": "code",
   "execution_count": null,
   "metadata": {},
   "outputs": [],
   "source": []
  },
  {
   "cell_type": "code",
   "execution_count": null,
   "metadata": {},
   "outputs": [],
   "source": []
  },
  {
   "cell_type": "code",
   "execution_count": null,
   "metadata": {},
   "outputs": [],
   "source": []
  },
  {
   "cell_type": "code",
   "execution_count": null,
   "metadata": {},
   "outputs": [],
   "source": []
  },
  {
   "cell_type": "code",
   "execution_count": 113,
   "metadata": {},
   "outputs": [
    {
     "data": {
      "text/plain": [
       "(3, 4, 100)"
      ]
     },
     "execution_count": 113,
     "metadata": {},
     "output_type": "execute_result"
    }
   ],
   "source": [
    "extra_descents_prop.shape"
   ]
  },
  {
   "cell_type": "code",
   "execution_count": 114,
   "metadata": {},
   "outputs": [],
   "source": [
    "store_extra_des = np.zeros((len(m_list), len(beta_list)))\n",
    "store_grad_evals_prop = np.zeros((len(m_list), len(beta_list)))\n",
    "for j in range(len(m_list)):\n",
    "    for i in range(len(beta_list)):\n",
    "        store_extra_des[j, i] =  np.median(extra_descents_prop[j][i])             \n",
    "        store_grad_evals_prop[j, i] =  np.median(grad_evals_prop[j][i])   "
   ]
  },
  {
   "cell_type": "code",
   "execution_count": 119,
   "metadata": {},
   "outputs": [
    {
     "data": {
      "text/plain": [
       "array([[0.13050125, 0.13161182, 0.19669964],\n",
       "       [0.17671005, 0.178104  , 0.2020771 ],\n",
       "       [0.20399476, 0.20519543, 0.21928998]])"
      ]
     },
     "execution_count": 119,
     "metadata": {},
     "output_type": "execute_result"
    }
   ],
   "source": [
    "store_grad_evals_prop[:, 1:]"
   ]
  },
  {
   "cell_type": "code",
   "execution_count": 120,
   "metadata": {},
   "outputs": [
    {
     "data": {
      "text/plain": [
       "array([[0.06  , 0.062 , 0.1275],\n",
       "       [0.069 , 0.072 , 0.097 ],\n",
       "       [0.057 , 0.058 , 0.072 ]])"
      ]
     },
     "execution_count": 120,
     "metadata": {},
     "output_type": "execute_result"
    }
   ],
   "source": [
    "store_extra_des[:, 1:]"
   ]
  },
  {
   "cell_type": "code",
   "execution_count": null,
   "metadata": {},
   "outputs": [],
   "source": []
  }
 ],
 "metadata": {
  "kernelspec": {
   "display_name": "Python 3",
   "language": "python",
   "name": "python3"
  },
  "language_info": {
   "codemirror_mode": {
    "name": "ipython",
    "version": 3
   },
   "file_extension": ".py",
   "mimetype": "text/x-python",
   "name": "python",
   "nbconvert_exporter": "python",
   "pygments_lexer": "ipython3",
   "version": "3.8.5"
  }
 },
 "nbformat": 4,
 "nbformat_minor": 4
}
