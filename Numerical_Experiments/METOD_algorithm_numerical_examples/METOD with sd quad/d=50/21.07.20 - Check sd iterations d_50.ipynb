{
 "cells": [
  {
   "cell_type": "code",
   "execution_count": 10,
   "metadata": {},
   "outputs": [],
   "source": [
    "import numpy as np \n",
    "from numpy import genfromtxt\n",
    "from numpy import linalg as LA\n",
    "import scipy\n",
    "from scipy.optimize import minimize\n",
    "import pandas as pd\n",
    "import matplotlib.pyplot as plt"
   ]
  },
  {
   "cell_type": "code",
   "execution_count": 6,
   "metadata": {},
   "outputs": [],
   "source": [
    "d = 50\n",
    "beta = 0.1\n",
    "m = 1\n",
    "p = 50\n",
    "met_list = ['Nelder-Mead', 'Powell', 'BFGS', 'L-BFGS-B', 'SLSQP', 'CG', 'TNC', 'COBYLA', 'Brent', 'Golden']\n",
    "test_mets = np.zeros((len(met_list), 100))\n",
    "test_times = np.zeros((len(met_list), 100))\n",
    "index = 0\n",
    "for met in met_list:\n",
    "    df2 = pd.read_csv('quad_sd_minimize_met_%s_beta_%s_m=%s_d=%s_p=%s_All.csv' % (met, beta, m, d, p))\n",
    "    test_mets[index, :] = np.array(df2['number_minimas_per_func_multistart'])\n",
    "    test_times[index, :] = np.array(df2['time_multistart'])\n",
    "    index += 1"
   ]
  },
  {
   "cell_type": "code",
   "execution_count": 7,
   "metadata": {},
   "outputs": [],
   "source": [
    "for j in range(len(met_list)):\n",
    "    for i in range(j, len(met_list)):\n",
    "        test_1 = test_mets[j]\n",
    "        test_2 = test_mets[i]\n",
    "        assert(test_1.shape[0] == 100)\n",
    "        assert(test_2.shape[0] == 100)\n",
    "        assert(np.all(test_1 == test_2))"
   ]
  },
  {
   "cell_type": "code",
   "execution_count": 13,
   "metadata": {},
   "outputs": [],
   "source": [
    "def box_plots_time(times, met_list, d, p):\n",
    "    plt.figure(figsize=(15, 5))\n",
    "    plt.boxplot(times)\n",
    "    xlabels = met_list\n",
    "    plt.xticks(np.arange(1, len(met_list) + 1), xlabels, size=12)\n",
    "    plt.yticks(size=12)\n",
    "    plt.ylabel(r'Time (s)', size=12)\n",
    "\n",
    "    plt.savefig('time_quad_d_%s_p_%s.pdf' %\n",
    "                (d, p), bbox_inches=\"tight\")\n",
    "    plt.show()"
   ]
  },
  {
   "cell_type": "code",
   "execution_count": 15,
   "metadata": {},
   "outputs": [
    {
     "data": {
      "image/png": "[encoded data removed]",
      "text/plain": [
       "<Figure size 1080x360 with 1 Axes>"
      ]
     },
     "metadata": {
      "needs_background": "light"
     },
     "output_type": "display_data"
    }
   ],
   "source": [
    "box_plots_time(test_times.T, met_list, d, p)"
   ]
  },
  {
   "cell_type": "code",
   "execution_count": null,
   "metadata": {},
   "outputs": [],
   "source": []
  }
 ],
 "metadata": {
  "kernelspec": {
   "display_name": "Python 3",
   "language": "python",
   "name": "python3"
  },
  "language_info": {
   "codemirror_mode": {
    "name": "ipython",
    "version": 3
   },
   "file_extension": ".py",
   "mimetype": "text/x-python",
   "name": "python",
   "nbconvert_exporter": "python",
   "pygments_lexer": "ipython3",
   "version": "3.7.6"
  }
 },
 "nbformat": 4,
 "nbformat_minor": 2
}
