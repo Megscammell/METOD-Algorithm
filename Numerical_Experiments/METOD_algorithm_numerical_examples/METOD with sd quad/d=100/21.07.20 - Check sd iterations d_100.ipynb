{
 "cells": [
  {
   "cell_type": "code",
   "execution_count": 1,
   "metadata": {},
   "outputs": [],
   "source": [
    "import numpy as np \n",
    "from numpy import genfromtxt\n",
    "from numpy import linalg as LA\n",
    "import scipy\n",
    "from scipy.optimize import minimize\n",
    "import pandas as pd\n",
    "import matplotlib.pyplot as plt"
   ]
  },
  {
   "cell_type": "code",
   "execution_count": 8,
   "metadata": {},
   "outputs": [],
   "source": [
    "d = 100\n",
    "beta = 0.1\n",
    "m = 1\n",
    "p = 50\n",
    "#met_list = ['Nelder-Mead', 'Powell', 'BFGS', 'L-BFGS-B', 'SLSQP', 'CG', 'TNC', 'COBYLA', 'Brent', 'Golden']\n",
    "met_list = ['Nelder-Mead', 'Powell', 'BFGS', 'L-BFGS-B', 'SLSQP', 'CG', 'TNC', 'Golden']\n",
    "test_mets = np.zeros((len(met_list), 100))\n",
    "test_times = np.zeros((len(met_list), 100))\n",
    "test_minima = np.zeros((len(met_list), 100))\n",
    "index = 0\n",
    "for met in met_list:\n",
    "    df2 = pd.read_csv('quad_sd_minimize_met_%s_beta_%s_m=%s_d=%s_p=%s_All.csv' % (met, beta, m, d, p))\n",
    "    df1 = pd.read_csv('quad_testing_minimize_met_%s_beta_%s_m=%s_d=%s_p=%s_All.csv' % (met, beta, m, d, p))\n",
    "    test_mets[index, :] = np.array(df2['number_minimas_per_func_multistart'])\n",
    "    test_times[index, :] = np.array(df2['time_multistart'])\n",
    "    assert(np.all(np.array(df2['number_minimas_per_func_metod']) == np.array(df1['number_minimas_per_func_metod'])))\n",
    "    test_minima[index, :] = np.array(df1['number_minimas_per_func_metod'])\n",
    "    index += 1"
   ]
  },
  {
   "cell_type": "code",
   "execution_count": 9,
   "metadata": {},
   "outputs": [
    {
     "data": {
      "text/plain": [
       "array([11., 10., 10., 11., 12., 11., 13., 13., 12., 11.,  9.,  9., 12.,\n",
       "        9., 12., 11., 12., 10., 10.,  7., 12., 12.,  9., 10., 10., 11.,\n",
       "        7.,  8.,  7.,  9., 10., 11., 11.,  7., 11.,  9.,  8., 11., 12.,\n",
       "       11., 10.,  9., 10., 11., 10., 11., 10., 10., 11., 13., 10.,  8.,\n",
       "       12.,  9.,  9., 10., 10., 12., 12., 15., 10.,  9., 10.,  7., 13.,\n",
       "       11.,  9., 12.,  9., 10., 10.,  8.,  7.,  9.,  9., 10., 10., 13.,\n",
       "       10., 10., 11.,  9., 13., 11.,  8.,  9., 13., 12., 12., 10.,  9.,\n",
       "       11., 11., 10.,  9., 10., 10.,  9., 10., 10.])"
      ]
     },
     "execution_count": 9,
     "metadata": {},
     "output_type": "execute_result"
    }
   ],
   "source": [
    "np.array(df2['number_minimas_per_func_metod'])"
   ]
  },
  {
   "cell_type": "code",
   "execution_count": 10,
   "metadata": {},
   "outputs": [
    {
     "data": {
      "text/plain": [
       "array([11., 10., 10., 11., 12., 11., 13., 13., 12., 11.,  9.,  9., 12.,\n",
       "        9., 12., 11., 12., 10., 10.,  7., 12., 12.,  9., 10., 10., 11.,\n",
       "        7.,  8.,  7.,  9., 10., 11., 11.,  7., 11.,  9.,  8., 11., 12.,\n",
       "       11., 10.,  9., 10., 11., 10., 11., 10., 10., 11., 13., 10.,  8.,\n",
       "       12.,  9.,  9., 10., 10., 12., 12., 15., 10.,  9., 10.,  7., 13.,\n",
       "       11.,  9., 12.,  9., 10., 10.,  8.,  7.,  9.,  9., 10., 10., 13.,\n",
       "       10., 10., 11.,  9., 13., 11.,  8.,  9., 13., 12., 12., 10.,  9.,\n",
       "       11., 11., 10.,  9., 10., 10.,  9., 10., 10.])"
      ]
     },
     "execution_count": 10,
     "metadata": {},
     "output_type": "execute_result"
    }
   ],
   "source": [
    "np.array(df1['number_minimas_per_func_metod'])"
   ]
  },
  {
   "cell_type": "code",
   "execution_count": 13,
   "metadata": {},
   "outputs": [],
   "source": [
    "t = 0\n",
    "for j in range(len(met_list)):\n",
    "    for i in range(j, len(met_list)):\n",
    "        test_1 = test_mets[j]\n",
    "        test_2 = test_mets[i]\n",
    "        test_min_1 = test_minima[j] \n",
    "        test_min_2 = test_minima[i] \n",
    "        assert(test_1.shape[0] == 100)\n",
    "        assert(test_2.shape[0] == 100)\n",
    "        assert(np.all(test_1 == test_2))\n",
    "        if np.all(test_min_1 == test_min_2) == False:\n",
    "            t += 1"
   ]
  },
  {
   "cell_type": "code",
   "execution_count": 23,
   "metadata": {},
   "outputs": [],
   "source": [
    "def box_plots_time(times, met_list, d, p):\n",
    "    plt.figure(figsize=(15, 5))\n",
    "    plt.boxplot(times)\n",
    "    xlabels = met_list\n",
    "    plt.xticks(np.arange(1, len(met_list) + 1), xlabels, size=12)\n",
    "    plt.yticks(size=12)\n",
    "    plt.ylabel(r'Time (s)', size=12)\n",
    "\n",
    "    plt.savefig('time_quad_d_%s_p_%s.pdf' %\n",
    "                (d, p), bbox_inches=\"tight\")\n",
    "    plt.show()"
   ]
  },
  {
   "cell_type": "code",
   "execution_count": 24,
   "metadata": {},
   "outputs": [
    {
     "data": {
      "image/png": "[encoded data removed]",
      "text/plain": [
       "<Figure size 1080x360 with 1 Axes>"
      ]
     },
     "metadata": {
      "needs_background": "light"
     },
     "output_type": "display_data"
    }
   ],
   "source": [
    "box_plots_time(test_times.T, met_list, d, p)"
   ]
  },
  {
   "cell_type": "code",
   "execution_count": null,
   "metadata": {},
   "outputs": [],
   "source": []
  }
 ],
 "metadata": {
  "kernelspec": {
   "display_name": "Python 3",
   "language": "python",
   "name": "python3"
  },
  "language_info": {
   "codemirror_mode": {
    "name": "ipython",
    "version": 3
   },
   "file_extension": ".py",
   "mimetype": "text/x-python",
   "name": "python",
   "nbconvert_exporter": "python",
   "pygments_lexer": "ipython3",
   "version": "3.7.6"
  }
 },
 "nbformat": 4,
 "nbformat_minor": 2
}
