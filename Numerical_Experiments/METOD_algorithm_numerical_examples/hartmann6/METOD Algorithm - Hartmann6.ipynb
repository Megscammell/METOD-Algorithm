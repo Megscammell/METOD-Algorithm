{
 "cells": [
  {
   "cell_type": "markdown",
   "metadata": {},
   "source": [
    "# Hartmann6"
   ]
  },
  {
   "cell_type": "markdown",
   "metadata": {},
   "source": [
    "Consider the Hartmann6 function\n",
    " \\begin{equation}\n",
    " \\label{eq:model}\n",
    "f(x)=-\\sum_{i=1}^{4} \\alpha_i exp\\{-\\sum_{j=1}^{d}A_{i,j} (x_j - P_{i,j})^2\\}\n",
    "\\end{equation}\n",
    "where $x \\in \\mathfrak{X}=[0, 1]^d$.\n",
    "\n",
    "The gradient of the Hartmann6 function is\n",
    "\n",
    "\\begin{equation}\n",
    "\\nabla f(x_k)= \\sum_{i=1}^{4} 2 \\alpha_i A_{i,k} (x_k - P_{i,k}) exp\\{-\\sum_{j=1}^{d}A_{i,j} (x_j - P_{i,j})^2\\},\n",
    "\\end{equation}\n",
    "where,\n",
    "\n",
    "$$\n",
    "A = \\begin{pmatrix}\n",
    "    10 & 3& 17& 3.5& 1.7& 8 \\\\\n",
    "    0.05& 10& 17& 0.1& 8& 14 \\\\\n",
    "    3& 3.5& 1.7& 10& 17& 8 \\\\\n",
    "    17& 8& 0.05& 10& 0.1& 14 \\\\\n",
    "    \\end{pmatrix},\n",
    "$$\n",
    "\n",
    "$$\n",
    "P =\\begin{pmatrix}\n",
    "    0.1312& 0.1696& 0.5569& 0.0124& 0.8283& 0.5886 \\\\\n",
    "    0.2329& 0.4135& 0.8307& 0.3736& 0.1004& 0.9991 \\\\\n",
    "    0.2348& 0.1451& 0.3522& 0.2883& 0.3047& 0.6650 \\\\\n",
    "    0.4047& 0.8828& 0.8732& 0.5743& 0.1091& 0.0381 \\\\\n",
    "    \\end{pmatrix},\n",
    "$$\n",
    "and\n",
    "\n",
    "$$\n",
    "\\alpha = \\begin{pmatrix}\n",
    "        1 & 1.2& 3& 3.2 \\\\\n",
    "       \\end{pmatrix} \n",
    "$$."
   ]
  },
  {
   "cell_type": "markdown",
   "metadata": {},
   "source": [
    "# Import libraries"
   ]
  },
  {
   "cell_type": "code",
   "execution_count": 1,
   "metadata": {},
   "outputs": [],
   "source": [
    "import numpy as np \n",
    "from numpy import linalg as LA\n",
    "import pandas as pd\n",
    "import matplotlib.pyplot as plt; plt.rcdefaults()\n",
    "import textwrap\n",
    "\n",
    "import metod_alg as mt\n",
    "from metod_alg import metod_algorithm_functions as mt_alg\n",
    "from metod_alg import objective_functions as mt_obj\n",
    "import tqdm\n",
    "import seaborn as sns\n",
    "import SALib\n",
    "from SALib.sample import sobol_sequence"
   ]
  },
  {
   "cell_type": "markdown",
   "metadata": {},
   "source": [
    "# Results"
   ]
  },
  {
   "cell_type": "markdown",
   "metadata": {},
   "source": [
    "For all results $d=6$ and $N=100$."
   ]
  },
  {
   "cell_type": "code",
   "execution_count": 48,
   "metadata": {},
   "outputs": [],
   "source": [
    "d = 6\n",
    "beta_list = [0.01,0.001]\n",
    "m_list = [1,2]\n",
    "global_minimum = -3.32237\n",
    "avg_grad = np.zeros((len(m_list) * len(beta_list), 100, 100))\n",
    "\n",
    "total_no_local_minimizers_metod = np.zeros((len(m_list), len(beta_list), 100))\n",
    "time_taken_metod = np.zeros((len(m_list), len(beta_list), 100))\n",
    "extra_descents_metod = np.zeros((len(m_list), len(beta_list), 100))\n",
    "func_val_metod = np.zeros((len(m_list), len(beta_list), 100))\n",
    "\n",
    "df_mult = pd.read_csv('hart_sd_metod_beta_0.1_m=1_d=6_random_100.csv')\n",
    "total_no_local_minimizers_mult = np.array(df_mult['number_minimizers_per_func_multistart'])\n",
    "time_taken_mult = np.array(df_mult['time_multistart'])\n",
    "func_val_mult = np.array(df_mult['min_func_val_multistart'])\n",
    "test = np.array(df_mult['number_minimizers_per_func_metod'])\n",
    "\n",
    "index_all = 0\n",
    "index_m = 0\n",
    "for m in m_list:\n",
    "    index_beta = 0\n",
    "    for beta in beta_list:\n",
    "        df_metod = pd.read_csv('hart_metod_beta_%s_m=%s_d=6_random_100.csv'% (beta, m))\n",
    "        total_no_local_minimizers_metod[index_m, index_beta] = np.array(df_metod['number_minimizers_per_func_metod'])\n",
    "        time_taken_metod[index_m, index_beta] = np.array(df_metod['time_metod'])\n",
    "        func_val_metod[index_m, index_beta] = np.array(df_metod['min_func_val_metod'])\n",
    "        if beta == 0.1 and m == 1:\n",
    "            assert(np.all(total_no_local_minimizers_metod[index_m, index_beta] == test))\n",
    "        extra_descents_metod[index_m, index_beta] = np.array(df_metod['number_extra_descents_per_func_metod'])\n",
    "\n",
    "        avg_grad[index_all] = np.genfromtxt('hart_grad_norm_beta_%s_m=%s_d=6_random_100.csv'% (beta, m), delimiter=',')\n",
    "        index_beta += 1\n",
    "        index_all += 1\n",
    "    index_m += 1"
   ]
  },
  {
   "cell_type": "code",
   "execution_count": 49,
   "metadata": {},
   "outputs": [
    {
     "data": {
      "text/plain": [
       "array([2., 2., 2., 2., 2., 2., 2., 2., 2., 2., 2., 2., 2., 2., 2., 2., 2.,\n",
       "       2., 2., 2., 2., 2., 2., 2., 2., 2., 2., 2., 2., 2., 2., 2., 2., 2.,\n",
       "       2., 2., 2., 2., 2., 2., 2., 2., 2., 2., 2., 2., 2., 2., 2., 2., 2.,\n",
       "       2., 2., 2., 2., 2., 2., 2., 2., 2., 2., 2., 2., 2., 2., 2., 2., 2.,\n",
       "       2., 2., 2., 2., 2., 2., 2., 2., 2., 2., 2., 2., 2., 2., 2., 2., 2.,\n",
       "       2., 2., 2., 2., 2., 2., 2., 2., 2., 2., 2., 2., 2., 2., 2.])"
      ]
     },
     "execution_count": 49,
     "metadata": {},
     "output_type": "execute_result"
    }
   ],
   "source": [
    "total_no_local_minimizers_mult"
   ]
  },
  {
   "cell_type": "code",
   "execution_count": 50,
   "metadata": {},
   "outputs": [
    {
     "data": {
      "text/plain": [
       "array([2., 2., 2., 2., 2., 2., 2., 2., 2., 2., 2., 2., 2., 2., 2., 2., 2.,\n",
       "       2., 2., 2., 2., 2., 2., 2., 2., 2., 2., 2., 2., 2., 2., 2., 2., 2.,\n",
       "       2., 2., 2., 2., 2., 2., 2., 2., 2., 2., 2., 2., 2., 2., 2., 2., 2.,\n",
       "       2., 2., 2., 2., 2., 2., 2., 2., 2., 2., 2., 2., 2., 2., 2., 2., 2.,\n",
       "       2., 2., 2., 2., 2., 2., 2., 2., 2., 2., 2., 2., 2., 2., 2., 2., 2.,\n",
       "       2., 2., 2., 2., 2., 2., 2., 2., 2., 2., 2., 2., 2., 2., 2.])"
      ]
     },
     "execution_count": 50,
     "metadata": {},
     "output_type": "execute_result"
    }
   ],
   "source": [
    "test"
   ]
  },
  {
   "cell_type": "code",
   "execution_count": 51,
   "metadata": {},
   "outputs": [
    {
     "data": {
      "text/plain": [
       "array([37.42314005, 38.10973358, 27.07084346, 26.62843227, 30.0840621 ,\n",
       "       28.21445179, 23.08056068, 33.28243399, 33.62127042, 24.95651507,\n",
       "       22.90669608, 38.56574535, 29.18860602, 27.02691841, 38.79868412,\n",
       "       29.63931394, 34.70140004, 25.29933667, 26.50005484, 34.18185425,\n",
       "       36.4055419 , 28.8433547 , 25.57426977, 28.41222644, 28.88784027,\n",
       "       32.67546391, 31.82147384, 29.45811009, 24.33644295, 27.77498746,\n",
       "       32.4425652 , 31.08221006, 29.85657549, 26.52108335, 21.09369469,\n",
       "       27.73148894, 25.70951819, 26.70415878, 20.20549846, 26.07914805,\n",
       "       29.11534238, 31.53433585, 33.73511505, 28.15486646, 26.01859045,\n",
       "       37.12625003, 38.91681767, 28.76719785, 36.5329833 , 26.76179576,\n",
       "       29.61192441, 36.61404324, 31.73597765, 30.28671312, 26.67535186,\n",
       "       30.35806298, 38.12972617, 24.02150011, 27.85458469, 38.0950191 ,\n",
       "       40.59313369, 28.25400472, 31.2165215 , 28.79552555, 32.43719482,\n",
       "       29.83263016, 36.06813717, 36.05934596, 28.60847712, 28.70031691,\n",
       "       27.73590922, 24.44576764, 33.60977244, 24.90920901, 27.19882178,\n",
       "       24.5805707 , 33.455832  , 25.74857879, 19.74844384, 33.08760118,\n",
       "       27.71834707, 29.45471549, 28.76963997, 27.11581039, 33.06125069,\n",
       "       24.46486998, 24.39501905, 25.04397583, 26.97956443, 28.23839021,\n",
       "       37.45489264, 28.87995172, 28.52598238, 35.56665802, 33.29953432,\n",
       "       32.1120007 , 29.44788504, 41.09509587, 27.14609075, 48.30893707])"
      ]
     },
     "execution_count": 51,
     "metadata": {},
     "output_type": "execute_result"
    }
   ],
   "source": [
    "np.array(df_mult['time_metod'])"
   ]
  },
  {
   "cell_type": "code",
   "execution_count": 52,
   "metadata": {},
   "outputs": [
    {
     "data": {
      "text/plain": [
       "array([28.03131771, 38.22884512, 27.29306507, 27.93623281, 30.50109768,\n",
       "       30.89517546, 22.22799897, 31.64665389, 33.12525535, 25.55865765,\n",
       "       24.17431355, 38.04376769, 29.70468926, 26.71001935, 39.46516228,\n",
       "       31.20865202, 34.18480659, 25.48930979, 25.36138654, 32.28583789,\n",
       "       34.54810023, 27.4566474 , 27.32772136, 29.31116056, 28.3155551 ,\n",
       "       30.63929367, 33.9606576 , 30.80729866, 25.51175952, 26.40826106,\n",
       "       30.33509994, 31.04504323, 28.70958042, 26.55908728, 21.61035943,\n",
       "       27.20565963, 25.27690077, 27.85847783, 19.34122539, 25.23344254,\n",
       "       27.79305649, 32.06612492, 32.93769765, 27.35898829, 24.79105783,\n",
       "       34.9714303 , 36.66337371, 27.52837801, 34.7209549 , 26.57968283,\n",
       "       29.24718308, 33.68482327, 30.45282674, 30.27846146, 27.43512964,\n",
       "       30.65443897, 36.42210889, 26.09285927, 28.98499274, 35.42457318,\n",
       "       38.29719067, 28.7354629 , 31.03674006, 29.18664837, 30.85075831,\n",
       "       30.97137022, 34.98510623, 37.25173783, 28.23884463, 28.62510896,\n",
       "       26.06401873, 25.89438272, 34.54758573, 24.95167184, 25.82035756,\n",
       "       24.29685712, 32.12368155, 25.60845423, 22.82467341, 31.89226413,\n",
       "       26.73102546, 29.92248416, 28.61972737, 25.87943172, 34.04611754,\n",
       "       24.18801999, 24.81155396, 25.39750385, 27.09187937, 28.689569  ,\n",
       "       35.56181598, 29.26137161, 27.46053457, 36.47878766, 33.061234  ,\n",
       "       30.38783908, 28.83555937, 40.0154407 , 28.671     , 23.60890079])"
      ]
     },
     "execution_count": 52,
     "metadata": {},
     "output_type": "execute_result"
    }
   ],
   "source": [
    "time_taken_mult"
   ]
  },
  {
   "cell_type": "code",
   "execution_count": 53,
   "metadata": {},
   "outputs": [],
   "source": [
    "total_no_minimizers_prop = total_no_local_minimizers_metod / total_no_local_minimizers_mult"
   ]
  },
  {
   "cell_type": "code",
   "execution_count": 54,
   "metadata": {},
   "outputs": [],
   "source": [
    "time_taken_prop = time_taken_metod / time_taken_mult"
   ]
  },
  {
   "cell_type": "code",
   "execution_count": 55,
   "metadata": {},
   "outputs": [],
   "source": [
    "for j in range(len(beta_list) * len(m_list)):\n",
    "    for k in range(j+1, len(beta_list) * len(m_list)):\n",
    "            assert(np.all(np.round(avg_grad[k], 5) == np.round(avg_grad[j], 5)))"
   ]
  },
  {
   "cell_type": "code",
   "execution_count": 56,
   "metadata": {},
   "outputs": [],
   "source": [
    "same_global_min = np.zeros((len(m_list), len(beta_list)))\n",
    "same_minimizer = np.zeros((len(m_list), len(beta_list)))\n",
    "mean_excessive_descents = np.zeros((len(m_list), len(beta_list)))\n",
    "for i in range(len(m_list)):\n",
    "    for j in range(len(beta_list)):\n",
    "        assert(np.all(total_no_local_minimizers_mult >=  total_no_local_minimizers_metod[i, j]))\n",
    "        same_global_min[i, j] = np.where(np.round(func_val_mult, 2) == np.round(func_val_metod[i, j], 2))[0].shape[0]\n",
    "        same_minimizer[i, j] = np.sum(total_no_local_minimizers_metod[i, j]) / np.sum(total_no_local_minimizers_mult)\n",
    "        mean_excessive_descents[i, j] = np.mean(extra_descents_metod[i, j])"
   ]
  },
  {
   "cell_type": "code",
   "execution_count": 57,
   "metadata": {},
   "outputs": [
    {
     "data": {
      "text/plain": [
       "array([[100., 100.],\n",
       "       [100., 100.]])"
      ]
     },
     "execution_count": 57,
     "metadata": {},
     "output_type": "execute_result"
    }
   ],
   "source": [
    "same_global_min"
   ]
  },
  {
   "cell_type": "code",
   "execution_count": 58,
   "metadata": {},
   "outputs": [
    {
     "data": {
      "text/plain": [
       "array([[1., 1.],\n",
       "       [1., 1.]])"
      ]
     },
     "execution_count": 58,
     "metadata": {},
     "output_type": "execute_result"
    }
   ],
   "source": [
    "same_minimizer"
   ]
  },
  {
   "cell_type": "code",
   "execution_count": 59,
   "metadata": {},
   "outputs": [],
   "source": [
    "number_its = np.genfromtxt('hart_no_its_mult_beta_0.1_m=1_d=6_random_100.csv', delimiter=',')\n",
    "store_mean_its = np.zeros((100))\n",
    "store_min_its = np.zeros((100))\n",
    "store_mean_norm_grad = np.zeros((100))\n",
    "for j in range(100):\n",
    "    store_mean_its[j] = np.mean(number_its[j])\n",
    "    store_min_its[j] = np.min(number_its[j])\n",
    "    store_mean_norm_grad[j] = 1 / np.mean(avg_grad[0][j])"
   ]
  },
  {
   "cell_type": "code",
   "execution_count": 60,
   "metadata": {},
   "outputs": [
    {
     "data": {
      "text/plain": [
       "array([141.2 , 181.64, 134.56, 142.76, 155.22, 157.41, 112.85, 155.59,\n",
       "       163.19, 126.15, 119.77, 189.28, 146.96, 131.11, 195.95, 154.49,\n",
       "       169.91, 125.91, 125.87, 160.14, 171.53, 138.12, 135.83, 143.05,\n",
       "       143.19, 154.15, 157.28, 149.31, 122.81, 134.93, 155.97, 157.97,\n",
       "       146.87, 130.7 , 105.45, 134.67, 125.55, 142.36,  98.61, 128.28,\n",
       "       142.2 , 157.25, 162.13, 134.1 , 122.43, 173.11, 181.9 , 135.88,\n",
       "       172.74, 131.64, 141.24, 165.05, 148.65, 148.71, 136.08, 152.63,\n",
       "       179.82, 127.86, 143.51, 178.65, 195.67, 145.06, 159.67, 149.5 ,\n",
       "       157.66, 152.75, 178.93, 190.44, 143.03, 146.49, 133.3 , 132.54,\n",
       "       175.82, 126.96, 132.34, 124.47, 163.43, 130.73, 116.04, 163.49,\n",
       "       136.15, 152.09, 144.94, 131.66, 174.76, 123.23, 125.6 , 129.19,\n",
       "       138.17, 145.75, 182.78, 148.86, 140.02, 187.71, 169.34, 155.25,\n",
       "       148.05, 205.67, 146.08, 120.37])"
      ]
     },
     "execution_count": 60,
     "metadata": {},
     "output_type": "execute_result"
    }
   ],
   "source": [
    "store_mean_its"
   ]
  },
  {
   "cell_type": "code",
   "execution_count": 61,
   "metadata": {},
   "outputs": [
    {
     "data": {
      "text/plain": [
       "array([13., 12., 14., 13., 13., 13., 11., 12., 13., 12., 13.,  7., 13.,\n",
       "       13., 10., 13., 12., 13., 12., 11., 12., 13., 14., 13., 13., 13.,\n",
       "       14., 12., 12., 12., 13.,  6., 12., 14., 12., 13., 14., 12., 13.,\n",
       "       11., 13., 14., 13., 10.,  9., 14., 14., 12., 13., 10., 12., 13.,\n",
       "       12., 11., 14., 12., 14., 12., 13., 13., 12., 11., 13., 13., 13.,\n",
       "       12., 13., 12.,  9., 14., 13., 12., 14., 13., 13., 13., 13., 12.,\n",
       "       12., 12., 12., 10., 14., 12., 12., 11., 12., 14., 14., 12., 14.,\n",
       "       13., 13., 10., 11., 13., 13., 11., 12., 13.])"
      ]
     },
     "execution_count": 61,
     "metadata": {},
     "output_type": "execute_result"
    }
   ],
   "source": [
    "store_min_its"
   ]
  },
  {
   "cell_type": "code",
   "execution_count": 62,
   "metadata": {},
   "outputs": [
    {
     "data": {
      "text/plain": [
       "array([0.51376896, 0.62229737, 0.46130579, 0.54080867, 0.68071498,\n",
       "       0.57731177, 0.4933436 , 0.5654988 , 0.5441465 , 0.52829221,\n",
       "       0.55302931, 0.53183284, 0.46037296, 0.56503077, 0.52431994,\n",
       "       0.59399038, 0.64116208, 0.5434571 , 0.44642663, 0.56085383,\n",
       "       0.48663086, 0.67857009, 0.4798454 , 0.63155927, 0.49025835,\n",
       "       0.56124637, 0.53687792, 0.54962397, 0.50258369, 0.57824014,\n",
       "       0.5858458 , 0.46237913, 0.63848897, 0.62254311, 0.52519374,\n",
       "       0.5756735 , 0.6516985 , 0.44508049, 0.61295605, 0.57875271,\n",
       "       0.52368693, 0.45128617, 0.53052527, 0.49433924, 0.51321613,\n",
       "       0.50904836, 0.59433082, 0.556454  , 0.55234405, 0.55395134,\n",
       "       0.51105287, 0.56285129, 0.49877392, 0.48249513, 0.48416132,\n",
       "       0.59406984, 0.65752914, 0.50312985, 0.61019105, 0.66543098,\n",
       "       0.47192441, 0.54534307, 0.52122217, 0.49007356, 0.48474748,\n",
       "       0.66900849, 0.43306192, 0.54502292, 0.56672364, 0.5037154 ,\n",
       "       0.51811824, 0.59903187, 0.70458154, 0.54082842, 0.45397656,\n",
       "       0.46480798, 0.67352778, 0.62400471, 0.6749783 , 0.70518588,\n",
       "       0.55889042, 0.52214329, 0.5443362 , 0.52266843, 0.58775704,\n",
       "       0.53113959, 0.66018578, 0.54368138, 0.52865229, 0.58061057,\n",
       "       0.5419212 , 0.72874815, 0.56019549, 0.44208754, 0.66479193,\n",
       "       0.72766512, 0.56279078, 0.51991208, 0.51816723, 0.61017244])"
      ]
     },
     "execution_count": 62,
     "metadata": {},
     "output_type": "execute_result"
    }
   ],
   "source": [
    "store_mean_norm_grad"
   ]
  },
  {
   "cell_type": "code",
   "execution_count": 63,
   "metadata": {},
   "outputs": [],
   "source": [
    "def set_box_color(bp, color):\n",
    "    \"\"\"Set colour for boxplot.\"\"\"\n",
    "    plt.setp(bp['boxes'], color=color)\n",
    "    plt.setp(bp['whiskers'], color=color)\n",
    "    plt.setp(bp['caps'], color=color)\n",
    "    plt.setp(bp['medians'], color=color)\n",
    "    \n",
    "def create_boxplots_ratio(arr1, arr2, labels, ticks):\n",
    "    plt.figure(figsize=(7, 5))\n",
    "    \n",
    "    max_num = max(np.max(arr1), np.max(arr2))\n",
    "    plt.ylim(0, max_num + 0.1)\n",
    "    bpl = plt.boxplot(arr1.T,\n",
    "                      positions=np.array(range(len(arr1)))*2.0-0.4)\n",
    "    bpr = plt.boxplot(arr2.T,\n",
    "                      positions=np.array(range(len(arr2)))*2.0+0.4)\n",
    "    set_box_color(bpl, 'green')\n",
    "    set_box_color(bpr, 'navy')\n",
    "    plt.plot([], c='green', label=labels[0])\n",
    "    plt.plot([], c='navy', label=labels[1])\n",
    "    plt.legend(bbox_to_anchor=(0.99, 1.025), loc='upper left',\n",
    "               prop={'size': 15})\n",
    "    plt.xlabel(r'$\\beta$', size=14)\n",
    "    plt.xticks(np.arange(0, len(ticks) * 2, 2), ticks, size=15)\n",
    "    plt.yticks(fontsize=14)\n",
    "    plt.tight_layout()"
   ]
  },
  {
   "cell_type": "markdown",
   "metadata": {},
   "source": [
    "# Total number of local minima"
   ]
  },
  {
   "cell_type": "code",
   "execution_count": 65,
   "metadata": {},
   "outputs": [],
   "source": [
    "ticks = []\n",
    "labels = []\n",
    "for beta in beta_list:\n",
    "    ticks.append(beta)\n",
    "for m in m_list:\n",
    "    labels.append(r'$M =$ %s' % (m))"
   ]
  },
  {
   "cell_type": "code",
   "execution_count": 66,
   "metadata": {},
   "outputs": [
    {
     "data": {
      "image/png": "[encoded data removed]",
      "text/plain": [
       "<Figure size 700x500 with 1 Axes>"
      ]
     },
     "metadata": {},
     "output_type": "display_data"
    }
   ],
   "source": [
    "create_boxplots_ratio(total_no_minimizers_prop[0], total_no_minimizers_prop[1], labels, ticks)"
   ]
  },
  {
   "cell_type": "markdown",
   "metadata": {},
   "source": [
    "# Efficiency"
   ]
  },
  {
   "cell_type": "code",
   "execution_count": 67,
   "metadata": {},
   "outputs": [
    {
     "data": {
      "image/png": "[encoded data removed]",
      "text/plain": [
       "<Figure size 700x500 with 1 Axes>"
      ]
     },
     "metadata": {},
     "output_type": "display_data"
    }
   ],
   "source": [
    "create_boxplots_ratio(time_taken_prop[0], time_taken_prop[1], labels, ticks)"
   ]
  },
  {
   "cell_type": "markdown",
   "metadata": {},
   "source": [
    "# Excessive descents"
   ]
  },
  {
   "cell_type": "code",
   "execution_count": 68,
   "metadata": {},
   "outputs": [
    {
     "data": {
      "image/png": "[encoded data removed]",
      "text/plain": [
       "<Figure size 700x500 with 1 Axes>"
      ]
     },
     "metadata": {},
     "output_type": "display_data"
    }
   ],
   "source": [
    "create_boxplots_ratio(extra_descents_metod[0], extra_descents_metod[1], labels, ticks)"
   ]
  },
  {
   "cell_type": "code",
   "execution_count": null,
   "metadata": {},
   "outputs": [],
   "source": []
  },
  {
   "cell_type": "code",
   "execution_count": null,
   "metadata": {},
   "outputs": [],
   "source": []
  },
  {
   "cell_type": "code",
   "execution_count": null,
   "metadata": {},
   "outputs": [],
   "source": []
  }
 ],
 "metadata": {
  "kernelspec": {
   "display_name": "Python 3",
   "language": "python",
   "name": "python3"
  },
  "language_info": {
   "codemirror_mode": {
    "name": "ipython",
    "version": 3
   },
   "file_extension": ".py",
   "mimetype": "text/x-python",
   "name": "python",
   "nbconvert_exporter": "python",
   "pygments_lexer": "ipython3",
   "version": "3.8.5"
  }
 },
 "nbformat": 4,
 "nbformat_minor": 2
}
